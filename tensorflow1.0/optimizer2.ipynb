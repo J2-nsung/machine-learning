{
 "cells": [
  {
   "cell_type": "code",
   "execution_count": 1,
   "metadata": {},
   "outputs": [],
   "source": [
    "import numpy as np\n",
    "import tensorflow as tf"
   ]
  },
  {
   "cell_type": "code",
   "execution_count": 3,
   "metadata": {},
   "outputs": [
    {
     "name": "stdout",
     "output_type": "stream",
     "text": [
      "0 0.5 0.5 1.25\n",
      "1 0.59999996 0.6 0.7999999\n",
      "2 0.6988122 0.69881225 0.4535703\n",
      "3 0.7951277 0.79512775 0.2098632\n",
      "4 0.8870833 0.88708335 0.0637509\n",
      "5 0.9721841 0.9721842 0.003868599\n",
      "6 1.04743 1.04743 0.011248043\n",
      "7 1.1097876 1.1097876 0.06026657\n",
      "8 1.156945 1.156945 0.12315865\n",
      "9 1.1879507 1.1879507 0.1766274\n",
      "10 1.2033224 1.2033224 0.2067\n",
      "11 1.2046584 1.2046584 0.20942527\n",
      "12 1.1941129 1.1941129 0.18839909\n",
      "13 1.174009 1.174009 0.1513956\n",
      "14 1.146643 1.146643 0.10752091\n"
     ]
    }
   ],
   "source": [
    "x = tf.Variable(.5, dtype = tf.float32)\n",
    "y = tf.Variable(.5, dtype = tf.float32)\n",
    "\n",
    "loss = tf.square(x + y - 2) + tf.square(y - 1)\n",
    "optimizer = tf.train.AdamOptimizer(0.1)\n",
    "train = optimizer.minimize(loss)\n",
    "\n",
    "init = tf.global_variables_initializer()\n",
    "with tf.Session() as sess:\n",
    "    sess.run(init)\n",
    "    for epoch in range(15):\n",
    "        curr_x, curr_y, curr_loss, = sess.run([x, y, loss])\n",
    "        print(epoch, curr_x, curr_y, curr_loss)\n",
    "        sess.run(train)"
   ]
  },
  {
   "cell_type": "code",
   "execution_count": null,
   "metadata": {},
   "outputs": [],
   "source": []
  }
 ],
 "metadata": {
  "kernelspec": {
   "display_name": "Python 3",
   "language": "python",
   "name": "python3"
  },
  "language_info": {
   "codemirror_mode": {
    "name": "ipython",
    "version": 3
   },
   "file_extension": ".py",
   "mimetype": "text/x-python",
   "name": "python",
   "nbconvert_exporter": "python",
   "pygments_lexer": "ipython3",
   "version": "3.7.3"
  }
 },
 "nbformat": 4,
 "nbformat_minor": 2
}
