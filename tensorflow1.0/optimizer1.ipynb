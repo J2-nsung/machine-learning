{
 "cells": [
  {
   "cell_type": "code",
   "execution_count": 1,
   "metadata": {},
   "outputs": [],
   "source": [
    "import numpy as np\n",
    "import tensorflow as tf"
   ]
  },
  {
   "cell_type": "code",
   "execution_count": 2,
   "metadata": {},
   "outputs": [],
   "source": [
    "x = tf.Variable(-1.0, dtype = tf.float32)\n",
    "y = tf.Variable(-0.5, dtype = tf.float32)"
   ]
  },
  {
   "cell_type": "code",
   "execution_count": 4,
   "metadata": {},
   "outputs": [],
   "source": [
    "# square : 제곱, subtract(x,2): x-2\n",
    "loss = tf.square(tf.subtract(x, 2)) + tf.square(tf.subtract(y, 2))"
   ]
  },
  {
   "cell_type": "code",
   "execution_count": 5,
   "metadata": {},
   "outputs": [],
   "source": [
    "optimizer = tf.train.GradientDescentOptimizer(0.25)"
   ]
  },
  {
   "cell_type": "code",
   "execution_count": 6,
   "metadata": {},
   "outputs": [],
   "source": [
    "train = optimizer.minimize(loss)"
   ]
  },
  {
   "cell_type": "code",
   "execution_count": 8,
   "metadata": {},
   "outputs": [
    {
     "name": "stdout",
     "output_type": "stream",
     "text": [
      "0 -1.0 -0.5 15.25\n",
      "1 0.5 0.75 3.8125\n",
      "2 1.25 1.375 0.953125\n",
      "3 1.625 1.6875 0.23828125\n",
      "4 1.8125 1.84375 0.059570312\n",
      "5 1.90625 1.921875 0.014892578\n",
      "6 1.953125 1.9609375 0.0037231445\n",
      "7 1.9765625 1.9804688 0.00093078613\n",
      "8 1.9882812 1.9902344 0.00023269653\n",
      "9 1.9941406 1.9951172 5.8174133e-05\n",
      "10 1.9970703 1.9975586 1.4543533e-05\n",
      "11 1.9985352 1.9987793 3.6358833e-06\n",
      "12 1.9992676 1.9993896 9.0897083e-07\n",
      "13 1.9996338 1.9996948 2.2724271e-07\n",
      "14 1.9998169 1.9998474 5.6810677e-08\n"
     ]
    }
   ],
   "source": [
    "init = tf.global_variables_initializer()\n",
    "with tf.Session() as sess:\n",
    "    sess.run(init)\n",
    "    for epoch in range(15):\n",
    "        curr_x, curr_y, curr_loss = sess.run([x, y, loss])\n",
    "        print(epoch, curr_x, curr_y, curr_loss)\n",
    "        out = sess.run(train)"
   ]
  },
  {
   "cell_type": "code",
   "execution_count": null,
   "metadata": {},
   "outputs": [],
   "source": []
  }
 ],
 "metadata": {
  "kernelspec": {
   "display_name": "Python 3",
   "language": "python",
   "name": "python3"
  },
  "language_info": {
   "codemirror_mode": {
    "name": "ipython",
    "version": 3
   },
   "file_extension": ".py",
   "mimetype": "text/x-python",
   "name": "python",
   "nbconvert_exporter": "python",
   "pygments_lexer": "ipython3",
   "version": "3.7.3"
  }
 },
 "nbformat": 4,
 "nbformat_minor": 2
}
