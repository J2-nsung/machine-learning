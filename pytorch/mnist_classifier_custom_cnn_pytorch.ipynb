{
  "nbformat": 4,
  "nbformat_minor": 0,
  "metadata": {
    "colab": {
      "name": "Untitled.ipynb",
      "provenance": [],
      "collapsed_sections": []
    },
    "kernelspec": {
      "name": "python3",
      "display_name": "Python 3"
    },
    "language_info": {
      "name": "python"
    },
    "accelerator": "GPU"
  },
  "cells": [
    {
      "cell_type": "code",
      "metadata": {
        "id": "onBKqiGku5Ss"
      },
      "source": [
        "import os\n",
        "import sys\n",
        "import time\n",
        "import copy\n",
        "import random\n",
        "\n",
        "import numpy as np\n",
        "\n",
        "import torch\n",
        "import torch.nn as nn\n",
        "import torch.optim as optim\n",
        "import torchvision.transforms as transforms\n",
        "from torch.utils.data import Dataset, DataLoader\n",
        "\n",
        "import sklearn.datasets\n",
        "\n",
        "import matplotlib.pyplot as plt"
      ],
      "execution_count": 1,
      "outputs": []
    },
    {
      "cell_type": "markdown",
      "metadata": {
        "id": "0QTdf4v-x2lJ"
      },
      "source": [
        "## Load MNIST"
      ]
    },
    {
      "cell_type": "code",
      "metadata": {
        "id": "AnFfbMU_vFkU"
      },
      "source": [
        "mnist = sklearn.datasets.fetch_openml('mnist_784', data_home='mnist_784')"
      ],
      "execution_count": 2,
      "outputs": []
    },
    {
      "cell_type": "code",
      "metadata": {
        "id": "H-aa0WHvvU24"
      },
      "source": [
        "x_train = torch.tensor(mnist.data[:60000].values, dtype=torch.float) / 255.\n",
        "y_train = torch.tensor([int(x) for x in mnist.target[:60000]])\n",
        "x_test = torch.tensor(mnist.data[60000:].values, dtype=torch.float) / 255.\n",
        "y_test = torch.tensor([int(x) for x in mnist.target[60000:]])"
      ],
      "execution_count": 3,
      "outputs": []
    },
    {
      "cell_type": "code",
      "metadata": {
        "colab": {
          "base_uri": "https://localhost:8080/"
        },
        "id": "Cw7oBtr-mAdx",
        "outputId": "379a59a1-0d31-4391-893c-fa1622c157ec"
      },
      "source": [
        "x_train.shape, x_train[0].shape"
      ],
      "execution_count": 4,
      "outputs": [
        {
          "output_type": "execute_result",
          "data": {
            "text/plain": [
              "(torch.Size([60000, 784]), torch.Size([784]))"
            ]
          },
          "metadata": {},
          "execution_count": 4
        }
      ]
    },
    {
      "cell_type": "code",
      "metadata": {
        "colab": {
          "base_uri": "https://localhost:8080/",
          "height": 282
        },
        "id": "ubJh911EyK7X",
        "outputId": "8f511cdc-903b-4cea-a745-83b573430c69"
      },
      "source": [
        "plt.imshow(1 - x_train[0].reshape((28, 28)), cmap=\"gray\", vmin=0, vmax=1)"
      ],
      "execution_count": 5,
      "outputs": [
        {
          "output_type": "execute_result",
          "data": {
            "text/plain": [
              "<matplotlib.image.AxesImage at 0x7fe301d91090>"
            ]
          },
          "metadata": {},
          "execution_count": 5
        },
        {
          "output_type": "display_data",
          "data": {
            "image/png": "[encoded data removed]",
            "text/plain": [
              "<Figure size 432x288 with 1 Axes>"
            ]
          },
          "metadata": {
            "needs_background": "light"
          }
        }
      ]
    },
    {
      "cell_type": "markdown",
      "metadata": {
        "id": "Q0U2ZmeLaRjJ"
      },
      "source": [
        "## Define Custom Dataset"
      ]
    },
    {
      "cell_type": "code",
      "metadata": {
        "id": "Iix0MWx0ZuYB"
      },
      "source": [
        "class CustomDataset(Dataset):\n",
        "    def __init__(self, images, labels):\n",
        "        self.images = images\n",
        "        self.labels = labels\n",
        "\n",
        "    def __getitem__(self, index):\n",
        "        image = self.images[index].reshape((1, 28, 28))\n",
        "        return image, self.labels[index]\n",
        "\n",
        "    def __len__(self):\n",
        "        return len(self.images)"
      ],
      "execution_count": 6,
      "outputs": []
    },
    {
      "cell_type": "markdown",
      "metadata": {
        "id": "qoJt4Hlwx6pF"
      },
      "source": [
        "## Define Model"
      ]
    },
    {
      "cell_type": "code",
      "metadata": {
        "id": "PxgPhRgNxU2d"
      },
      "source": [
        "class CNN(nn.Module):\n",
        "    def __init__(self):\n",
        "        super(CNN, self).__init__()\n",
        "        self.conv_1 = nn.Conv2d(in_channels=1, out_channels=32, kernel_size=3, stride=1, padding=1)  # (28, 28, 32)\n",
        "        self.relu_1 = nn.ReLU()\n",
        "        self.pool_1 = nn.MaxPool2d(kernel_size=2, stride=2)  # (14, 14, 32)\n",
        "\n",
        "        self.conv_2 = nn.Conv2d(in_channels=32, out_channels=64, kernel_size=3, stride=1, padding=1)  # (14, 14, 64)\n",
        "        self.relu_2 = nn.ReLU()\n",
        "        self.pool_2 = nn.MaxPool2d(kernel_size=2, stride=2)  # (7, 7, 64)\n",
        "\n",
        "        self.fc_1 = nn.Linear(7 * 7 * 64, 10)\n",
        "\n",
        "    def forward(self, x):\n",
        "        x = self.conv_1(x)\n",
        "        x = self.relu_1(x)\n",
        "        x = self.pool_1(x)\n",
        "\n",
        "        x = self.conv_2(x)\n",
        "        x = self.relu_2(x)\n",
        "        x = self.pool_2(x)\n",
        "        \n",
        "        x = x.view(x.size(0), -1)\n",
        "        x = self.fc_1(x)\n",
        "\n",
        "        return x"
      ],
      "execution_count": 7,
      "outputs": []
    },
    {
      "cell_type": "markdown",
      "metadata": {
        "id": "smxP5GHKWuvG"
      },
      "source": [
        "## Hyper-paremeters"
      ]
    },
    {
      "cell_type": "code",
      "metadata": {
        "id": "mT2GueGNxpp5"
      },
      "source": [
        "learning_rate = 1e-3\n",
        "batch_size = 100\n",
        "num_epochs = 5\n",
        "device = 'cuda' if torch.cuda.is_available() else 'cpu'"
      ],
      "execution_count": 8,
      "outputs": []
    },
    {
      "cell_type": "markdown",
      "metadata": {
        "id": "2O601jora2_8"
      },
      "source": [
        "## Make Dataset, DataLoader"
      ]
    },
    {
      "cell_type": "code",
      "metadata": {
        "id": "1zb0xovEW6nD"
      },
      "source": [
        "train_dataset = CustomDataset(x_train, y_train)\n",
        "test_dataset = CustomDataset(x_test, y_test)"
      ],
      "execution_count": 9,
      "outputs": []
    },
    {
      "cell_type": "code",
      "metadata": {
        "id": "WCu8FW1sax5p"
      },
      "source": [
        "train_loader = DataLoader(\n",
        "    dataset=train_dataset,\n",
        "    batch_size=batch_size,\n",
        "    shuffle=True,\n",
        "    drop_last=True,\n",
        ")\n",
        "\n",
        "test_loader = DataLoader(\n",
        "    dataset=test_dataset,\n",
        "    batch_size=batch_size,\n",
        "    shuffle=False,\n",
        ")"
      ],
      "execution_count": 10,
      "outputs": []
    },
    {
      "cell_type": "code",
      "metadata": {
        "id": "ZPt-SnkYbO_J"
      },
      "source": [
        "model = CNN().to(device)\n",
        "criterion = nn.CrossEntropyLoss().to(device)\n",
        "optimizer = optim.AdamW(model.parameters(), lr=learning_rate)"
      ],
      "execution_count": 11,
      "outputs": []
    },
    {
      "cell_type": "markdown",
      "metadata": {
        "id": "iuVmaWO0b6AI"
      },
      "source": [
        "## Training"
      ]
    },
    {
      "cell_type": "code",
      "metadata": {
        "colab": {
          "base_uri": "https://localhost:8080/"
        },
        "id": "biQf7DGFb36E",
        "outputId": "b94e70f4-f286-4271-c958-0f7c5bec08e1"
      },
      "source": [
        "for epoch in range(num_epochs):\n",
        "    correct_count = 0\n",
        "\n",
        "    for inputs, labels in train_loader:\n",
        "        inputs = inputs.to(device)\n",
        "        labels = labels.to(device)\n",
        "\n",
        "        optimizer.zero_grad()\n",
        "\n",
        "        outputs = model(inputs)\n",
        "        preds = torch.argmax(outputs, dim=-1)\n",
        "        loss = criterion(outputs, labels)\n",
        "\n",
        "        loss.backward()\n",
        "        optimizer.step()\n",
        "\n",
        "        correct_count += torch.sum(preds == labels)\n",
        "\n",
        "    print(f'[Epoch {epoch+1}/{num_epochs}] acc: {correct_count.double() / len(train_loader):.3f}')"
      ],
      "execution_count": 12,
      "outputs": [
        {
          "output_type": "stream",
          "name": "stdout",
          "text": [
            "[Epoch 1/5] acc: 93.923\n",
            "[Epoch 2/5] acc: 98.130\n",
            "[Epoch 3/5] acc: 98.528\n",
            "[Epoch 4/5] acc: 98.858\n",
            "[Epoch 5/5] acc: 99.075\n"
          ]
        }
      ]
    },
    {
      "cell_type": "markdown",
      "metadata": {
        "id": "If53X3aZVMu3"
      },
      "source": [
        "## Test"
      ]
    },
    {
      "cell_type": "code",
      "metadata": {
        "id": "B966FmK8kyCQ",
        "colab": {
          "base_uri": "https://localhost:8080/"
        },
        "outputId": "4ca99b65-a22b-4e73-c1e5-c3e67a4f07a3"
      },
      "source": [
        "correct_count = 0\n",
        "\n",
        "with torch.no_grad():\n",
        "    for inputs, labels in test_loader:\n",
        "        inputs = inputs.to(device)\n",
        "        labels = labels.to(device)\n",
        "\n",
        "        outputs = model(inputs)\n",
        "        preds = torch.argmax(outputs, dim=-1)\n",
        "\n",
        "        correct_count += torch.sum(preds == labels)\n",
        "\n",
        "print(f\"Accuracy: {correct_count.double() / len(test_loader):.3f}%\")"
      ],
      "execution_count": 13,
      "outputs": [
        {
          "output_type": "stream",
          "name": "stdout",
          "text": [
            "Accuracy: 98.700%\n"
          ]
        }
      ]
    },
    {
      "cell_type": "code",
      "source": [
        ""
      ],
      "metadata": {
        "id": "FGO5WoSHU18s"
      },
      "execution_count": 13,
      "outputs": []
    }
  ]
}