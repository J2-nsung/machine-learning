{
  "nbformat": 4,
  "nbformat_minor": 0,
  "metadata": {
    "colab": {
      "name": "Untitled5.ipynb",
      "provenance": []
    },
    "kernelspec": {
      "name": "python3",
      "display_name": "Python 3"
    },
    "language_info": {
      "name": "python"
    },
    "accelerator": "GPU"
  },
  "cells": [
    {
      "cell_type": "code",
      "execution_count": 1,
      "metadata": {
        "id": "kZVFhsN7miyf"
      },
      "outputs": [],
      "source": [
        "import os"
      ]
    },
    {
      "cell_type": "code",
      "source": [
        "os.getcwd()"
      ],
      "metadata": {
        "colab": {
          "base_uri": "https://localhost:8080/",
          "height": 35
        },
        "id": "mrU4z_Qvs2j2",
        "outputId": "d28b53e0-1b0a-447d-cf47-b4ef806088b6"
      },
      "execution_count": 2,
      "outputs": [
        {
          "output_type": "execute_result",
          "data": {
            "application/vnd.google.colaboratory.intrinsic+json": {
              "type": "string"
            },
            "text/plain": [
              "'/content'"
            ]
          },
          "metadata": {},
          "execution_count": 2
        }
      ]
    },
    {
      "cell_type": "code",
      "source": [
        "%cd drive/My\\ Drive/Colab\\ Notebooks/yolact"
      ],
      "metadata": {
        "colab": {
          "base_uri": "https://localhost:8080/"
        },
        "id": "Qla6JcHvs3xR",
        "outputId": "99295972-d5d2-490c-ebf6-310c6432eb79"
      },
      "execution_count": 3,
      "outputs": [
        {
          "output_type": "stream",
          "name": "stdout",
          "text": [
            "/content/drive/My Drive/Colab Notebooks/yolact\n"
          ]
        }
      ]
    },
    {
      "cell_type": "code",
      "source": [
        "# !git clone https://github.com/dbolya/yolact.git"
      ],
      "metadata": {
        "id": "Fs6ln2vctBvc"
      },
      "execution_count": 4,
      "outputs": []
    },
    {
      "cell_type": "code",
      "source": [
        "!python ./train.py --config=yolact_resnet50_cig_butts_config"
      ],
      "metadata": {
        "colab": {
          "base_uri": "https://localhost:8080/"
        },
        "id": "eU6HNnT4tEzu",
        "outputId": "1865d406-039d-4e0a-fe4e-cdd24d80078b"
      },
      "execution_count": 5,
      "outputs": [
        {
          "output_type": "stream",
          "name": "stdout",
          "text": [
            "loading annotations into memory...\n",
            "Done (t=2.13s)\n",
            "creating index...\n",
            "index created!\n",
            "loading annotations into memory...\n",
            "Done (t=0.97s)\n",
            "creating index...\n",
            "index created!\n",
            "/usr/local/lib/python3.7/dist-packages/torch/jit/_recursive.py:235: UserWarning: 'lat_layers' was found in ScriptModule constants,  but it is a non-constant submodule. Consider removing it.\n",
            "  \" but it is a non-constant {}. Consider removing it.\".format(name, hint))\n",
            "/usr/local/lib/python3.7/dist-packages/torch/jit/_recursive.py:235: UserWarning: 'pred_layers' was found in ScriptModule constants,  but it is a non-constant submodule. Consider removing it.\n",
            "  \" but it is a non-constant {}. Consider removing it.\".format(name, hint))\n",
            "/usr/local/lib/python3.7/dist-packages/torch/jit/_recursive.py:235: UserWarning: 'downsample_layers' was found in ScriptModule constants,  but it is a non-constant submodule. Consider removing it.\n",
            "  \" but it is a non-constant {}. Consider removing it.\".format(name, hint))\n",
            "Initializing weights...\n",
            "/usr/local/lib/python3.7/dist-packages/torch/utils/data/dataloader.py:481: UserWarning: This DataLoader will create 4 worker processes in total. Our suggested max number of worker in current system is 2, which is smaller than what this DataLoader is going to create. Please be aware that excessive worker creation might get DataLoader running slow or even freeze, lower the worker number to avoid potential slowness/freeze if necessary.\n",
            "  cpuset_checked))\n",
            "Begin training!\n",
            "\n",
            "/content/drive/My Drive/Colab Notebooks/yolact/utils/augmentations.py:309: VisibleDeprecationWarning: Creating an ndarray from ragged nested sequences (which is a list-or-tuple of lists-or-tuples-or ndarrays with different lengths or shapes) is deprecated. If you meant to do this, you must specify 'dtype=object' when creating the ndarray\n",
            "  mode = random.choice(self.sample_options)\n",
            "/content/drive/My Drive/Colab Notebooks/yolact/utils/augmentations.py:309: VisibleDeprecationWarning: Creating an ndarray from ragged nested sequences (which is a list-or-tuple of lists-or-tuples-or ndarrays with different lengths or shapes) is deprecated. If you meant to do this, you must specify 'dtype=object' when creating the ndarray\n",
            "  mode = random.choice(self.sample_options)\n",
            "/content/drive/My Drive/Colab Notebooks/yolact/utils/augmentations.py:309: VisibleDeprecationWarning: Creating an ndarray from ragged nested sequences (which is a list-or-tuple of lists-or-tuples-or ndarrays with different lengths or shapes) is deprecated. If you meant to do this, you must specify 'dtype=object' when creating the ndarray\n",
            "  mode = random.choice(self.sample_options)\n",
            "/content/drive/My Drive/Colab Notebooks/yolact/utils/augmentations.py:309: VisibleDeprecationWarning: Creating an ndarray from ragged nested sequences (which is a list-or-tuple of lists-or-tuples-or ndarrays with different lengths or shapes) is deprecated. If you meant to do this, you must specify 'dtype=object' when creating the ndarray\n",
            "  mode = random.choice(self.sample_options)\n",
            "[  0]       0 || B: 5.923 | C: 16.711 | M: 7.111 | S: 6.218 | T: 35.963 || ETA: 117 days, 17:57:39 || timer: 12.717\n",
            "[  0]      10 || B: 5.477 | C: 11.698 | M: 5.774 | S: 4.361 | T: 27.311 || ETA: 27 days, 20:02:10 || timer: 1.570\n",
            "[  0]      20 || B: 5.381 | C: 9.357 | M: 5.551 | S: 2.927 | T: 23.217 || ETA: 22 days, 1:39:08 || timer: 1.618\n",
            "[  0]      30 || B: 5.266 | C: 7.964 | M: 5.457 | S: 2.114 | T: 20.801 || ETA: 19 days, 15:52:53 || timer: 1.584\n",
            "[  0]      40 || B: 5.215 | C: 7.006 | M: 5.345 | S: 1.642 | T: 19.208 || ETA: 18 days, 10:30:46 || timer: 1.651\n",
            "[  0]      50 || B: 5.180 | C: 6.309 | M: 5.346 | S: 1.343 | T: 18.179 || ETA: 17 days, 20:52:06 || timer: 1.602\n",
            "[  0]      60 || B: 5.127 | C: 5.800 | M: 5.323 | S: 1.142 | T: 17.392 || ETA: 17 days, 7:53:10 || timer: 1.563\n",
            "[  0]      70 || B: 5.038 | C: 5.379 | M: 5.272 | S: 0.995 | T: 16.684 || ETA: 16 days, 22:31:41 || timer: 1.563\n",
            "[  0]      80 || B: 5.014 | C: 5.045 | M: 5.238 | S: 0.881 | T: 16.178 || ETA: 16 days, 15:44:35 || timer: 1.557\n",
            "[  0]      90 || B: 4.965 | C: 4.783 | M: 5.165 | S: 0.793 | T: 15.706 || ETA: 16 days, 10:02:14 || timer: 1.571\n",
            "[  0]     100 || B: 4.857 | C: 4.435 | M: 5.051 | S: 0.667 | T: 15.010 || ETA: 16 days, 5:37:31 || timer: 1.560\n",
            "[  0]     110 || B: 4.740 | C: 3.569 | M: 4.914 | S: 0.258 | T: 13.481 || ETA: 16 days, 2:13:06 || timer: 1.588\n",
            "[  0]     120 || B: 4.669 | C: 3.134 | M: 4.784 | S: 0.132 | T: 12.718 || ETA: 15 days, 23:09:34 || timer: 1.570\n",
            "[  0]     130 || B: 4.564 | C: 2.873 | M: 4.635 | S: 0.099 | T: 12.171 || ETA: 15 days, 20:35:46 || timer: 1.601\n",
            "[  0]     140 || B: 4.425 | C: 2.695 | M: 4.455 | S: 0.088 | T: 11.663 || ETA: 15 days, 18:31:00 || timer: 1.542\n",
            "[  0]     150 || B: 4.256 | C: 2.585 | M: 4.214 | S: 0.082 | T: 11.137 || ETA: 15 days, 16:40:13 || timer: 1.574\n",
            "[  0]     160 || B: 4.133 | C: 2.498 | M: 3.958 | S: 0.077 | T: 10.666 || ETA: 15 days, 14:58:33 || timer: 1.588\n",
            "[  0]     170 || B: 4.003 | C: 2.440 | M: 3.724 | S: 0.073 | T: 10.240 || ETA: 15 days, 13:21:13 || timer: 1.568\n",
            "[  0]     180 || B: 3.800 | C: 2.382 | M: 3.531 | S: 0.070 | T: 9.783 || ETA: 15 days, 11:59:38 || timer: 1.598\n",
            "[  0]     190 || B: 3.610 | C: 2.319 | M: 3.399 | S: 0.068 | T: 9.396 || ETA: 15 days, 10:47:32 || timer: 1.562\n",
            "[  0]     200 || B: 3.447 | C: 2.276 | M: 3.245 | S: 0.066 | T: 9.033 || ETA: 15 days, 9:44:11 || timer: 1.598\n",
            "[  0]     210 || B: 3.280 | C: 2.235 | M: 3.080 | S: 0.063 | T: 8.658 || ETA: 15 days, 8:45:24 || timer: 1.575\n",
            "[  0]     220 || B: 3.082 | C: 2.191 | M: 2.903 | S: 0.060 | T: 8.235 || ETA: 15 days, 8:06:41 || timer: 1.615\n",
            "[  0]     230 || B: 2.885 | C: 2.130 | M: 2.740 | S: 0.056 | T: 7.811 || ETA: 15 days, 7:24:51 || timer: 1.583\n",
            "[  0]     240 || B: 2.769 | C: 2.112 | M: 2.670 | S: 0.054 | T: 7.606 || ETA: 15 days, 6:44:48 || timer: 1.592\n",
            "/content/drive/My Drive/Colab Notebooks/yolact/utils/augmentations.py:309: VisibleDeprecationWarning: Creating an ndarray from ragged nested sequences (which is a list-or-tuple of lists-or-tuples-or ndarrays with different lengths or shapes) is deprecated. If you meant to do this, you must specify 'dtype=object' when creating the ndarray\n",
            "  mode = random.choice(self.sample_options)\n",
            "/content/drive/My Drive/Colab Notebooks/yolact/utils/augmentations.py:309: VisibleDeprecationWarning: Creating an ndarray from ragged nested sequences (which is a list-or-tuple of lists-or-tuples-or ndarrays with different lengths or shapes) is deprecated. If you meant to do this, you must specify 'dtype=object' when creating the ndarray\n",
            "  mode = random.choice(self.sample_options)\n",
            "/content/drive/My Drive/Colab Notebooks/yolact/utils/augmentations.py:309: VisibleDeprecationWarning: Creating an ndarray from ragged nested sequences (which is a list-or-tuple of lists-or-tuples-or ndarrays with different lengths or shapes) is deprecated. If you meant to do this, you must specify 'dtype=object' when creating the ndarray\n",
            "  mode = random.choice(self.sample_options)\n",
            "/content/drive/My Drive/Colab Notebooks/yolact/utils/augmentations.py:309: VisibleDeprecationWarning: Creating an ndarray from ragged nested sequences (which is a list-or-tuple of lists-or-tuples-or ndarrays with different lengths or shapes) is deprecated. If you meant to do this, you must specify 'dtype=object' when creating the ndarray\n",
            "  mode = random.choice(self.sample_options)\n",
            "[  1]     250 || B: 2.663 | C: 2.054 | M: 2.544 | S: 0.053 | T: 7.314 || ETA: 15 days, 7:24:33 || timer: 3.238\n",
            "[  1]     260 || B: 2.507 | C: 1.991 | M: 2.438 | S: 0.051 | T: 6.987 || ETA: 15 days, 6:50:29 || timer: 1.576\n",
            "[  1]     270 || B: 2.391 | C: 1.929 | M: 2.342 | S: 0.050 | T: 6.712 || ETA: 15 days, 6:20:34 || timer: 1.606\n",
            "[  1]     280 || B: 2.327 | C: 1.903 | M: 2.218 | S: 0.049 | T: 6.496 || ETA: 15 days, 5:54:13 || timer: 1.601\n",
            "[  1]     290 || B: 2.254 | C: 1.868 | M: 2.068 | S: 0.046 | T: 6.237 || ETA: 15 days, 5:25:03 || timer: 1.595\n",
            "[  1]     300 || B: 2.228 | C: 1.826 | M: 1.964 | S: 0.045 | T: 6.064 || ETA: 15 days, 4:54:25 || timer: 1.581\n",
            "[  1]     310 || B: 2.150 | C: 1.757 | M: 1.845 | S: 0.043 | T: 5.796 || ETA: 15 days, 4:29:03 || timer: 1.590\n",
            "[  1]     320 || B: 2.096 | C: 1.714 | M: 1.804 | S: 0.042 | T: 5.657 || ETA: 15 days, 4:02:14 || timer: 1.589\n",
            "[  1]     330 || B: 2.103 | C: 1.713 | M: 1.798 | S: 0.042 | T: 5.656 || ETA: 15 days, 3:38:17 || timer: 1.595\n",
            "[  1]     340 || B: 2.030 | C: 1.649 | M: 1.744 | S: 0.041 | T: 5.463 || ETA: 15 days, 3:15:55 || timer: 1.588\n",
            "[  1]     350 || B: 1.938 | C: 1.607 | M: 1.735 | S: 0.041 | T: 5.322 || ETA: 15 days, 2:52:26 || timer: 1.594\n",
            "[  1]     360 || B: 1.884 | C: 1.568 | M: 1.740 | S: 0.041 | T: 5.233 || ETA: 15 days, 2:33:01 || timer: 1.597\n",
            "[  1]     370 || B: 1.859 | C: 1.539 | M: 1.729 | S: 0.040 | T: 5.168 || ETA: 15 days, 2:14:52 || timer: 1.591\n",
            "[  1]     380 || B: 1.812 | C: 1.494 | M: 1.693 | S: 0.040 | T: 5.039 || ETA: 15 days, 1:56:36 || timer: 1.590\n",
            "[  1]     390 || B: 1.787 | C: 1.467 | M: 1.662 | S: 0.039 | T: 4.954 || ETA: 15 days, 1:39:41 || timer: 1.567\n",
            "[  1]     400 || B: 1.770 | C: 1.449 | M: 1.683 | S: 0.038 | T: 4.940 || ETA: 15 days, 1:21:10 || timer: 1.587\n",
            "[  1]     410 || B: 1.748 | C: 1.450 | M: 1.714 | S: 0.039 | T: 4.951 || ETA: 15 days, 1:03:42 || timer: 1.591\n",
            "[  1]     420 || B: 1.732 | C: 1.472 | M: 1.723 | S: 0.038 | T: 4.965 || ETA: 15 days, 0:46:33 || timer: 1.578\n",
            "[  1]     430 || B: 1.687 | C: 1.452 | M: 1.699 | S: 0.038 | T: 4.876 || ETA: 15 days, 0:31:53 || timer: 1.573\n",
            "[  1]     440 || B: 1.653 | C: 1.445 | M: 1.649 | S: 0.038 | T: 4.785 || ETA: 15 days, 0:18:33 || timer: 1.577\n",
            "[  1]     450 || B: 1.648 | C: 1.468 | M: 1.642 | S: 0.037 | T: 4.794 || ETA: 15 days, 0:04:41 || timer: 1.562\n",
            "[  1]     460 || B: 1.619 | C: 1.451 | M: 1.594 | S: 0.036 | T: 4.700 || ETA: 14 days, 23:54:18 || timer: 1.590\n",
            "[  1]     470 || B: 1.594 | C: 1.464 | M: 1.548 | S: 0.036 | T: 4.642 || ETA: 14 days, 23:42:47 || timer: 1.562\n",
            "[  1]     480 || B: 1.562 | C: 1.445 | M: 1.521 | S: 0.036 | T: 4.564 || ETA: 14 days, 23:31:23 || timer: 1.581\n",
            "[  1]     490 || B: 1.542 | C: 1.421 | M: 1.520 | S: 0.036 | T: 4.519 || ETA: 14 days, 23:18:56 || timer: 1.583\n",
            "/content/drive/My Drive/Colab Notebooks/yolact/utils/augmentations.py:309: VisibleDeprecationWarning: Creating an ndarray from ragged nested sequences (which is a list-or-tuple of lists-or-tuples-or ndarrays with different lengths or shapes) is deprecated. If you meant to do this, you must specify 'dtype=object' when creating the ndarray\n",
            "  mode = random.choice(self.sample_options)\n",
            "/content/drive/My Drive/Colab Notebooks/yolact/utils/augmentations.py:309: VisibleDeprecationWarning: Creating an ndarray from ragged nested sequences (which is a list-or-tuple of lists-or-tuples-or ndarrays with different lengths or shapes) is deprecated. If you meant to do this, you must specify 'dtype=object' when creating the ndarray\n",
            "  mode = random.choice(self.sample_options)\n",
            "/content/drive/My Drive/Colab Notebooks/yolact/utils/augmentations.py:309: VisibleDeprecationWarning: Creating an ndarray from ragged nested sequences (which is a list-or-tuple of lists-or-tuples-or ndarrays with different lengths or shapes) is deprecated. If you meant to do this, you must specify 'dtype=object' when creating the ndarray\n",
            "  mode = random.choice(self.sample_options)\n",
            "/content/drive/My Drive/Colab Notebooks/yolact/utils/augmentations.py:309: VisibleDeprecationWarning: Creating an ndarray from ragged nested sequences (which is a list-or-tuple of lists-or-tuples-or ndarrays with different lengths or shapes) is deprecated. If you meant to do this, you must specify 'dtype=object' when creating the ndarray\n",
            "  mode = random.choice(self.sample_options)\n",
            "[  2]     500 || B: 1.501 | C: 1.395 | M: 1.445 | S: 0.035 | T: 4.375 || ETA: 14 days, 23:53:27 || timer: 3.522\n",
            "[  2]     510 || B: 1.478 | C: 1.369 | M: 1.377 | S: 0.033 | T: 4.257 || ETA: 14 days, 23:42:26 || timer: 1.581\n",
            "[  2]     520 || B: 1.417 | C: 1.303 | M: 1.300 | S: 0.032 | T: 4.052 || ETA: 14 days, 23:31:52 || timer: 1.579\n",
            "[  2]     530 || B: 1.412 | C: 1.328 | M: 1.312 | S: 0.032 | T: 4.085 || ETA: 14 days, 23:20:53 || timer: 1.592\n",
            "[  2]     540 || B: 1.428 | C: 1.350 | M: 1.338 | S: 0.033 | T: 4.149 || ETA: 14 days, 23:11:19 || timer: 1.573\n",
            "[  2]     550 || B: 1.433 | C: 1.333 | M: 1.358 | S: 0.035 | T: 4.159 || ETA: 14 days, 23:05:11 || timer: 1.569\n",
            "[  2]     560 || B: 1.463 | C: 1.360 | M: 1.390 | S: 0.038 | T: 4.249 || ETA: 14 days, 22:56:52 || timer: 1.598\n",
            "[  2]     570 || B: 1.459 | C: 1.339 | M: 1.436 | S: 0.038 | T: 4.272 || ETA: 14 days, 22:49:03 || timer: 1.600\n",
            "[  2]     580 || B: 1.478 | C: 1.341 | M: 1.465 | S: 0.038 | T: 4.323 || ETA: 14 days, 22:41:04 || timer: 1.565\n",
            "[  2]     590 || B: 1.472 | C: 1.365 | M: 1.455 | S: 0.038 | T: 4.330 || ETA: 14 days, 22:32:59 || timer: 1.568\n",
            "[  2]     600 || B: 1.470 | C: 1.378 | M: 1.468 | S: 0.039 | T: 4.355 || ETA: 14 days, 22:26:03 || timer: 1.565\n",
            "[  2]     610 || B: 1.454 | C: 1.376 | M: 1.483 | S: 0.040 | T: 4.353 || ETA: 14 days, 22:17:20 || timer: 1.558\n",
            "[  2]     620 || B: 1.488 | C: 1.402 | M: 1.509 | S: 0.040 | T: 4.439 || ETA: 14 days, 22:08:47 || timer: 1.576\n",
            "[  2]     630 || B: 1.431 | C: 1.320 | M: 1.443 | S: 0.039 | T: 4.233 || ETA: 14 days, 22:01:59 || timer: 1.583\n",
            "[  2]     640 || B: 1.401 | C: 1.274 | M: 1.410 | S: 0.037 | T: 4.121 || ETA: 14 days, 21:54:26 || timer: 1.555\n",
            "[  2]     650 || B: 1.379 | C: 1.236 | M: 1.359 | S: 0.034 | T: 4.008 || ETA: 14 days, 21:46:03 || timer: 1.569\n",
            "[  2]     660 || B: 1.328 | C: 1.206 | M: 1.330 | S: 0.031 | T: 3.895 || ETA: 14 days, 21:39:24 || timer: 1.579\n",
            "[  2]     670 || B: 1.279 | C: 1.167 | M: 1.268 | S: 0.030 | T: 3.744 || ETA: 14 days, 21:32:18 || timer: 1.584\n",
            "[  2]     680 || B: 1.228 | C: 1.154 | M: 1.235 | S: 0.029 | T: 3.646 || ETA: 14 days, 21:24:40 || timer: 1.585\n",
            "[  2]     690 || B: 1.194 | C: 1.134 | M: 1.232 | S: 0.028 | T: 3.589 || ETA: 14 days, 21:18:38 || timer: 1.563\n",
            "[  2]     700 || B: 1.154 | C: 1.116 | M: 1.233 | S: 0.028 | T: 3.531 || ETA: 14 days, 21:12:38 || timer: 1.581\n",
            "[  2]     710 || B: 1.129 | C: 1.108 | M: 1.217 | S: 0.028 | T: 3.481 || ETA: 14 days, 21:06:24 || timer: 1.572\n",
            "[  2]     720 || B: 1.083 | C: 1.116 | M: 1.192 | S: 0.028 | T: 3.419 || ETA: 14 days, 21:00:47 || timer: 1.574\n",
            "[  2]     730 || B: 1.092 | C: 1.119 | M: 1.165 | S: 0.027 | T: 3.403 || ETA: 14 days, 20:54:51 || timer: 1.560\n",
            "[  2]     740 || B: 1.086 | C: 1.130 | M: 1.151 | S: 0.026 | T: 3.393 || ETA: 14 days, 20:48:32 || timer: 1.585\n",
            "\n",
            "Computing validation mAP (this may take a while)...\n",
            "\n",
            "\n",
            "Calculating mAP...\n",
            "\n",
            "       |  all  |  .50  |  .55  |  .60  |  .65  |  .70  |  .75  |  .80  |  .85  |  .90  |  .95  |\n",
            "-------+-------+-------+-------+-------+-------+-------+-------+-------+-------+-------+-------+\n",
            "   box |  7.40 | 12.27 | 12.13 | 11.98 | 11.59 | 10.31 |  9.04 |  5.02 |  1.38 |  0.24 |  0.00 |\n",
            "  mask |  8.78 | 12.27 | 12.16 | 12.01 | 12.00 | 11.77 | 11.16 |  9.90 |  5.92 |  0.64 |  0.00 |\n",
            "-------+-------+-------+-------+-------+-------+-------+-------+-------+-------+-------+-------+\n",
            "\n",
            "/content/drive/My Drive/Colab Notebooks/yolact/utils/augmentations.py:309: VisibleDeprecationWarning: Creating an ndarray from ragged nested sequences (which is a list-or-tuple of lists-or-tuples-or ndarrays with different lengths or shapes) is deprecated. If you meant to do this, you must specify 'dtype=object' when creating the ndarray\n",
            "  mode = random.choice(self.sample_options)\n",
            "/content/drive/My Drive/Colab Notebooks/yolact/utils/augmentations.py:309: VisibleDeprecationWarning: Creating an ndarray from ragged nested sequences (which is a list-or-tuple of lists-or-tuples-or ndarrays with different lengths or shapes) is deprecated. If you meant to do this, you must specify 'dtype=object' when creating the ndarray\n",
            "  mode = random.choice(self.sample_options)\n",
            "/content/drive/My Drive/Colab Notebooks/yolact/utils/augmentations.py:309: VisibleDeprecationWarning: Creating an ndarray from ragged nested sequences (which is a list-or-tuple of lists-or-tuples-or ndarrays with different lengths or shapes) is deprecated. If you meant to do this, you must specify 'dtype=object' when creating the ndarray\n",
            "  mode = random.choice(self.sample_options)\n",
            "/content/drive/My Drive/Colab Notebooks/yolact/utils/augmentations.py:309: VisibleDeprecationWarning: Creating an ndarray from ragged nested sequences (which is a list-or-tuple of lists-or-tuples-or ndarrays with different lengths or shapes) is deprecated. If you meant to do this, you must specify 'dtype=object' when creating the ndarray\n",
            "  mode = random.choice(self.sample_options)\n",
            "[  3]     750 || B: 1.064 | C: 1.124 | M: 1.122 | S: 0.026 | T: 3.335 || ETA: 16 days, 23:56:44 || timer: 175.068\n",
            "[  3]     760 || B: 1.050 | C: 1.113 | M: 1.096 | S: 0.026 | T: 3.285 || ETA: 16 days, 23:12:05 || timer: 1.568\n",
            "[  3]     770 || B: 1.039 | C: 1.131 | M: 1.089 | S: 0.026 | T: 3.285 || ETA: 16 days, 22:27:35 || timer: 1.566\n",
            "[  3]     780 || B: 1.026 | C: 1.116 | M: 1.085 | S: 0.026 | T: 3.252 || ETA: 16 days, 21:44:19 || timer: 1.575\n",
            "[  3]     790 || B: 1.016 | C: 1.084 | M: 1.051 | S: 0.026 | T: 3.177 || ETA: 16 days, 21:01:19 || timer: 1.569\n",
            "[  3]     800 || B: 0.999 | C: 1.075 | M: 1.034 | S: 0.025 | T: 3.132 || ETA: 16 days, 20:20:33 || timer: 1.593\n",
            "[  3]     810 || B: 1.004 | C: 1.049 | M: 1.029 | S: 0.024 | T: 3.106 || ETA: 16 days, 19:39:28 || timer: 1.577\n",
            "[  3]     820 || B: 0.976 | C: 0.998 | M: 1.024 | S: 0.023 | T: 3.021 || ETA: 16 days, 18:59:37 || timer: 1.570\n",
            "[  3]     830 || B: 0.963 | C: 0.983 | M: 1.039 | S: 0.023 | T: 3.008 || ETA: 16 days, 18:20:55 || timer: 1.579\n",
            "[  3]     840 || B: 0.938 | C: 0.963 | M: 1.029 | S: 0.024 | T: 2.954 || ETA: 16 days, 17:42:41 || timer: 1.598\n",
            "[  3]     850 || B: 0.929 | C: 0.958 | M: 1.042 | S: 0.025 | T: 2.954 || ETA: 16 days, 17:05:48 || timer: 1.571\n",
            "[  3]     860 || B: 0.909 | C: 0.949 | M: 1.057 | S: 0.024 | T: 2.939 || ETA: 16 days, 16:29:37 || timer: 1.583\n",
            "[  3]     870 || B: 0.937 | C: 0.963 | M: 1.094 | S: 0.024 | T: 3.018 || ETA: 16 days, 15:54:11 || timer: 1.593\n",
            "[  3]     880 || B: 0.948 | C: 0.964 | M: 1.110 | S: 0.024 | T: 3.046 || ETA: 16 days, 15:19:11 || timer: 1.572\n",
            "[  3]     890 || B: 0.951 | C: 0.987 | M: 1.125 | S: 0.024 | T: 3.087 || ETA: 16 days, 14:45:44 || timer: 1.574\n",
            "[  3]     900 || B: 0.939 | C: 0.971 | M: 1.119 | S: 0.024 | T: 3.053 || ETA: 16 days, 14:12:36 || timer: 1.563\n",
            "[  3]     910 || B: 0.919 | C: 0.989 | M: 1.115 | S: 0.024 | T: 3.046 || ETA: 16 days, 13:40:18 || timer: 1.546\n",
            "[  3]     920 || B: 0.909 | C: 0.980 | M: 1.111 | S: 0.023 | T: 3.023 || ETA: 16 days, 13:08:02 || timer: 1.553\n",
            "[  3]     930 || B: 0.888 | C: 0.963 | M: 1.108 | S: 0.023 | T: 2.982 || ETA: 16 days, 12:36:38 || timer: 1.595\n",
            "[  3]     940 || B: 0.870 | C: 0.932 | M: 1.096 | S: 0.022 | T: 2.921 || ETA: 16 days, 12:06:01 || timer: 1.577\n",
            "[  3]     950 || B: 0.870 | C: 0.939 | M: 1.092 | S: 0.021 | T: 2.923 || ETA: 16 days, 11:36:21 || timer: 1.585\n",
            "[  3]     960 || B: 0.871 | C: 0.933 | M: 1.093 | S: 0.021 | T: 2.918 || ETA: 16 days, 11:07:48 || timer: 1.577\n",
            "[  3]     970 || B: 0.829 | C: 0.922 | M: 1.074 | S: 0.021 | T: 2.846 || ETA: 16 days, 10:39:26 || timer: 1.563\n",
            "[  3]     980 || B: 0.786 | C: 0.896 | M: 1.039 | S: 0.021 | T: 2.742 || ETA: 16 days, 10:11:46 || timer: 1.581\n",
            "[  3]     990 || B: 0.796 | C: 0.891 | M: 1.063 | S: 0.021 | T: 2.770 || ETA: 16 days, 9:44:26 || timer: 1.572\n",
            "/content/drive/My Drive/Colab Notebooks/yolact/utils/augmentations.py:309: VisibleDeprecationWarning: Creating an ndarray from ragged nested sequences (which is a list-or-tuple of lists-or-tuples-or ndarrays with different lengths or shapes) is deprecated. If you meant to do this, you must specify 'dtype=object' when creating the ndarray\n",
            "  mode = random.choice(self.sample_options)\n",
            "/content/drive/My Drive/Colab Notebooks/yolact/utils/augmentations.py:309: VisibleDeprecationWarning: Creating an ndarray from ragged nested sequences (which is a list-or-tuple of lists-or-tuples-or ndarrays with different lengths or shapes) is deprecated. If you meant to do this, you must specify 'dtype=object' when creating the ndarray\n",
            "  mode = random.choice(self.sample_options)\n",
            "/content/drive/My Drive/Colab Notebooks/yolact/utils/augmentations.py:309: VisibleDeprecationWarning: Creating an ndarray from ragged nested sequences (which is a list-or-tuple of lists-or-tuples-or ndarrays with different lengths or shapes) is deprecated. If you meant to do this, you must specify 'dtype=object' when creating the ndarray\n",
            "  mode = random.choice(self.sample_options)\n",
            "/content/drive/My Drive/Colab Notebooks/yolact/utils/augmentations.py:309: VisibleDeprecationWarning: Creating an ndarray from ragged nested sequences (which is a list-or-tuple of lists-or-tuples-or ndarrays with different lengths or shapes) is deprecated. If you meant to do this, you must specify 'dtype=object' when creating the ndarray\n",
            "  mode = random.choice(self.sample_options)\n",
            "[  4]    1000 || B: 0.810 | C: 0.882 | M: 1.061 | S: 0.020 | T: 2.773 || ETA: 16 days, 7:11:39 || timer: 3.259\n",
            "[  4]    1010 || B: 0.822 | C: 0.867 | M: 1.074 | S: 0.021 | T: 2.784 || ETA: 16 days, 6:10:07 || timer: 1.557\n",
            "[  4]    1020 || B: 0.811 | C: 0.848 | M: 1.061 | S: 0.021 | T: 2.741 || ETA: 16 days, 5:54:13 || timer: 1.571\n",
            "[  4]    1030 || B: 0.817 | C: 0.847 | M: 1.050 | S: 0.021 | T: 2.734 || ETA: 16 days, 5:54:16 || timer: 1.596\n",
            "[  4]    1040 || B: 0.803 | C: 0.850 | M: 1.037 | S: 0.022 | T: 2.712 || ETA: 16 days, 5:53:41 || timer: 1.569\n",
            "[  4]    1050 || B: 0.806 | C: 0.855 | M: 1.044 | S: 0.021 | T: 2.726 || ETA: 16 days, 5:39:34 || timer: 1.572\n",
            "[  4]    1060 || B: 0.818 | C: 0.857 | M: 1.053 | S: 0.021 | T: 2.750 || ETA: 16 days, 5:40:05 || timer: 1.567\n",
            "[  4]    1070 || B: 0.838 | C: 0.851 | M: 1.058 | S: 0.021 | T: 2.768 || ETA: 16 days, 5:40:39 || timer: 1.566\n",
            "[  4]    1080 || B: 0.849 | C: 0.867 | M: 1.069 | S: 0.021 | T: 2.805 || ETA: 16 days, 5:39:53 || timer: 1.580\n",
            "[  4]    1090 || B: 0.815 | C: 0.832 | M: 1.034 | S: 0.020 | T: 2.701 || ETA: 16 days, 5:41:21 || timer: 1.571\n",
            "[  4]    1100 || B: 0.783 | C: 0.817 | M: 1.032 | S: 0.020 | T: 2.652 || ETA: 16 days, 5:41:23 || timer: 1.559\n",
            "[  4]    1110 || B: 0.759 | C: 0.800 | M: 1.022 | S: 0.019 | T: 2.599 || ETA: 16 days, 5:40:44 || timer: 1.583\n",
            "[  4]    1120 || B: 0.778 | C: 0.836 | M: 1.023 | S: 0.018 | T: 2.656 || ETA: 16 days, 5:40:43 || timer: 1.593\n",
            "[  4]    1130 || B: 0.753 | C: 0.826 | M: 1.009 | S: 0.018 | T: 2.606 || ETA: 16 days, 5:40:37 || timer: 1.565\n",
            "[  4]    1140 || B: 0.754 | C: 0.835 | M: 1.022 | S: 0.017 | T: 2.628 || ETA: 16 days, 5:39:41 || timer: 1.576\n",
            "[  4]    1150 || B: 0.750 | C: 0.829 | M: 1.016 | S: 0.017 | T: 2.613 || ETA: 16 days, 5:39:27 || timer: 1.581\n",
            "[  4]    1160 || B: 0.735 | C: 0.818 | M: 0.988 | S: 0.018 | T: 2.559 || ETA: 16 days, 5:39:32 || timer: 1.571\n",
            "[  4]    1170 || B: 0.702 | C: 0.782 | M: 0.964 | S: 0.018 | T: 2.465 || ETA: 16 days, 5:41:06 || timer: 1.591\n",
            "[  4]    1180 || B: 0.688 | C: 0.765 | M: 0.950 | S: 0.018 | T: 2.421 || ETA: 16 days, 5:41:58 || timer: 1.570\n",
            "[  4]    1190 || B: 0.691 | C: 0.771 | M: 0.929 | S: 0.018 | T: 2.408 || ETA: 16 days, 5:42:42 || timer: 1.582\n",
            "[  4]    1200 || B: 0.706 | C: 0.799 | M: 0.933 | S: 0.018 | T: 2.456 || ETA: 16 days, 5:43:01 || timer: 1.564\n",
            "[  4]    1210 || B: 0.721 | C: 0.827 | M: 0.926 | S: 0.018 | T: 2.492 || ETA: 16 days, 5:43:17 || timer: 1.573\n",
            "[  4]    1220 || B: 0.712 | C: 0.806 | M: 0.935 | S: 0.017 | T: 2.471 || ETA: 16 days, 5:40:56 || timer: 1.590\n",
            "[  4]    1230 || B: 0.709 | C: 0.798 | M: 0.930 | S: 0.017 | T: 2.454 || ETA: 16 days, 5:39:01 || timer: 1.588\n",
            "[  4]    1240 || B: 0.713 | C: 0.791 | M: 0.934 | S: 0.017 | T: 2.454 || ETA: 16 days, 5:37:26 || timer: 1.565\n",
            "\n",
            "Computing validation mAP (this may take a while)...\n",
            "\n",
            "\n",
            "Calculating mAP...\n",
            "\n",
            "       |  all  |  .50  |  .55  |  .60  |  .65  |  .70  |  .75  |  .80  |  .85  |  .90  |  .95  |\n",
            "-------+-------+-------+-------+-------+-------+-------+-------+-------+-------+-------+-------+\n",
            "   box |  9.18 | 12.18 | 12.18 | 12.18 | 12.05 | 12.05 | 11.90 | 10.03 |  6.54 |  2.57 |  0.11 |\n",
            "  mask |  9.69 | 12.18 | 12.18 | 12.18 | 12.18 | 12.06 | 12.03 | 11.59 |  9.53 |  2.95 |  0.00 |\n",
            "-------+-------+-------+-------+-------+-------+-------+-------+-------+-------+-------+-------+\n",
            "\n",
            "/content/drive/My Drive/Colab Notebooks/yolact/utils/augmentations.py:309: VisibleDeprecationWarning: Creating an ndarray from ragged nested sequences (which is a list-or-tuple of lists-or-tuples-or ndarrays with different lengths or shapes) is deprecated. If you meant to do this, you must specify 'dtype=object' when creating the ndarray\n",
            "  mode = random.choice(self.sample_options)\n",
            "/content/drive/My Drive/Colab Notebooks/yolact/utils/augmentations.py:309: VisibleDeprecationWarning: Creating an ndarray from ragged nested sequences (which is a list-or-tuple of lists-or-tuples-or ndarrays with different lengths or shapes) is deprecated. If you meant to do this, you must specify 'dtype=object' when creating the ndarray\n",
            "  mode = random.choice(self.sample_options)\n",
            "/content/drive/My Drive/Colab Notebooks/yolact/utils/augmentations.py:309: VisibleDeprecationWarning: Creating an ndarray from ragged nested sequences (which is a list-or-tuple of lists-or-tuples-or ndarrays with different lengths or shapes) is deprecated. If you meant to do this, you must specify 'dtype=object' when creating the ndarray\n",
            "  mode = random.choice(self.sample_options)\n",
            "/content/drive/My Drive/Colab Notebooks/yolact/utils/augmentations.py:309: VisibleDeprecationWarning: Creating an ndarray from ragged nested sequences (which is a list-or-tuple of lists-or-tuples-or ndarrays with different lengths or shapes) is deprecated. If you meant to do this, you must specify 'dtype=object' when creating the ndarray\n",
            "  mode = random.choice(self.sample_options)\n",
            "[  5]    1250 || B: 0.699 | C: 0.758 | M: 0.903 | S: 0.017 | T: 2.377 || ETA: 16 days, 12:40:14 || timer: 35.087\n",
            "[  5]    1260 || B: 0.703 | C: 0.753 | M: 0.913 | S: 0.017 | T: 2.387 || ETA: 16 days, 12:39:08 || timer: 1.597\n",
            "[  5]    1270 || B: 0.714 | C: 0.757 | M: 0.922 | S: 0.017 | T: 2.410 || ETA: 16 days, 12:37:14 || timer: 1.584\n",
            "[  5]    1280 || B: 0.729 | C: 0.780 | M: 0.926 | S: 0.017 | T: 2.452 || ETA: 16 days, 12:34:48 || timer: 1.564\n",
            "[  5]    1290 || B: 0.704 | C: 0.775 | M: 0.941 | S: 0.017 | T: 2.436 || ETA: 16 days, 12:33:17 || timer: 1.569\n",
            "[  5]    1300 || B: 0.693 | C: 0.753 | M: 0.929 | S: 0.017 | T: 2.392 || ETA: 16 days, 12:33:30 || timer: 1.581\n",
            "Stopping early. Saving network...\n"
          ]
        }
      ]
    },
    {
      "cell_type": "code",
      "source": [
        ""
      ],
      "metadata": {
        "id": "PmfGSNqu5K8S"
      },
      "execution_count": 5,
      "outputs": []
    }
  ]
}