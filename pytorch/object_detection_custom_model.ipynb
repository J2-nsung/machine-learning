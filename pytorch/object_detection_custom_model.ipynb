{
  "nbformat": 4,
  "nbformat_minor": 0,
  "metadata": {
    "colab": {
      "name": "Untitled7.ipynb",
      "provenance": [],
      "collapsed_sections": []
    },
    "kernelspec": {
      "name": "python3",
      "display_name": "Python 3"
    },
    "language_info": {
      "name": "python"
    },
    "accelerator": "GPU"
  },
  "cells": [
    {
      "cell_type": "markdown",
      "source": [
        "# Library"
      ],
      "metadata": {
        "id": "RyzcXZlID3cw"
      }
    },
    {
      "cell_type": "code",
      "source": [
        "from google.colab import drive\n",
        "drive.mount('/content/drive')"
      ],
      "metadata": {
        "colab": {
          "base_uri": "https://localhost:8080/"
        },
        "id": "FVgkOCDoQk9E",
        "outputId": "5c1c82f9-19ce-470b-9539-d163b5a344ba"
      },
      "execution_count": 1,
      "outputs": [
        {
          "output_type": "stream",
          "name": "stdout",
          "text": [
            "Drive already mounted at /content/drive; to attempt to forcibly remount, call drive.mount(\"/content/drive\", force_remount=True).\n"
          ]
        }
      ]
    },
    {
      "cell_type": "code",
      "execution_count": 2,
      "metadata": {
        "id": "SOdmaN_p8pj-"
      },
      "outputs": [],
      "source": [
        "import os\n",
        "import numpy as np\n",
        "import pandas as pd\n",
        "\n",
        "import matplotlib.pyplot as plt\n",
        "\n",
        "import PIL\n",
        "import cv2\n",
        "\n",
        "import torch\n",
        "import torch.nn as nn\n",
        "import torch.nn.functional as F\n",
        "import torch.optim as optim\n",
        "from torch.utils.data import Dataset, DataLoader\n",
        "\n",
        "from sklearn.model_selection import train_test_split\n",
        "from random import randrange"
      ]
    },
    {
      "cell_type": "code",
      "source": [
        "cd drive/MyDrive/Colab\\ Notebooks/mnist_detection"
      ],
      "metadata": {
        "colab": {
          "base_uri": "https://localhost:8080/"
        },
        "id": "kbC5Q30L8zLl",
        "outputId": "f8b6c233-d400-41ef-b245-01072da5ae89"
      },
      "execution_count": 3,
      "outputs": [
        {
          "output_type": "stream",
          "name": "stdout",
          "text": [
            "/content/drive/MyDrive/Colab Notebooks/mnist_detection\n"
          ]
        }
      ]
    },
    {
      "cell_type": "markdown",
      "source": [
        "# Dataset"
      ],
      "metadata": {
        "id": "Pv-1hJ-xDw7P"
      }
    },
    {
      "cell_type": "code",
      "source": [
        "train_df = pd.read_csv(\"./data/train.csv\")\n",
        "# test_df = pd.read_csv(\"./data/test.csv\")"
      ],
      "metadata": {
        "id": "Jz-faYt18rKw"
      },
      "execution_count": 4,
      "outputs": []
    },
    {
      "cell_type": "code",
      "source": [
        "train_df, val_df = train_test_split(train_df, test_size=0.2, random_state=0)"
      ],
      "metadata": {
        "id": "Z2d-p8U39wGq"
      },
      "execution_count": 5,
      "outputs": []
    },
    {
      "cell_type": "code",
      "source": [
        "def show_img_from_df(df, ind):\n",
        "    plt.imshow(np.reshape(np.array(df.iloc[ind, 1:]), (28, 28)), cmap=\"gray\")"
      ],
      "metadata": {
        "id": "fSwhKtXb9_ss"
      },
      "execution_count": 6,
      "outputs": []
    },
    {
      "cell_type": "code",
      "source": [
        "show_img_from_df(train_df, 0)"
      ],
      "metadata": {
        "colab": {
          "base_uri": "https://localhost:8080/",
          "height": 265
        },
        "id": "wkUzWetTBT-q",
        "outputId": "21d2f65d-2022-4d33-ed2a-2e9908feba8a"
      },
      "execution_count": 7,
      "outputs": [
        {
          "output_type": "display_data",
          "data": {
            "text/plain": [
              "<Figure size 432x288 with 1 Axes>"
            ],
            "image/png": "[encoded data removed]"
          },
          "metadata": {
            "needs_background": "light"
          }
        }
      ]
    },
    {
      "cell_type": "code",
      "source": [
        "new_size = 90\n",
        "\n",
        "df = train_df\n",
        "ind = randrange(1000)\n",
        "\n",
        "img = np.reshape(np.array(df.iloc[ind, 1:]), (28, 28))\n",
        "\n",
        "new_img = np.zeros((new_size, new_size))\n",
        "\n",
        "# randomly select a bottom left corner to use for img\n",
        "x_min = randrange(new_size - img.shape[0])\n",
        "y_min = randrange(new_size - img.shape[0])\n",
        "\n",
        "x_max = x_min + img.shape[0]\n",
        "y_max = y_min + img.shape[0]\n",
        "\n",
        "x_center = x_min + (x_max - x_min) / 2\n",
        "y_center = y_min + (y_max - y_min) / 2\n",
        "\n",
        "new_img[x_min:x_max, y_min:y_max] = img\n",
        "new_img = cv2.rectangle(new_img, (y_max, x_min), (y_min, x_max), 255, 1)\n",
        "\n",
        "plt.imshow(new_img, cmap=\"gray\")\n",
        "# plt.plot(y_center, x_center, \"og\", markersize=10)\n",
        "plt.show()"
      ],
      "metadata": {
        "colab": {
          "base_uri": "https://localhost:8080/",
          "height": 268
        },
        "id": "URYYNXu8BY6O",
        "outputId": "2560c70c-5a1f-4eb1-9018-2afae4417efd"
      },
      "execution_count": 8,
      "outputs": [
        {
          "output_type": "display_data",
          "data": {
            "text/plain": [
              "<Figure size 432x288 with 1 Axes>"
            ],
            "image/png": "[encoded data removed]"
          },
          "metadata": {
            "needs_background": "light"
          }
        }
      ]
    },
    {
      "cell_type": "code",
      "source": [
        "class CustomDataset(Dataset):\n",
        "    def __init__(self, df, test=False):\n",
        "        self.df = df\n",
        "        self.test = test\n",
        "\n",
        "    def __getitem__(self, index):\n",
        "        if self.test:\n",
        "            image = np.reshape(np.array(self.df.iloc[index, :]), (28, 28)) / 255.\n",
        "        else:\n",
        "            image = np.reshape(np.array(self.df.iloc[index, 1:]), (28, 28)) / 255.\n",
        "\n",
        "        # create the new image\n",
        "        new_img = np.zeros((90, 90))\n",
        "\n",
        "        # randomly select a bottom left corner to use for img\n",
        "        x_min = randrange(90 - image.shape[0])\n",
        "        y_min = randrange(90 - image.shape[0])\n",
        "\n",
        "        x_max = x_min + image.shape[0]\n",
        "        y_max = y_min + image.shape[0]\n",
        "\n",
        "        new_img[x_min:x_max, y_min:y_max] = image\n",
        "        new_img = np.reshape(new_img, (1, 90, 90))\n",
        "\n",
        "        label = [int(self.df.iloc[index, 0]), np.array([y_max, x_min, y_min, x_max]).astype(\"float32\")]\n",
        "\n",
        "        return new_img, label\n",
        "\n",
        "    def __len__(self):\n",
        "        return len(self.df)"
      ],
      "metadata": {
        "id": "r0aDmrhMDoGS"
      },
      "execution_count": 9,
      "outputs": []
    },
    {
      "cell_type": "code",
      "source": [
        "train_data = CustomDataset(train_df)\n",
        "valid_data = CustomDataset(val_df)\n",
        "\n",
        "train_dataloader = DataLoader(\n",
        "    train_data,\n",
        "    batch_size=64,\n",
        "    shuffle=True\n",
        ")\n",
        "\n",
        "valid_dataloader = DataLoader(\n",
        "    valid_data,\n",
        "    batch_size=64,\n",
        "    shuffle=True\n",
        ")"
      ],
      "metadata": {
        "id": "EBNAahwIC52n"
      },
      "execution_count": 10,
      "outputs": []
    },
    {
      "cell_type": "code",
      "source": [
        "cx = next(iter(train_dataloader))"
      ],
      "metadata": {
        "id": "Dh08LQSrWfhw"
      },
      "execution_count": 11,
      "outputs": []
    },
    {
      "cell_type": "code",
      "source": [
        "index = randrange(63)\n",
        "x_min, y_min, x_max, y_max = cx[1][1][index]\n",
        "\n",
        "plt.imshow(np.reshape(cx[0][index], (90, 90)))\n",
        "\n",
        "print(\"Image shape: \" + str(list(cx[0][index].shape)))\n",
        "print(\"Digit: \" + str(int(cx[1][0][index])))\n",
        "print(f\"point: ({int(x_min)}, {int(y_min)}, {int(x_max)}, {int(y_max)})\")"
      ],
      "metadata": {
        "colab": {
          "base_uri": "https://localhost:8080/",
          "height": 320
        },
        "id": "RF6IXTkyWipf",
        "outputId": "eccf7de3-eeb2-4a87-90cc-a812b70cbb2f"
      },
      "execution_count": 12,
      "outputs": [
        {
          "output_type": "stream",
          "name": "stdout",
          "text": [
            "Image shape: [1, 90, 90]\n",
            "Digit: 3\n",
            "point: (55, 15, 27, 43)\n"
          ]
        },
        {
          "output_type": "display_data",
          "data": {
            "text/plain": [
              "<Figure size 432x288 with 1 Axes>"
            ],
            "image/png": "[encoded data removed]"
          },
          "metadata": {
            "needs_background": "light"
          }
        }
      ]
    },
    {
      "cell_type": "code",
      "source": [
        "device = \"cuda\" if torch.cuda.is_available() else \"cpu\"\n",
        "print(device)"
      ],
      "metadata": {
        "colab": {
          "base_uri": "https://localhost:8080/"
        },
        "id": "zwOIyFBCW3Dw",
        "outputId": "bcc071b0-ce13-4814-d790-eb19c1abb232"
      },
      "execution_count": 13,
      "outputs": [
        {
          "output_type": "stream",
          "name": "stdout",
          "text": [
            "cuda\n"
          ]
        }
      ]
    },
    {
      "cell_type": "markdown",
      "source": [
        "# Model"
      ],
      "metadata": {
        "id": "tXD2nbNPcKcA"
      }
    },
    {
      "cell_type": "code",
      "source": [
        "class CustomNet(nn.Module):\n",
        "    def __init__(self):\n",
        "        super(CustomNet, self).__init__()\n",
        "\n",
        "        self.conv0 = nn.Conv2d(1, 16, 3, padding=2)\n",
        "        self.pool0 = nn.MaxPool2d(2, 2)\n",
        "\n",
        "        self.conv1 = nn.Conv2d(16, 16, 3, padding=3)\n",
        "        self.pool1 = nn.MaxPool2d(2, 2)\n",
        "\n",
        "        self.flatten = nn.Flatten()\n",
        "        self.linear_relu_stack = nn.Sequential(\n",
        "            nn.Linear(16*25*25, 256),\n",
        "            nn.ReLU()\n",
        "        )\n",
        "\n",
        "        self.linear = nn.Linear(256, 10)\n",
        "        self.linear_bbox = nn.Linear(256, 4)\n",
        "\n",
        "    def forward(self, x):\n",
        "        x = self.conv0(x)\n",
        "        x = self.pool0(x)\n",
        "        x = F.relu(x)\n",
        "\n",
        "        x = self.conv1(x)\n",
        "        x = self.pool1(x)\n",
        "        x = F.relu(x)\n",
        "\n",
        "        x = self.flatten(x)\n",
        "        x = self.linear_relu_stack(x)\n",
        "\n",
        "        logits = self.linear(x)\n",
        "        bbox = self.linear_bbox(x)\n",
        "\n",
        "        return logits, bbox"
      ],
      "metadata": {
        "id": "ysbb05ZwXFDn"
      },
      "execution_count": 14,
      "outputs": []
    },
    {
      "cell_type": "code",
      "source": [
        "model = CustomNet().to(device)\n",
        "model"
      ],
      "metadata": {
        "colab": {
          "base_uri": "https://localhost:8080/"
        },
        "id": "16xPnpkfY6Cj",
        "outputId": "015e18b0-ae21-4c0c-841b-42ff3e06869f"
      },
      "execution_count": 15,
      "outputs": [
        {
          "output_type": "execute_result",
          "data": {
            "text/plain": [
              "CustomNet(\n",
              "  (conv0): Conv2d(1, 16, kernel_size=(3, 3), stride=(1, 1), padding=(2, 2))\n",
              "  (pool0): MaxPool2d(kernel_size=2, stride=2, padding=0, dilation=1, ceil_mode=False)\n",
              "  (conv1): Conv2d(16, 16, kernel_size=(3, 3), stride=(1, 1), padding=(3, 3))\n",
              "  (pool1): MaxPool2d(kernel_size=2, stride=2, padding=0, dilation=1, ceil_mode=False)\n",
              "  (flatten): Flatten(start_dim=1, end_dim=-1)\n",
              "  (linear_relu_stack): Sequential(\n",
              "    (0): Linear(in_features=10000, out_features=256, bias=True)\n",
              "    (1): ReLU()\n",
              "  )\n",
              "  (linear): Linear(in_features=256, out_features=10, bias=True)\n",
              "  (linear_bbox): Linear(in_features=256, out_features=4, bias=True)\n",
              ")"
            ]
          },
          "metadata": {},
          "execution_count": 15
        }
      ]
    },
    {
      "cell_type": "markdown",
      "source": [
        "# Training"
      ],
      "metadata": {
        "id": "U5vQJQuicOVE"
      }
    },
    {
      "cell_type": "code",
      "source": [
        "loss_fn = nn.CrossEntropyLoss()\n",
        "loss_mse = nn.MSELoss()\n",
        "\n",
        "optimizer = optim.AdamW(model.parameters(), lr=1e-3)\n",
        "alpha = 100\n",
        "beta = 1"
      ],
      "metadata": {
        "id": "uDu1_gjWaS-e"
      },
      "execution_count": 16,
      "outputs": []
    },
    {
      "cell_type": "code",
      "source": [
        "def train(model, dataloader, loss_fn, loss_mse, optimizer, alpha, beta):\n",
        "    model.train()\n",
        "    size = len(dataloader.dataset)\n",
        "\n",
        "    loss_cls_list = []\n",
        "    loss_point_list = []\n",
        "\n",
        "    for batch, (inputs, labels) in enumerate(dataloader):\n",
        "        inputs = inputs.to(device)\n",
        "        label_class = labels[0].to(device)\n",
        "        label_point = labels[1].to(device)\n",
        "\n",
        "        pred_cls, pred_point = model(inputs.float())\n",
        "\n",
        "        loss = alpha*loss_fn(pred_cls, label_class) + beta*loss_mse(pred_point, label_point.float())\n",
        "        loss_cls = loss_fn(pred_cls, label_class)\n",
        "        loss_point = loss_mse(pred_point, label_point)\n",
        "\n",
        "        optimizer.zero_grad()\n",
        "        loss.backward()\n",
        "        optimizer.step()\n",
        "\n",
        "        if (batch != 0) and (batch % 100 == 0):\n",
        "            loss = loss.item()\n",
        "            current = batch*len(inputs)\n",
        "\n",
        "            loss_cls = loss_cls.item()\n",
        "            loss_point = loss_point.item()\n",
        "\n",
        "            loss_cls_list.append(loss_cls)\n",
        "            loss_point_list.append(loss_point)\n",
        "\n",
        "            print(f\"main loss: {loss:>7f} [{current:>5d}/{size:5d}]\")\n",
        "            print(f\"Digit prediction loss: {loss_cls:>7f} [{current:>5d}/{size:>5d}]\")\n",
        "            print(f\"Coordinate prediction loss: {loss_point:>7f} [{current:>5d}/{size:>5d}]\")\n",
        "            print(\"-\"*20)"
      ],
      "metadata": {
        "id": "TiuvwLCtd3EU"
      },
      "execution_count": 17,
      "outputs": []
    },
    {
      "cell_type": "code",
      "source": [
        "def test(model, dataloader, loss_fn, loss_mse, alpha, beta):\n",
        "    model.eval()\n",
        "    \n",
        "    size = len(dataloader.dataset)\n",
        "    loss, loss_cls, loss_point, correct = 0, 0, 0, 0\n",
        "    with torch.no_grad():\n",
        "        for inputs, labels in dataloader:\n",
        "            inputs = inputs.to(device)\n",
        "            label_cls = labels[0].to(device)\n",
        "            label_point = labels[1].to(device)\n",
        "\n",
        "            pred_cls, pred_point = model(inputs.float())\n",
        "\n",
        "            loss += alpha * loss_fn(pred_cls, label_cls).item() + beta * loss_mse(pred_point, label_point.float()).item()\n",
        "            loss_cls += loss_fn(pred_cls, label_cls).item()\n",
        "            loss_point += loss_mse(pred_point, label_point.float()).item()\n",
        "\n",
        "            correct += (pred_cls.argmax(1) == label_cls).type(torch.float).sum().item()\n",
        "    \n",
        "    loss /= size\n",
        "    loss_cls /= size\n",
        "    loss_point /= size\n",
        "    correct /= size\n",
        "\n",
        "    print(f\"Test Error:\\n Accuracy: {(100*correct):>0.1f}%, Avg digit loss: {loss_cls:>8f}, Avg coordinate loss: {loss_point:>8f}\\n\")\n"
      ],
      "metadata": {
        "id": "hZglEKP4gGqI"
      },
      "execution_count": 18,
      "outputs": []
    },
    {
      "cell_type": "code",
      "source": [
        "num_epoch = 10\n",
        "\n",
        "for t in range(num_epoch):\n",
        "    print(f\"Epoch [{t+1}/{num_epoch}] \\n\")\n",
        "    train(model, train_dataloader, loss_fn, loss_mse, optimizer, alpha, beta)\n",
        "    test(model, valid_dataloader, loss_fn, loss_mse, alpha, beta)\n",
        "\n",
        "print(\"Done!\")"
      ],
      "metadata": {
        "colab": {
          "base_uri": "https://localhost:8080/"
        },
        "id": "uKBeb_3-iDHI",
        "outputId": "0289711c-188a-4183-c4df-9c761127e913"
      },
      "execution_count": 19,
      "outputs": [
        {
          "output_type": "stream",
          "name": "stdout",
          "text": [
            "Epoch [1/10] \n",
            "\n",
            "main loss: 317.386932 [ 6400/33600]\n",
            "Digit prediction loss: 2.498165 [ 6400/33600]\n",
            "Coordinate prediction loss: 67.570412 [ 6400/33600]\n",
            "--------------------\n",
            "main loss: 231.542664 [12800/33600]\n",
            "Digit prediction loss: 2.119824 [12800/33600]\n",
            "Coordinate prediction loss: 19.560265 [12800/33600]\n",
            "--------------------\n",
            "main loss: 222.612473 [19200/33600]\n",
            "Digit prediction loss: 2.124226 [19200/33600]\n",
            "Coordinate prediction loss: 10.189866 [19200/33600]\n",
            "--------------------\n",
            "main loss: 241.435318 [25600/33600]\n",
            "Digit prediction loss: 2.301992 [25600/33600]\n",
            "Coordinate prediction loss: 11.236151 [25600/33600]\n",
            "--------------------\n",
            "main loss: 230.220413 [32000/33600]\n",
            "Digit prediction loss: 2.239566 [32000/33600]\n",
            "Coordinate prediction loss: 6.263774 [32000/33600]\n",
            "--------------------\n",
            "Test Error:\n",
            " Accuracy: 27.3%, Avg digit loss: 0.031301, Avg coordinate loss: 0.134079\n",
            "\n",
            "Epoch [2/10] \n",
            "\n",
            "main loss: 217.623474 [ 6400/33600]\n",
            "Digit prediction loss: 2.095919 [ 6400/33600]\n",
            "Coordinate prediction loss: 8.031580 [ 6400/33600]\n",
            "--------------------\n",
            "main loss: 209.595840 [12800/33600]\n",
            "Digit prediction loss: 2.033519 [12800/33600]\n",
            "Coordinate prediction loss: 6.243986 [12800/33600]\n",
            "--------------------\n",
            "main loss: 194.977371 [19200/33600]\n",
            "Digit prediction loss: 1.870246 [19200/33600]\n",
            "Coordinate prediction loss: 7.952790 [19200/33600]\n",
            "--------------------\n",
            "main loss: 190.222595 [25600/33600]\n",
            "Digit prediction loss: 1.818871 [25600/33600]\n",
            "Coordinate prediction loss: 8.335533 [25600/33600]\n",
            "--------------------\n",
            "main loss: 183.467377 [32000/33600]\n",
            "Digit prediction loss: 1.772317 [32000/33600]\n",
            "Coordinate prediction loss: 6.235703 [32000/33600]\n",
            "--------------------\n",
            "Test Error:\n",
            " Accuracy: 28.8%, Avg digit loss: 0.030497, Avg coordinate loss: 0.164160\n",
            "\n",
            "Epoch [3/10] \n",
            "\n",
            "main loss: 157.122177 [ 6400/33600]\n",
            "Digit prediction loss: 1.486337 [ 6400/33600]\n",
            "Coordinate prediction loss: 8.488458 [ 6400/33600]\n",
            "--------------------\n",
            "main loss: 155.551331 [12800/33600]\n",
            "Digit prediction loss: 1.492204 [12800/33600]\n",
            "Coordinate prediction loss: 6.330971 [12800/33600]\n",
            "--------------------\n",
            "main loss: 145.562347 [19200/33600]\n",
            "Digit prediction loss: 1.396436 [19200/33600]\n",
            "Coordinate prediction loss: 5.918709 [19200/33600]\n",
            "--------------------\n",
            "main loss: 168.375824 [25600/33600]\n",
            "Digit prediction loss: 1.615825 [25600/33600]\n",
            "Coordinate prediction loss: 6.793302 [25600/33600]\n",
            "--------------------\n",
            "main loss: 127.022942 [32000/33600]\n",
            "Digit prediction loss: 1.217758 [32000/33600]\n",
            "Coordinate prediction loss: 5.247169 [32000/33600]\n",
            "--------------------\n",
            "Test Error:\n",
            " Accuracy: 45.5%, Avg digit loss: 0.022091, Avg coordinate loss: 0.095515\n",
            "\n",
            "Epoch [4/10] \n",
            "\n",
            "main loss: 166.008545 [ 6400/33600]\n",
            "Digit prediction loss: 1.586698 [ 6400/33600]\n",
            "Coordinate prediction loss: 7.338752 [ 6400/33600]\n",
            "--------------------\n",
            "main loss: 144.489105 [12800/33600]\n",
            "Digit prediction loss: 1.414814 [12800/33600]\n",
            "Coordinate prediction loss: 3.007737 [12800/33600]\n",
            "--------------------\n",
            "main loss: 97.680359 [19200/33600]\n",
            "Digit prediction loss: 0.923602 [19200/33600]\n",
            "Coordinate prediction loss: 5.320115 [19200/33600]\n",
            "--------------------\n",
            "main loss: 103.697281 [25600/33600]\n",
            "Digit prediction loss: 0.994233 [25600/33600]\n",
            "Coordinate prediction loss: 4.273998 [25600/33600]\n",
            "--------------------\n",
            "main loss: 105.965858 [32000/33600]\n",
            "Digit prediction loss: 1.016631 [32000/33600]\n",
            "Coordinate prediction loss: 4.302711 [32000/33600]\n",
            "--------------------\n",
            "Test Error:\n",
            " Accuracy: 61.1%, Avg digit loss: 0.017614, Avg coordinate loss: 0.059217\n",
            "\n",
            "Epoch [5/10] \n",
            "\n",
            "main loss: 120.188896 [ 6400/33600]\n",
            "Digit prediction loss: 1.182192 [ 6400/33600]\n",
            "Coordinate prediction loss: 1.969676 [ 6400/33600]\n",
            "--------------------\n",
            "main loss: 110.116020 [12800/33600]\n",
            "Digit prediction loss: 1.034491 [12800/33600]\n",
            "Coordinate prediction loss: 6.666919 [12800/33600]\n",
            "--------------------\n",
            "main loss: 108.020760 [19200/33600]\n",
            "Digit prediction loss: 0.968628 [19200/33600]\n",
            "Coordinate prediction loss: 11.157959 [19200/33600]\n",
            "--------------------\n",
            "main loss: 87.842064 [25600/33600]\n",
            "Digit prediction loss: 0.840397 [25600/33600]\n",
            "Coordinate prediction loss: 3.802326 [25600/33600]\n",
            "--------------------\n",
            "main loss: 80.123421 [32000/33600]\n",
            "Digit prediction loss: 0.750157 [32000/33600]\n",
            "Coordinate prediction loss: 5.107732 [32000/33600]\n",
            "--------------------\n",
            "Test Error:\n",
            " Accuracy: 72.0%, Avg digit loss: 0.013596, Avg coordinate loss: 0.049358\n",
            "\n",
            "Epoch [6/10] \n",
            "\n",
            "main loss: 70.264664 [ 6400/33600]\n",
            "Digit prediction loss: 0.667791 [ 6400/33600]\n",
            "Coordinate prediction loss: 3.485608 [ 6400/33600]\n",
            "--------------------\n",
            "main loss: 68.461441 [12800/33600]\n",
            "Digit prediction loss: 0.643336 [12800/33600]\n",
            "Coordinate prediction loss: 4.127865 [12800/33600]\n",
            "--------------------\n",
            "main loss: 95.430229 [19200/33600]\n",
            "Digit prediction loss: 0.915911 [19200/33600]\n",
            "Coordinate prediction loss: 3.839143 [19200/33600]\n",
            "--------------------\n",
            "main loss: 79.414581 [25600/33600]\n",
            "Digit prediction loss: 0.768411 [25600/33600]\n",
            "Coordinate prediction loss: 2.573489 [25600/33600]\n",
            "--------------------\n",
            "main loss: 88.882370 [32000/33600]\n",
            "Digit prediction loss: 0.832182 [32000/33600]\n",
            "Coordinate prediction loss: 5.664130 [32000/33600]\n",
            "--------------------\n",
            "Test Error:\n",
            " Accuracy: 77.1%, Avg digit loss: 0.011141, Avg coordinate loss: 0.039510\n",
            "\n",
            "Epoch [7/10] \n",
            "\n",
            "main loss: 80.697121 [ 6400/33600]\n",
            "Digit prediction loss: 0.772143 [ 6400/33600]\n",
            "Coordinate prediction loss: 3.482779 [ 6400/33600]\n",
            "--------------------\n",
            "main loss: 94.832321 [12800/33600]\n",
            "Digit prediction loss: 0.912197 [12800/33600]\n",
            "Coordinate prediction loss: 3.612625 [12800/33600]\n",
            "--------------------\n",
            "main loss: 69.596260 [19200/33600]\n",
            "Digit prediction loss: 0.668064 [19200/33600]\n",
            "Coordinate prediction loss: 2.789867 [19200/33600]\n",
            "--------------------\n",
            "main loss: 65.407860 [25600/33600]\n",
            "Digit prediction loss: 0.624730 [25600/33600]\n",
            "Coordinate prediction loss: 2.934838 [25600/33600]\n",
            "--------------------\n",
            "main loss: 64.933334 [32000/33600]\n",
            "Digit prediction loss: 0.622589 [32000/33600]\n",
            "Coordinate prediction loss: 2.674468 [32000/33600]\n",
            "--------------------\n",
            "Test Error:\n",
            " Accuracy: 81.3%, Avg digit loss: 0.009336, Avg coordinate loss: 0.059161\n",
            "\n",
            "Epoch [8/10] \n",
            "\n",
            "main loss: 72.361244 [ 6400/33600]\n",
            "Digit prediction loss: 0.694821 [ 6400/33600]\n",
            "Coordinate prediction loss: 2.879181 [ 6400/33600]\n",
            "--------------------\n",
            "main loss: 46.385159 [12800/33600]\n",
            "Digit prediction loss: 0.430489 [12800/33600]\n",
            "Coordinate prediction loss: 3.336249 [12800/33600]\n",
            "--------------------\n",
            "main loss: 58.724819 [19200/33600]\n",
            "Digit prediction loss: 0.564933 [19200/33600]\n",
            "Coordinate prediction loss: 2.231527 [19200/33600]\n",
            "--------------------\n",
            "main loss: 65.569847 [25600/33600]\n",
            "Digit prediction loss: 0.630828 [25600/33600]\n",
            "Coordinate prediction loss: 2.487046 [25600/33600]\n",
            "--------------------\n",
            "main loss: 71.769783 [32000/33600]\n",
            "Digit prediction loss: 0.691519 [32000/33600]\n",
            "Coordinate prediction loss: 2.617833 [32000/33600]\n",
            "--------------------\n",
            "Test Error:\n",
            " Accuracy: 84.5%, Avg digit loss: 0.007925, Avg coordinate loss: 0.055174\n",
            "\n",
            "Epoch [9/10] \n",
            "\n",
            "main loss: 42.051090 [ 6400/33600]\n",
            "Digit prediction loss: 0.400076 [ 6400/33600]\n",
            "Coordinate prediction loss: 2.043448 [ 6400/33600]\n",
            "--------------------\n",
            "main loss: 39.398430 [12800/33600]\n",
            "Digit prediction loss: 0.377188 [12800/33600]\n",
            "Coordinate prediction loss: 1.679640 [12800/33600]\n",
            "--------------------\n",
            "main loss: 30.327600 [19200/33600]\n",
            "Digit prediction loss: 0.277756 [19200/33600]\n",
            "Coordinate prediction loss: 2.551979 [19200/33600]\n",
            "--------------------\n",
            "main loss: 47.594490 [25600/33600]\n",
            "Digit prediction loss: 0.460476 [25600/33600]\n",
            "Coordinate prediction loss: 1.546890 [25600/33600]\n",
            "--------------------\n",
            "main loss: 35.585052 [32000/33600]\n",
            "Digit prediction loss: 0.324345 [32000/33600]\n",
            "Coordinate prediction loss: 3.150549 [32000/33600]\n",
            "--------------------\n",
            "Test Error:\n",
            " Accuracy: 86.4%, Avg digit loss: 0.006961, Avg coordinate loss: 0.033222\n",
            "\n",
            "Epoch [10/10] \n",
            "\n",
            "main loss: 25.875828 [ 6400/33600]\n",
            "Digit prediction loss: 0.234720 [ 6400/33600]\n",
            "Coordinate prediction loss: 2.403834 [ 6400/33600]\n",
            "--------------------\n",
            "main loss: 42.259571 [12800/33600]\n",
            "Digit prediction loss: 0.407370 [12800/33600]\n",
            "Coordinate prediction loss: 1.522547 [12800/33600]\n",
            "--------------------\n",
            "main loss: 55.774380 [19200/33600]\n",
            "Digit prediction loss: 0.543018 [19200/33600]\n",
            "Coordinate prediction loss: 1.472570 [19200/33600]\n",
            "--------------------\n",
            "main loss: 38.425659 [25600/33600]\n",
            "Digit prediction loss: 0.364233 [25600/33600]\n",
            "Coordinate prediction loss: 2.002316 [25600/33600]\n",
            "--------------------\n",
            "main loss: 25.816513 [32000/33600]\n",
            "Digit prediction loss: 0.241910 [32000/33600]\n",
            "Coordinate prediction loss: 1.625477 [32000/33600]\n",
            "--------------------\n",
            "Test Error:\n",
            " Accuracy: 86.7%, Avg digit loss: 0.006743, Avg coordinate loss: 0.028797\n",
            "\n",
            "Done!\n"
          ]
        }
      ]
    },
    {
      "cell_type": "markdown",
      "source": [
        "# Test"
      ],
      "metadata": {
        "id": "e1wMXOE0QHMb"
      }
    },
    {
      "cell_type": "code",
      "source": [
        "test_df = pd.read_csv(\"./data/test.csv\")"
      ],
      "metadata": {
        "id": "IA1AHwfKwOI7"
      },
      "execution_count": 20,
      "outputs": []
    },
    {
      "cell_type": "code",
      "source": [
        "class TestDataset(Dataset):\n",
        "    def __init__(self, df):\n",
        "        self.df = df\n",
        "\n",
        "    def __getitem__(self, index):\n",
        "        image = np.reshape(np.array(self.df.iloc[index, :]), (28, 28)) / 255.\n",
        "\n",
        "        # create the new image\n",
        "        new_img = np.zeros((90, 90))\n",
        "\n",
        "        # randomly select a bottom left corner to use for img\n",
        "        x_min = randrange(90 - image.shape[0])\n",
        "        x_max = x_min + image.shape[0]\n",
        "        y_min = randrange(90 - image.shape[0])\n",
        "        y_max = y_min + image.shape[0]\n",
        "\n",
        "        new_img[x_min:x_max, y_min:y_max] = image\n",
        "        new_img = np.reshape(new_img, (1, 90, 90))\n",
        "\n",
        "        return new_img\n",
        "\n",
        "    def __len__(self):\n",
        "        return len(self.df)"
      ],
      "metadata": {
        "id": "uI-JYkfGE1Cj"
      },
      "execution_count": 21,
      "outputs": []
    },
    {
      "cell_type": "code",
      "source": [
        "test_dataset = TestDataset(test_df)\n",
        "\n",
        "test_dataloader = DataLoader(\n",
        "    test_dataset,\n",
        "    batch_size=64,\n",
        "    shuffle=True\n",
        ")"
      ],
      "metadata": {
        "id": "0O7_ANR6ObPG"
      },
      "execution_count": 22,
      "outputs": []
    },
    {
      "cell_type": "code",
      "source": [
        "inputs = next(iter(test_dataloader))"
      ],
      "metadata": {
        "id": "9KiGh_mufy5s"
      },
      "execution_count": 23,
      "outputs": []
    },
    {
      "cell_type": "code",
      "source": [
        "index = randrange(63)\n",
        "\n",
        "with torch.no_grad():\n",
        "    pred_cls, pred_point = model(inputs.to(device).float())\n",
        "    pred_cls = np.argmax(pred_cls[index].cpu().detach().numpy())\n",
        "\n",
        "img = np.reshape(inputs[index].cpu().detach().numpy(), (90, 90))\n",
        "\n",
        "y_max, x_min, y_min, x_max = int(pred_point[index][0]), int(pred_point[index][1]), int(pred_point[index][2]), int(pred_point[index][3])\n",
        "\n",
        "new_img = img.copy()\n",
        "new_img = cv2.rectangle(new_img, (y_max, x_min), (y_min, x_max), 255, 1)\n",
        "\n",
        "\n",
        "plt.imshow(img, cmap=\"gray\")\n",
        "plt.title(f\"{pred_cls}\")\n",
        "plt.show()"
      ],
      "metadata": {
        "colab": {
          "base_uri": "https://localhost:8080/",
          "height": 281
        },
        "id": "L2lSE4UZ9e4T",
        "outputId": "6c848f52-96d1-4721-9678-c75320d490d4"
      },
      "execution_count": 24,
      "outputs": [
        {
          "output_type": "display_data",
          "data": {
            "text/plain": [
              "<Figure size 432x288 with 1 Axes>"
            ],
            "image/png": "[encoded data removed]"
          },
          "metadata": {
            "needs_background": "light"
          }
        }
      ]
    },
    {
      "cell_type": "code",
      "source": [
        "new_img = img.copy()\n",
        "# new_img = cv2.rectangle(new_img, (y_max, x_min), (y_min, x_max), 255, 1)\n",
        "\n",
        "plt.imshow(new_img, cmap=\"gray\")\n",
        "plt.plot(y_max, x_min, \"or\", markersize=10)\n",
        "plt.plot(y_min, x_max, \"og\", markersize=10)\n",
        "plt.show()\n",
        "\n",
        "print(\"Digit:\", int(pred_cls))\n",
        "# print(\"Point:\", pred_point)\n",
        "print(f\"{y_max}, {x_min}, {y_min}, {x_max}\")"
      ],
      "metadata": {
        "colab": {
          "base_uri": "https://localhost:8080/",
          "height": 303
        },
        "id": "n-VErFMOJEQk",
        "outputId": "2d99cc71-75d5-439c-ae83-0f0d416c97e0"
      },
      "execution_count": 25,
      "outputs": [
        {
          "output_type": "display_data",
          "data": {
            "text/plain": [
              "<Figure size 432x288 with 1 Axes>"
            ],
            "image/png": "[encoded data removed]"
          },
          "metadata": {
            "needs_background": "light"
          }
        },
        {
          "output_type": "stream",
          "name": "stdout",
          "text": [
            "Digit: 6\n",
            "75, 33, 47, 61\n"
          ]
        }
      ]
    },
    {
      "cell_type": "code",
      "source": [
        ""
      ],
      "metadata": {
        "id": "FJRE9eoIHBoq"
      },
      "execution_count": 25,
      "outputs": []
    }
  ]
}