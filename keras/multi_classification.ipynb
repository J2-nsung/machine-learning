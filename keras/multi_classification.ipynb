{
  "nbformat": 4,
  "nbformat_minor": 0,
  "metadata": {
    "colab": {
      "name": "multi_classification.ipynb",
      "provenance": [],
      "include_colab_link": true
    },
    "kernelspec": {
      "name": "python3",
      "display_name": "Python 3"
    }
  },
  "cells": [
    {
      "cell_type": "markdown",
      "metadata": {
        "id": "view-in-github",
        "colab_type": "text"
      },
      "source": [
        "<a href=\"https://colab.research.google.com/github/J2-nsung/machine-learning/blob/master/multi_classification.ipynb\" target=\"_parent\"><img src=\"https://colab.research.google.com/assets/colab-badge.svg\" alt=\"Open In Colab\"/></a>"
      ]
    },
    {
      "cell_type": "code",
      "metadata": {
        "id": "pYW4YCKWc-Mf",
        "colab_type": "code",
        "outputId": "9cab60f5-0b71-4f38-f7cc-aef921f57ff8",
        "colab": {
          "base_uri": "https://localhost:8080/",
          "height": 100
        }
      },
      "source": [
        "import numpy as np\n",
        "import matplotlib.pyplot as plt\n",
        "import copy\n",
        "\n",
        "import keras\n",
        "from keras import models\n",
        "from keras import layers\n",
        "from keras import optimizers\n",
        "from keras import losses\n",
        "from keras import metrics\n",
        "from keras.utils.np_utils import to_categorical\n",
        "\n",
        "keras.__version__"
      ],
      "execution_count": 0,
      "outputs": [
        {
          "output_type": "stream",
          "text": [
            "Using TensorFlow backend.\n"
          ],
          "name": "stderr"
        },
        {
          "output_type": "display_data",
          "data": {
            "text/html": [
              "<p style=\"color: red;\">\n",
              "The default version of TensorFlow in Colab will soon switch to TensorFlow 2.x.<br>\n",
              "We recommend you <a href=\"https://www.tensorflow.org/guide/migrate\" target=\"_blank\">upgrade</a> now \n",
              "or ensure your notebook will continue to use TensorFlow 1.x via the <code>%tensorflow_version 1.x</code> magic:\n",
              "<a href=\"https://colab.research.google.com/notebooks/tensorflow_version.ipynb\" target=\"_blank\">more info</a>.</p>\n"
            ],
            "text/plain": [
              "<IPython.core.display.HTML object>"
            ]
          },
          "metadata": {
            "tags": []
          }
        },
        {
          "output_type": "execute_result",
          "data": {
            "text/plain": [
              "'2.2.5'"
            ]
          },
          "metadata": {
            "tags": []
          },
          "execution_count": 1
        }
      ]
    },
    {
      "cell_type": "code",
      "metadata": {
        "id": "z0Afh925dCkg",
        "colab_type": "code",
        "colab": {}
      },
      "source": [
        "# IMDB 데이터셋에서처럼 num_words=10000 매개변수는 데이터에서 가장 자주 등장하는 단어 10000개만 사용\n",
        "from keras.datasets import reuters\n",
        "(train_data, train_labels), (test_data, test_labels) = reuters.load_data(num_words=10000)"
      ],
      "execution_count": 0,
      "outputs": []
    },
    {
      "cell_type": "code",
      "metadata": {
        "id": "TiWXktfwdGYP",
        "colab_type": "code",
        "outputId": "744b3a60-2280-4903-dc52-df87f9c9676c",
        "colab": {
          "base_uri": "https://localhost:8080/",
          "height": 89
        }
      },
      "source": [
        "print(train_data.shape)\n",
        "print(train_labels.shape)\n",
        "print(test_data.shape)\n",
        "print(test_labels.shape)"
      ],
      "execution_count": 0,
      "outputs": [
        {
          "output_type": "stream",
          "text": [
            "(8982,)\n",
            "(8982,)\n",
            "(2246,)\n",
            "(2246,)\n"
          ],
          "name": "stdout"
        }
      ]
    },
    {
      "cell_type": "code",
      "metadata": {
        "id": "1YF1UJm4dIzT",
        "colab_type": "code",
        "outputId": "6d38ba23-ef67-422e-a82f-6b7feb3d203c",
        "colab": {
          "base_uri": "https://localhost:8080/",
          "height": 53
        }
      },
      "source": [
        "# IMDB 리뷰처럼 각샘플은 정수 리스트(단어 인덱스)\n",
        "print(train_data[10])\n",
        "\n",
        "# 샘플에 연결된 레이블은 토픽의 인덱스로 0과 45 사이의 정수\n",
        "print(train_labels[10])"
      ],
      "execution_count": 0,
      "outputs": [
        {
          "output_type": "stream",
          "text": [
            "[1, 245, 273, 207, 156, 53, 74, 160, 26, 14, 46, 296, 26, 39, 74, 2979, 3554, 14, 46, 4689, 4329, 86, 61, 3499, 4795, 14, 61, 451, 4329, 17, 12]\n",
            "3\n"
          ],
          "name": "stdout"
        }
      ]
    },
    {
      "cell_type": "code",
      "metadata": {
        "id": "5QKIVD8ydKnd",
        "colab_type": "code",
        "outputId": "ba2d6cf9-815b-494a-bcaa-c1814b995c4e",
        "colab": {
          "base_uri": "https://localhost:8080/",
          "height": 35
        }
      },
      "source": [
        "def vectorize_sequences(sequences, dimension=10000):\n",
        "    results = np.zeros((len(sequences), dimension))\n",
        "    for i, sequences in enumerate(sequences):\n",
        "        results[i, sequences] = 1. # results[i]에서 트정 인덱스의 위치를 1로 만든다\n",
        "    return results\n",
        "\n",
        "# 훈련 데이터를 벡터로 변환\n",
        "x_train = vectorize_sequences(train_data)\n",
        "\n",
        "# 테스트 데이터를 벡터로 변환\n",
        "x_test = vectorize_sequences(test_data)\n",
        "\n",
        "print(x_train[0])"
      ],
      "execution_count": 0,
      "outputs": [
        {
          "output_type": "stream",
          "text": [
            "[0. 1. 1. ... 0. 0. 0.]\n"
          ],
          "name": "stdout"
        }
      ]
    },
    {
      "cell_type": "code",
      "metadata": {
        "id": "27ou6FlbdMKB",
        "colab_type": "code",
        "colab": {}
      },
      "source": [
        "one_hot_train_labels = to_categorical(train_labels)\n",
        "one_hot_test_labels = to_categorical(test_labels)"
      ],
      "execution_count": 0,
      "outputs": []
    },
    {
      "cell_type": "code",
      "metadata": {
        "id": "htJiz2nAdPYS",
        "colab_type": "code",
        "outputId": "0c3560e7-c813-41a2-9c93-68fc6f13e3fa",
        "colab": {
          "base_uri": "https://localhost:8080/",
          "height": 197
        }
      },
      "source": [
        "model = models.Sequential()\n",
        "model.add(layers.Dense(64, activation='relu', input_shape=(10000,)))\n",
        "model.add(layers.Dense(64, activation='relu'))\n",
        "model.add(layers.Dense(46, activation='softmax'))\n",
        "model.compile(optimizer='rmsprop', loss='categorical_crossentropy', metrics=['accuracy'])"
      ],
      "execution_count": 0,
      "outputs": [
        {
          "output_type": "stream",
          "text": [
            "WARNING:tensorflow:From /usr/local/lib/python3.6/dist-packages/keras/backend/tensorflow_backend.py:66: The name tf.get_default_graph is deprecated. Please use tf.compat.v1.get_default_graph instead.\n",
            "\n",
            "WARNING:tensorflow:From /usr/local/lib/python3.6/dist-packages/keras/backend/tensorflow_backend.py:541: The name tf.placeholder is deprecated. Please use tf.compat.v1.placeholder instead.\n",
            "\n",
            "WARNING:tensorflow:From /usr/local/lib/python3.6/dist-packages/keras/backend/tensorflow_backend.py:4432: The name tf.random_uniform is deprecated. Please use tf.random.uniform instead.\n",
            "\n",
            "WARNING:tensorflow:From /usr/local/lib/python3.6/dist-packages/keras/optimizers.py:793: The name tf.train.Optimizer is deprecated. Please use tf.compat.v1.train.Optimizer instead.\n",
            "\n",
            "WARNING:tensorflow:From /usr/local/lib/python3.6/dist-packages/keras/backend/tensorflow_backend.py:3576: The name tf.log is deprecated. Please use tf.math.log instead.\n",
            "\n"
          ],
          "name": "stdout"
        }
      ]
    },
    {
      "cell_type": "code",
      "metadata": {
        "id": "pgf0jq-sdROM",
        "colab_type": "code",
        "colab": {}
      },
      "source": [
        "x_val = x_train[:1000]\n",
        "partial_x_train = x_train[1000:]\n",
        "\n",
        "y_val = one_hot_train_labels[:1000]\n",
        "partial_y_train = one_hot_train_labels[1000:]"
      ],
      "execution_count": 0,
      "outputs": []
    },
    {
      "cell_type": "code",
      "metadata": {
        "id": "Q2faQ4-LdSbX",
        "colab_type": "code",
        "outputId": "00a7de13-e183-418a-f910-b361a957c8d9",
        "colab": {
          "base_uri": "https://localhost:8080/",
          "height": 1000
        }
      },
      "source": [
        "history = model.fit(partial_x_train,\n",
        "                    partial_y_train,\n",
        "                    epochs=20,\n",
        "                    batch_size=512,\n",
        "                    validation_data=(x_val, y_val))"
      ],
      "execution_count": 0,
      "outputs": [
        {
          "output_type": "stream",
          "text": [
            "WARNING:tensorflow:From /usr/local/lib/python3.6/dist-packages/tensorflow_core/python/ops/math_grad.py:1424: where (from tensorflow.python.ops.array_ops) is deprecated and will be removed in a future version.\n",
            "Instructions for updating:\n",
            "Use tf.where in 2.0, which has the same broadcast rule as np.where\n",
            "WARNING:tensorflow:From /usr/local/lib/python3.6/dist-packages/keras/backend/tensorflow_backend.py:1033: The name tf.assign_add is deprecated. Please use tf.compat.v1.assign_add instead.\n",
            "\n",
            "WARNING:tensorflow:From /usr/local/lib/python3.6/dist-packages/keras/backend/tensorflow_backend.py:1020: The name tf.assign is deprecated. Please use tf.compat.v1.assign instead.\n",
            "\n",
            "WARNING:tensorflow:From /usr/local/lib/python3.6/dist-packages/keras/backend/tensorflow_backend.py:3005: The name tf.Session is deprecated. Please use tf.compat.v1.Session instead.\n",
            "\n",
            "Train on 7982 samples, validate on 1000 samples\n",
            "Epoch 1/20\n",
            "WARNING:tensorflow:From /usr/local/lib/python3.6/dist-packages/keras/backend/tensorflow_backend.py:190: The name tf.get_default_session is deprecated. Please use tf.compat.v1.get_default_session instead.\n",
            "\n",
            "WARNING:tensorflow:From /usr/local/lib/python3.6/dist-packages/keras/backend/tensorflow_backend.py:197: The name tf.ConfigProto is deprecated. Please use tf.compat.v1.ConfigProto instead.\n",
            "\n",
            "WARNING:tensorflow:From /usr/local/lib/python3.6/dist-packages/keras/backend/tensorflow_backend.py:207: The name tf.global_variables is deprecated. Please use tf.compat.v1.global_variables instead.\n",
            "\n",
            "WARNING:tensorflow:From /usr/local/lib/python3.6/dist-packages/keras/backend/tensorflow_backend.py:216: The name tf.is_variable_initialized is deprecated. Please use tf.compat.v1.is_variable_initialized instead.\n",
            "\n",
            "WARNING:tensorflow:From /usr/local/lib/python3.6/dist-packages/keras/backend/tensorflow_backend.py:223: The name tf.variables_initializer is deprecated. Please use tf.compat.v1.variables_initializer instead.\n",
            "\n",
            "7982/7982 [==============================] - 1s 150us/step - loss: 2.5254 - acc: 0.5149 - val_loss: 1.6935 - val_acc: 0.6420\n",
            "Epoch 2/20\n",
            "7982/7982 [==============================] - 1s 122us/step - loss: 1.3933 - acc: 0.7090 - val_loss: 1.3060 - val_acc: 0.7150\n",
            "Epoch 3/20\n",
            "7982/7982 [==============================] - 1s 123us/step - loss: 1.0403 - acc: 0.7779 - val_loss: 1.1521 - val_acc: 0.7490\n",
            "Epoch 4/20\n",
            "7982/7982 [==============================] - 1s 122us/step - loss: 0.8100 - acc: 0.8301 - val_loss: 1.0492 - val_acc: 0.7750\n",
            "Epoch 5/20\n",
            "7982/7982 [==============================] - 1s 124us/step - loss: 0.6400 - acc: 0.8675 - val_loss: 0.9830 - val_acc: 0.7990\n",
            "Epoch 6/20\n",
            "7982/7982 [==============================] - 1s 122us/step - loss: 0.5120 - acc: 0.8944 - val_loss: 0.9519 - val_acc: 0.8010\n",
            "Epoch 7/20\n",
            "7982/7982 [==============================] - 1s 122us/step - loss: 0.4107 - acc: 0.9172 - val_loss: 0.9031 - val_acc: 0.8220\n",
            "Epoch 8/20\n",
            "7982/7982 [==============================] - 1s 124us/step - loss: 0.3339 - acc: 0.9322 - val_loss: 0.9050 - val_acc: 0.8080\n",
            "Epoch 9/20\n",
            "7982/7982 [==============================] - 1s 122us/step - loss: 0.2743 - acc: 0.9407 - val_loss: 0.9037 - val_acc: 0.8200\n",
            "Epoch 10/20\n",
            "7982/7982 [==============================] - 1s 124us/step - loss: 0.2358 - acc: 0.9460 - val_loss: 0.9125 - val_acc: 0.8150\n",
            "Epoch 11/20\n",
            "7982/7982 [==============================] - 1s 123us/step - loss: 0.2018 - acc: 0.9508 - val_loss: 0.9231 - val_acc: 0.8210\n",
            "Epoch 12/20\n",
            "7982/7982 [==============================] - 1s 130us/step - loss: 0.1847 - acc: 0.9506 - val_loss: 0.9633 - val_acc: 0.8060\n",
            "Epoch 13/20\n",
            "7982/7982 [==============================] - 1s 127us/step - loss: 0.1633 - acc: 0.9534 - val_loss: 0.9408 - val_acc: 0.8170\n",
            "Epoch 14/20\n",
            "7982/7982 [==============================] - 1s 122us/step - loss: 0.1536 - acc: 0.9541 - val_loss: 1.0088 - val_acc: 0.7960\n",
            "Epoch 15/20\n",
            "7982/7982 [==============================] - 1s 125us/step - loss: 0.1374 - acc: 0.9573 - val_loss: 1.0073 - val_acc: 0.8130\n",
            "Epoch 16/20\n",
            "7982/7982 [==============================] - 1s 124us/step - loss: 0.1338 - acc: 0.9554 - val_loss: 1.1680 - val_acc: 0.7770\n",
            "Epoch 17/20\n",
            "7982/7982 [==============================] - 1s 125us/step - loss: 0.1252 - acc: 0.9572 - val_loss: 1.0776 - val_acc: 0.8120\n",
            "Epoch 18/20\n",
            "7982/7982 [==============================] - 1s 125us/step - loss: 0.1231 - acc: 0.9562 - val_loss: 1.0256 - val_acc: 0.8180\n",
            "Epoch 19/20\n",
            "7982/7982 [==============================] - 1s 123us/step - loss: 0.1168 - acc: 0.9597 - val_loss: 1.0509 - val_acc: 0.8090\n",
            "Epoch 20/20\n",
            "7982/7982 [==============================] - 1s 122us/step - loss: 0.1170 - acc: 0.9568 - val_loss: 1.1378 - val_acc: 0.7980\n"
          ],
          "name": "stdout"
        }
      ]
    },
    {
      "cell_type": "code",
      "metadata": {
        "id": "IcqVMJVZdT6d",
        "colab_type": "code",
        "outputId": "32c723f3-5c83-4a6b-f586-3f775bcb9224",
        "colab": {
          "base_uri": "https://localhost:8080/",
          "height": 35
        }
      },
      "source": [
        "history_dict = history.history\n",
        "history_dict.keys()"
      ],
      "execution_count": 0,
      "outputs": [
        {
          "output_type": "execute_result",
          "data": {
            "text/plain": [
              "dict_keys(['val_loss', 'val_acc', 'loss', 'acc'])"
            ]
          },
          "metadata": {
            "tags": []
          },
          "execution_count": 10
        }
      ]
    },
    {
      "cell_type": "code",
      "metadata": {
        "id": "DlDVCBbodayn",
        "colab_type": "code",
        "outputId": "297084e4-2480-40bc-fcf4-fa9f3bdb1346",
        "colab": {
          "base_uri": "https://localhost:8080/",
          "height": 295
        }
      },
      "source": [
        "acc = history.history['acc']\n",
        "val_acc = history.history['val_acc']\n",
        "loss = history.history['loss']\n",
        "val_loss = history.history['val_loss']\n",
        "\n",
        "epochs = range(1, len(acc) + 1)\n",
        "\n",
        "# 'bo'는 파란색 점을 의미합니다\n",
        "plt.plot(epochs, loss, 'bo', label='Training loss')\n",
        "plt.plot(epochs, val_loss, 'b', label='Validation loss')\n",
        "\n",
        "plt.title('Training and validation loss')\n",
        "plt.xlabel('Epochs')\n",
        "plt.ylabel('Loss')\n",
        "plt.legend()\n",
        "\n",
        "plt.show()"
      ],
      "execution_count": 0,
      "outputs": [
        {
          "output_type": "display_data",
          "data": {
            "image/png": "[encoded data removed]",
            "text/plain": [
              "<Figure size 432x288 with 1 Axes>"
            ]
          },
          "metadata": {
            "tags": []
          }
        }
      ]
    },
    {
      "cell_type": "code",
      "metadata": {
        "id": "b_3QdVlEddXA",
        "colab_type": "code",
        "outputId": "a6066cb0-3a32-4bc1-de32-9dd45f0cce4b",
        "colab": {
          "base_uri": "https://localhost:8080/",
          "height": 295
        }
      },
      "source": [
        "plt.clf() # 그래프를 초기화\n",
        "acc = history_dict['acc']\n",
        "val_acc = history_dict['val_acc']\n",
        "\n",
        "plt.plot(epochs, acc, 'bo', label='Training acc')\n",
        "plt.plot(epochs, val_acc, 'b', label='Validation acc')\n",
        "plt.title('Trining and validation accuracy')\n",
        "plt.xlabel('Epochs')\n",
        "plt.ylabel('Accuracy')\n",
        "plt.legend()\n",
        "\n",
        "plt.show()"
      ],
      "execution_count": 0,
      "outputs": [
        {
          "output_type": "display_data",
          "data": {
            "image/png": "[encoded data removed]",
            "text/plain": [
              "<Figure size 432x288 with 1 Axes>"
            ]
          },
          "metadata": {
            "tags": []
          }
        }
      ]
    },
    {
      "cell_type": "code",
      "metadata": {
        "id": "LqRpejFwdeQH",
        "colab_type": "code",
        "outputId": "673363a9-4982-4899-8740-a04e23a2c59d",
        "colab": {
          "base_uri": "https://localhost:8080/",
          "height": 395
        }
      },
      "source": [
        "model = models.Sequential()\n",
        "model.add(layers.Dense(64, activation='relu', input_shape=(10000,)))\n",
        "model.add(layers.Dense(64, activation='relu'))\n",
        "model.add(layers.Dense(46, activation='softmax'))\n",
        "model.compile(optimizer='rmsprop', loss='binary_crossentropy', metrics=['accuracy'])\n",
        "\n",
        "model.fit(partial_x_train, partial_y_train, epochs=9, batch_size=512, validation_data=(x_val, y_val))\n",
        "results = model.evaluate(x_test, one_hot_test_labels)\n",
        "print(results) # [, acc]"
      ],
      "execution_count": 0,
      "outputs": [
        {
          "output_type": "stream",
          "text": [
            "Train on 7982 samples, validate on 1000 samples\n",
            "Epoch 1/9\n",
            "7982/7982 [==============================] - 1s 160us/step - loss: 0.0740 - acc: 0.9805 - val_loss: 0.0506 - val_acc: 0.9856\n",
            "Epoch 2/9\n",
            "7982/7982 [==============================] - 1s 128us/step - loss: 0.0428 - acc: 0.9884 - val_loss: 0.0395 - val_acc: 0.9897\n",
            "Epoch 3/9\n",
            "7982/7982 [==============================] - 1s 124us/step - loss: 0.0329 - acc: 0.9911 - val_loss: 0.0355 - val_acc: 0.9903\n",
            "Epoch 4/9\n",
            "7982/7982 [==============================] - 1s 123us/step - loss: 0.0268 - acc: 0.9924 - val_loss: 0.0332 - val_acc: 0.9908\n",
            "Epoch 5/9\n",
            "7982/7982 [==============================] - 1s 124us/step - loss: 0.0221 - acc: 0.9937 - val_loss: 0.0311 - val_acc: 0.9916\n",
            "Epoch 6/9\n",
            "7982/7982 [==============================] - 1s 125us/step - loss: 0.0184 - acc: 0.9946 - val_loss: 0.0306 - val_acc: 0.9917\n",
            "Epoch 7/9\n",
            "7982/7982 [==============================] - 1s 125us/step - loss: 0.0154 - acc: 0.9954 - val_loss: 0.0301 - val_acc: 0.9918\n",
            "Epoch 8/9\n",
            "7982/7982 [==============================] - 1s 126us/step - loss: 0.0130 - acc: 0.9959 - val_loss: 0.0290 - val_acc: 0.9922\n",
            "Epoch 9/9\n",
            "7982/7982 [==============================] - 1s 126us/step - loss: 0.0110 - acc: 0.9965 - val_loss: 0.0295 - val_acc: 0.9922\n",
            "2246/2246 [==============================] - 0s 100us/step\n",
            "[0.032592985337850565, 0.9913856677465532]\n"
          ],
          "name": "stdout"
        }
      ]
    },
    {
      "cell_type": "code",
      "metadata": {
        "id": "cYPKfC6XdgUf",
        "colab_type": "code",
        "outputId": "e8722638-95a0-4167-e39c-7efd6720309c",
        "colab": {
          "base_uri": "https://localhost:8080/",
          "height": 53
        }
      },
      "source": [
        "# 데이터 테스트\n",
        "predictions = model.predict(x_test)\n",
        "print(predictions[0].shape)\n",
        "print(np.argmax(predictions[0]))"
      ],
      "execution_count": 0,
      "outputs": [
        {
          "output_type": "stream",
          "text": [
            "(46,)\n",
            "3\n"
          ],
          "name": "stdout"
        }
      ]
    },
    {
      "cell_type": "code",
      "metadata": {
        "id": "QEtOTPy3dkHP",
        "colab_type": "code",
        "outputId": "18b49359-f13d-4527-cfd5-b90f408aa703",
        "colab": {
          "base_uri": "https://localhost:8080/",
          "height": 395
        }
      },
      "source": [
        "# 은닉 층의 노드 수를 출력 노드수에 비해 줄이면 안되는 이유 테스트\n",
        "model = models.Sequential()\n",
        "model.add(layers.Dense(64, activation='relu', input_shape=(10000,)))\n",
        "model.add(layers.Dense(4, activation='relu'))\n",
        "model.add(layers.Dense(46, activation='softmax'))\n",
        "model.compile(optimizer='rmsprop', loss='binary_crossentropy', metrics=['accuracy'])\n",
        "\n",
        "# epochs를 4로 낮춤\n",
        "model.fit(partial_x_train, partial_y_train, epochs=9, batch_size=512, validation_data=(x_val, y_val))\n",
        "results = model.evaluate(x_test, one_hot_test_labels)\n",
        "print(results) # [, acc]"
      ],
      "execution_count": 0,
      "outputs": [
        {
          "output_type": "stream",
          "text": [
            "Train on 7982 samples, validate on 1000 samples\n",
            "Epoch 1/9\n",
            "7982/7982 [==============================] - 1s 159us/step - loss: 0.0996 - acc: 0.9783 - val_loss: 0.0951 - val_acc: 0.9783\n",
            "Epoch 2/9\n",
            "7982/7982 [==============================] - 1s 124us/step - loss: 0.0906 - acc: 0.9783 - val_loss: 0.0885 - val_acc: 0.9783\n",
            "Epoch 3/9\n",
            "7982/7982 [==============================] - 1s 124us/step - loss: 0.0826 - acc: 0.9786 - val_loss: 0.0809 - val_acc: 0.9785\n",
            "Epoch 4/9\n",
            "7982/7982 [==============================] - 1s 122us/step - loss: 0.0731 - acc: 0.9789 - val_loss: 0.0710 - val_acc: 0.9788\n",
            "Epoch 5/9\n",
            "7982/7982 [==============================] - 1s 124us/step - loss: 0.0615 - acc: 0.9809 - val_loss: 0.0599 - val_acc: 0.9825\n",
            "Epoch 6/9\n",
            "7982/7982 [==============================] - 1s 123us/step - loss: 0.0511 - acc: 0.9848 - val_loss: 0.0519 - val_acc: 0.9850\n",
            "Epoch 7/9\n",
            "7982/7982 [==============================] - 1s 122us/step - loss: 0.0439 - acc: 0.9877 - val_loss: 0.0466 - val_acc: 0.9879\n",
            "Epoch 8/9\n",
            "7982/7982 [==============================] - 1s 121us/step - loss: 0.0392 - acc: 0.9904 - val_loss: 0.0438 - val_acc: 0.9893\n",
            "Epoch 9/9\n",
            "7982/7982 [==============================] - 1s 120us/step - loss: 0.0361 - acc: 0.9912 - val_loss: 0.0426 - val_acc: 0.9897\n",
            "2246/2246 [==============================] - 0s 96us/step\n",
            "[0.04397775723083892, 0.9897111937178105]\n"
          ],
          "name": "stdout"
        }
      ]
    },
    {
      "cell_type": "code",
      "metadata": {
        "id": "yJOlCM0mdng_",
        "colab_type": "code",
        "colab": {}
      },
      "source": [
        ""
      ],
      "execution_count": 0,
      "outputs": []
    }
  ]
}
