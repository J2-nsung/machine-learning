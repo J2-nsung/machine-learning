{
 "cells": [
  {
   "cell_type": "code",
   "execution_count": 24,
   "metadata": {},
   "outputs": [],
   "source": [
    "# ANN(Artificial Neural Networks) 구현\n",
    "import tensorflow as tf"
   ]
  },
  {
   "cell_type": "code",
   "execution_count": 25,
   "metadata": {},
   "outputs": [
    {
     "name": "stdout",
     "output_type": "stream",
     "text": [
      "Extracting /tmp/data/train-images-idx3-ubyte.gz\n",
      "Extracting /tmp/data/train-labels-idx1-ubyte.gz\n",
      "Extracting /tmp/data/t10k-images-idx3-ubyte.gz\n",
      "Extracting /tmp/data/t10k-labels-idx1-ubyte.gz\n"
     ]
    }
   ],
   "source": [
    "from tensorflow.examples.tutorials.mnist import input_data\n",
    "mnist = input_data.read_data_sets(\"/tmp/data/\", one_hot=True)"
   ]
  },
  {
   "cell_type": "code",
   "execution_count": 26,
   "metadata": {},
   "outputs": [],
   "source": [
    "# 학습을 위한 설정값 정의\n",
    "learning_rate = 0.001\n",
    "num_epochs = 30\n",
    "batch_size = 256 \n",
    "display_step = 1\n",
    "input_size = 784\n",
    "hidden1_size = 256\n",
    "hidden2_size = 256\n",
    "output_size = 10\n",
    "\n",
    "x = tf.placeholder(tf.float32, shape=[None, input_size])\n",
    "y = tf.placeholder(tf.float32, shape=[None, output_size])"
   ]
  },
  {
   "cell_type": "code",
   "execution_count": 29,
   "metadata": {},
   "outputs": [],
   "source": [
    "# ANN 모델 정의\n",
    "def build_ANN(x):\n",
    "    W1 = tf.Variable(tf.random_normal(shape=[input_size, hidden1_size]))\n",
    "    b1 = tf.Variable(tf.random_normal(shape=[hidden1_size]))\n",
    "    H1_output = tf.nn.relu(tf.matmul(x, W1) + b1)\n",
    "    \n",
    "    W2 = tf.Variable(tf.random_normal(shape=[hidden1_size, hidden2_size]))\n",
    "    b2 = tf.Variable(tf.random_normal(shape=[hidden2_size]))\n",
    "    H2_output = tf.nn.relu(tf.matmul(H1_output, W2) + b2)\n",
    "    \n",
    "    W_output = tf.Variable(tf.random_normal(shape=[hidden2_size, output_size]))\n",
    "    b_output = tf.Variable(tf.random_normal(shape=[output_size]))\n",
    "    logits = tf.matmul(H2_output, W_output) + b_output\n",
    "    return logits"
   ]
  },
  {
   "cell_type": "code",
   "execution_count": 30,
   "metadata": {},
   "outputs": [],
   "source": [
    "# ANN 모델 선언\n",
    "predicted_value = build_ANN(x)"
   ]
  },
  {
   "cell_type": "code",
   "execution_count": 32,
   "metadata": {},
   "outputs": [],
   "source": [
    "# 손실함수, 옵티마이저 정의\n",
    "# tf.nn.softmax_cross_entropy_with_logits 함수를 이용하여 활성함수를 적용하지 않은 output layer의\n",
    "# 결과값(logits)에 softmax 함수를 적용\n",
    "loss = tf.reduce_mean(tf.nn.softmax_cross_entropy_with_logits_v2(logits=predicted_value, labels=y))\n",
    "train_step = tf.train.AdamOptimizer(learning_rate=learning_rate).minimize(loss)"
   ]
  },
  {
   "cell_type": "code",
   "execution_count": 38,
   "metadata": {},
   "outputs": [
    {
     "name": "stdout",
     "output_type": "stream",
     "text": [
      "반복(Epoch): 1, 손실함수(Loss): 349.262173\n",
      "반복(Epoch): 2, 손실함수(Loss): 73.231429\n",
      "반복(Epoch): 3, 손실함수(Loss): 47.448106\n",
      "반복(Epoch): 4, 손실함수(Loss): 35.173510\n",
      "반복(Epoch): 5, 손실함수(Loss): 27.647424\n",
      "반복(Epoch): 6, 손실함수(Loss): 22.323882\n",
      "반복(Epoch): 7, 손실함수(Loss): 18.362053\n",
      "반복(Epoch): 8, 손실함수(Loss): 15.308782\n",
      "반복(Epoch): 9, 손실함수(Loss): 12.973394\n",
      "반복(Epoch): 10, 손실함수(Loss): 10.715879\n",
      "반복(Epoch): 11, 손실함수(Loss): 9.057028\n",
      "반복(Epoch): 12, 손실함수(Loss): 7.527470\n",
      "반복(Epoch): 13, 손실함수(Loss): 6.472957\n",
      "반복(Epoch): 14, 손실함수(Loss): 5.383472\n",
      "반복(Epoch): 15, 손실함수(Loss): 4.573421\n",
      "반복(Epoch): 16, 손실함수(Loss): 3.658889\n",
      "반복(Epoch): 17, 손실함수(Loss): 3.186539\n",
      "반복(Epoch): 18, 손실함수(Loss): 2.596437\n",
      "반복(Epoch): 19, 손실함수(Loss): 2.025013\n",
      "반복(Epoch): 20, 손실함수(Loss): 1.750187\n",
      "반복(Epoch): 21, 손실함수(Loss): 1.418985\n",
      "반복(Epoch): 22, 손실함수(Loss): 1.104484\n",
      "반복(Epoch): 23, 손실함수(Loss): 0.887786\n",
      "반복(Epoch): 24, 손실함수(Loss): 0.767419\n",
      "반복(Epoch): 25, 손실함수(Loss): 0.605244\n",
      "반복(Epoch): 26, 손실함수(Loss): 0.522284\n",
      "반복(Epoch): 27, 손실함수(Loss): 0.406983\n",
      "반복(Epoch): 28, 손실함수(Loss): 0.354004\n",
      "반복(Epoch): 29, 손실함수(Loss): 0.284656\n",
      "반복(Epoch): 30, 손실함수(Loss): 0.299417\n",
      "정확도(Accuracy): 0.941900\n"
     ]
    }
   ],
   "source": [
    "# 세션을 열고 그래프 실행\n",
    "with tf.Session() as sess:\n",
    "    sess.run(tf.global_variables_initializer())\n",
    "    \n",
    "    # 지정된 횟수만큼 최적화\n",
    "    for epoch in range(num_epochs):\n",
    "        average_loss = 0.\n",
    "        total_batch = int(mnist.train.num_examples/batch_size)\n",
    "        # 모든 배치에 대해 최적화\n",
    "        for i in range(total_batch):\n",
    "            batch_x, batch_y = mnist.train.next_batch(batch_size)\n",
    "            # 옵티마이저 실행, 파라미터 업데이트\n",
    "            _, current_loss = sess.run([train_step, loss], feed_dict={x: batch_x, y: batch_y})\n",
    "            # 평균 손실 측정\n",
    "            average_loss += current_loss / total_batch\n",
    "            \n",
    "        #지정된 epoch마다 학습결과 출력\n",
    "        if epoch % display_step == 0:\n",
    "            print(\"반복(Epoch): %d, 손실함수(Loss): %f\" % ((epoch+1), average_loss))\n",
    "            \n",
    "    # 정확도 출력\n",
    "    correct_prediction = tf.equal(tf.argmax(predicted_value, 1), tf.argmax(y, 1))\n",
    "    accuracy = tf.reduce_mean(tf.cast(correct_prediction, \"float\"))\n",
    "    \n",
    "    print(\"정확도(Accuracy): %f\" % (accuracy.eval(feed_dict={x: mnist.test.images, y: mnist.test.labels})))\n",
    "    "
   ]
  },
  {
   "cell_type": "code",
   "execution_count": null,
   "metadata": {},
   "outputs": [],
   "source": []
  }
 ],
 "metadata": {
  "kernelspec": {
   "display_name": "Python 3",
   "language": "python",
   "name": "python3"
  },
  "language_info": {
   "codemirror_mode": {
    "name": "ipython",
    "version": 3
   },
   "file_extension": ".py",
   "mimetype": "text/x-python",
   "name": "python",
   "nbconvert_exporter": "python",
   "pygments_lexer": "ipython3",
   "version": "3.7.3"
  }
 },
 "nbformat": 4,
 "nbformat_minor": 2
}
