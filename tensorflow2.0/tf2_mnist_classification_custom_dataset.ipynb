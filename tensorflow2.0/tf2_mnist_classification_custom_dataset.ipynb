{
  "nbformat": 4,
  "nbformat_minor": 0,
  "metadata": {
    "colab": {
      "name": "tf2_mnist_classification_custom_model.ipynb",
      "provenance": [],
      "collapsed_sections": []
    },
    "kernelspec": {
      "name": "python3",
      "display_name": "Python 3"
    },
    "language_info": {
      "name": "python"
    },
    "accelerator": "GPU",
    "gpuClass": "standard"
  },
  "cells": [
    {
      "cell_type": "code",
      "execution_count": 1,
      "metadata": {
        "colab": {
          "base_uri": "https://localhost:8080/"
        },
        "id": "q-6yJhrT0CKZ",
        "outputId": "75b1147e-4fea-492b-d071-dae2be62b3b2"
      },
      "outputs": [
        {
          "output_type": "stream",
          "name": "stdout",
          "text": [
            "/content/drive/MyDrive/Colab Notebooks\n"
          ]
        }
      ],
      "source": [
        "cd drive/MyDrive/Colab\\ Notebooks"
      ]
    },
    {
      "cell_type": "code",
      "source": [
        "import os\n",
        "import time\n",
        "import copy\n",
        "import math\n",
        "import random\n",
        "\n",
        "import numpy as np\n",
        "import pandas as pd\n",
        "\n",
        "import PIL\n",
        "import cv2\n",
        "import glob\n",
        "\n",
        "import tensorflow as tf\n",
        "\n",
        "from sklearn.model_selection import train_test_split"
      ],
      "metadata": {
        "id": "o5_T_Ot00vfq"
      },
      "execution_count": 2,
      "outputs": []
    },
    {
      "cell_type": "markdown",
      "source": [
        "# Dataset Load"
      ],
      "metadata": {
        "id": "CVsOvT9o8F1a"
      }
    },
    {
      "cell_type": "code",
      "source": [
        "train_df = pd.read_csv(\"./data/train.csv\")\n",
        "test_df = pd.read_csv(\"./data/test.csv\")"
      ],
      "metadata": {
        "id": "wwinCSFW1FBw"
      },
      "execution_count": 3,
      "outputs": []
    },
    {
      "cell_type": "code",
      "source": [
        "def TrainDataset(df):\n",
        "    images =[]\n",
        "    for idx in range(len(df)):\n",
        "        img = np.reshape(np.array(df.iloc[idx, 1:]), (28, 28)) / 255.\n",
        "        images.append(img)\n",
        "    \n",
        "    labels = np.array(df.iloc[:, 0]) \n",
        "\n",
        "    return np.array(images), labels"
      ],
      "metadata": {
        "id": "v8qWYaGX1Jev"
      },
      "execution_count": 4,
      "outputs": []
    },
    {
      "cell_type": "code",
      "source": [
        "X, y = TrainDataset(train_df)"
      ],
      "metadata": {
        "id": "S9W0G6yS11rD"
      },
      "execution_count": 5,
      "outputs": []
    },
    {
      "cell_type": "markdown",
      "source": [
        "# train, valid split"
      ],
      "metadata": {
        "id": "hFOoqH028Oif"
      }
    },
    {
      "cell_type": "code",
      "source": [
        "train_X, valid_X, train_y, valid_y = train_test_split(X, y, test_size=0.2, random_state=0, stratify=y)"
      ],
      "metadata": {
        "id": "oOyUHhZk13x6"
      },
      "execution_count": 6,
      "outputs": []
    },
    {
      "cell_type": "markdown",
      "source": [
        "# Model Building"
      ],
      "metadata": {
        "id": "TZGQMNBy8U5w"
      }
    },
    {
      "cell_type": "code",
      "source": [
        "model = tf.keras.Sequential([\n",
        "    tf.keras.layers.Conv2D(32, 3, activation='relu', input_shape=(28, 28, 1)),\n",
        "    tf.keras.layers.MaxPool2D(),\n",
        "    tf.keras.layers.Flatten(),\n",
        "    tf.keras.layers.Dense(64, activation='relu'),\n",
        "    tf.keras.layers.Dense(10, activation='softmax')\n",
        "])"
      ],
      "metadata": {
        "id": "_hrcJaPY5vPD"
      },
      "execution_count": 7,
      "outputs": []
    },
    {
      "cell_type": "code",
      "source": [
        "model.compile(optimizer=tf.keras.optimizers.Adam(),\n",
        "              loss='sparse_categorical_crossentropy',\n",
        "              metrics=['accuracy'])"
      ],
      "metadata": {
        "id": "D8PiM_uY6u4K"
      },
      "execution_count": 8,
      "outputs": []
    },
    {
      "cell_type": "markdown",
      "source": [
        "# Train"
      ],
      "metadata": {
        "id": "jWTTylje8dnf"
      }
    },
    {
      "cell_type": "code",
      "source": [
        "model.fit(train_X, train_y, batch_size=128, epochs=5, validation_data=(valid_X, valid_y))"
      ],
      "metadata": {
        "colab": {
          "base_uri": "https://localhost:8080/"
        },
        "id": "fkTHh21_7G2Y",
        "outputId": "5ccd4ffc-b9d5-453e-c082-a8f04cafdca0"
      },
      "execution_count": 9,
      "outputs": [
        {
          "output_type": "stream",
          "name": "stdout",
          "text": [
            "Epoch 1/5\n",
            "263/263 [==============================] - 4s 6ms/step - loss: 0.3558 - accuracy: 0.8992 - val_loss: 0.1580 - val_accuracy: 0.9546\n",
            "Epoch 2/5\n",
            "263/263 [==============================] - 1s 5ms/step - loss: 0.1082 - accuracy: 0.9682 - val_loss: 0.1053 - val_accuracy: 0.9704\n",
            "Epoch 3/5\n",
            "263/263 [==============================] - 1s 5ms/step - loss: 0.0676 - accuracy: 0.9800 - val_loss: 0.0879 - val_accuracy: 0.9737\n",
            "Epoch 4/5\n",
            "263/263 [==============================] - 1s 5ms/step - loss: 0.0523 - accuracy: 0.9843 - val_loss: 0.0807 - val_accuracy: 0.9744\n",
            "Epoch 5/5\n",
            "263/263 [==============================] - 1s 5ms/step - loss: 0.0407 - accuracy: 0.9876 - val_loss: 0.0789 - val_accuracy: 0.9774\n"
          ]
        },
        {
          "output_type": "execute_result",
          "data": {
            "text/plain": [
              "<keras.callbacks.History at 0x7f9b30788410>"
            ]
          },
          "metadata": {},
          "execution_count": 9
        }
      ]
    },
    {
      "cell_type": "markdown",
      "source": [
        "# Test"
      ],
      "metadata": {
        "id": "JwL42fKy8ewq"
      }
    },
    {
      "cell_type": "code",
      "source": [
        "def TestDataset(df):\n",
        "    images =[]\n",
        "    for idx in range(len(df)):\n",
        "        img = np.reshape(np.array(df.iloc[idx, :]), (28, 28)) / 255.\n",
        "        images.append(img)\n",
        "\n",
        "    return np.array(images)"
      ],
      "metadata": {
        "id": "eiPEwRi374DU"
      },
      "execution_count": 10,
      "outputs": []
    },
    {
      "cell_type": "code",
      "source": [
        "len(test_df)"
      ],
      "metadata": {
        "colab": {
          "base_uri": "https://localhost:8080/"
        },
        "id": "7YrVIKLk9TAU",
        "outputId": "840a3df6-2393-45e3-d9fb-c638b3904a67"
      },
      "execution_count": 11,
      "outputs": [
        {
          "output_type": "execute_result",
          "data": {
            "text/plain": [
              "28000"
            ]
          },
          "metadata": {},
          "execution_count": 11
        }
      ]
    },
    {
      "cell_type": "code",
      "source": [
        "test_X = TestDataset(test_df)"
      ],
      "metadata": {
        "id": "87lNwk6n8mAx"
      },
      "execution_count": 12,
      "outputs": []
    },
    {
      "cell_type": "code",
      "source": [
        "preds = model.predict(test_X)"
      ],
      "metadata": {
        "id": "7-WsJt0I8rHW"
      },
      "execution_count": 13,
      "outputs": []
    },
    {
      "cell_type": "code",
      "source": [
        "preds.shape"
      ],
      "metadata": {
        "colab": {
          "base_uri": "https://localhost:8080/"
        },
        "id": "xUS9XbDD8wCj",
        "outputId": "c3a269bf-ae2c-4bf9-abe3-ca6f6c4ade0a"
      },
      "execution_count": 14,
      "outputs": [
        {
          "output_type": "execute_result",
          "data": {
            "text/plain": [
              "(28000, 10)"
            ]
          },
          "metadata": {},
          "execution_count": 14
        }
      ]
    },
    {
      "cell_type": "code",
      "source": [
        ""
      ],
      "metadata": {
        "id": "GXu80DOZ9Q2X"
      },
      "execution_count": 14,
      "outputs": []
    }
  ]
}