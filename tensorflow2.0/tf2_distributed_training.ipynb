{
 "nbformat": 4,
 "nbformat_minor": 0,
 "metadata": {
  "colab": {
   "name": "tf2_distributed training.ipynb",
   "provenance": [],
   "collapsed_sections": []
  },
  "kernelspec": {
   "name": "python3",
   "display_name": "Python 3"
  },
  "language_info": {
   "name": "python"
  },
  "accelerator": "GPU",
  "gpuClass": "standard"
 },
 "cells": [
  {
   "cell_type": "code",
   "source": [
    "import tensorflow_datasets as tfds\n",
    "import tensorflow as tf\n",
    "tfds.disable_progress_bar()\n",
    "\n",
    "import os\n",
    "import numpy as np"
   ],
   "metadata": {
    "id": "4oxb_1nSFfgY"
   },
   "execution_count": 2,
   "outputs": []
  },
  {
   "cell_type": "markdown",
   "source": [
    "# 데이터셋 로드"
   ],
   "metadata": {
    "id": "N0fgpCiTF2Ne"
   }
  },
  {
   "cell_type": "code",
   "source": [
    "datasets, info = tfds.load(name='mnist', with_info=True, as_supervised=True)\n",
    "mnist_train, mnist_test = datasets['train'], datasets['test']"
   ],
   "metadata": {
    "colab": {
     "base_uri": "https://localhost:8080/"
    },
    "id": "3B40_2lYFt0N",
    "outputId": "e44d8eb7-bd14-4f50-fbd1-f3780093a199"
   },
   "execution_count": 3,
   "outputs": [
    {
     "output_type": "stream",
     "name": "stdout",
     "text": [
      "\u001B[1mDownloading and preparing dataset mnist/3.0.1 (download: 11.06 MiB, generated: 21.00 MiB, total: 32.06 MiB) to /root/tensorflow_datasets/mnist/3.0.1...\u001B[0m\n"
     ]
    },
    {
     "output_type": "stream",
     "name": "stderr",
     "text": [
      "WARNING:absl:Dataset mnist is hosted on GCS. It will automatically be downloaded to your\n",
      "local data directory. If you'd instead prefer to read directly from our public\n",
      "GCS bucket (recommended if you're running on GCP), you can instead pass\n",
      "`try_gcs=True` to `tfds.load` or set `data_dir=gs://tfds-data/datasets`.\n",
      "\n"
     ]
    },
    {
     "output_type": "stream",
     "name": "stdout",
     "text": [
      "\u001B[1mDataset mnist downloaded and prepared to /root/tensorflow_datasets/mnist/3.0.1. Subsequent calls will reuse this data.\u001B[0m\n"
     ]
    }
   ]
  },
  {
   "cell_type": "markdown",
   "source": [
    "# 분산 전력 정의\n",
    "- 분산 관련 처리를 하는 ```MirroredStrategy``` 객체를 생성"
   ],
   "metadata": {
    "id": "1WeHETj4GATI"
   }
  },
  {
   "cell_type": "code",
   "source": [
    "strategy = tf.distribute.MirroredStrategy()"
   ],
   "metadata": {
    "colab": {
     "base_uri": "https://localhost:8080/"
    },
    "id": "g30UU1CfF4ka",
    "outputId": "19fe1682-82ba-4d2f-d0f6-2b8d388fd51e"
   },
   "execution_count": 4,
   "outputs": [
    {
     "output_type": "stream",
     "name": "stdout",
     "text": [
      "INFO:tensorflow:Using MirroredStrategy with devices ('/job:localhost/replica:0/task:0/device:GPU:0',)\n"
     ]
    },
    {
     "output_type": "stream",
     "name": "stderr",
     "text": [
      "INFO:tensorflow:Using MirroredStrategy with devices ('/job:localhost/replica:0/task:0/device:GPU:0',)\n"
     ]
    }
   ]
  },
  {
   "cell_type": "code",
   "source": [
    "print(\"장치의 수: {}\".format(strategy.num_replicas_in_sync))"
   ],
   "metadata": {
    "colab": {
     "base_uri": "https://localhost:8080/"
    },
    "id": "Hc422AZPGKhf",
    "outputId": "7831749c-192b-438b-bcf5-564064b56576"
   },
   "execution_count": 5,
   "outputs": [
    {
     "output_type": "stream",
     "name": "stdout",
     "text": [
      "장치의 수: 1\n"
     ]
    }
   ]
  },
  {
   "cell_type": "markdown",
   "source": [
    "# 입력 파이프라인 구성"
   ],
   "metadata": {
    "id": "xy5CTlv_GRjO"
   }
  },
  {
   "cell_type": "code",
   "source": [
    "# 샘플의 수는 info.splits.total_num_examples로도 얻을 수 있음\n",
    "\n",
    "num_train_examples = info.splits['train'].num_examples\n",
    "num_test_examples = info.splits['test'].num_examples\n",
    "\n",
    "BUFFER_SIZE = 10000\n",
    "\n",
    "BATCH_SIZE_PER_REPLICA = 64\n",
    "BATCH_SIZE = BATCH_SIZE_PER_REPLICA * strategy.num_replicas_in_sync"
   ],
   "metadata": {
    "id": "NRjbJUIJGPAp"
   },
   "execution_count": 6,
   "outputs": []
  },
  {
   "cell_type": "markdown",
   "source": [
    "# 정규화"
   ],
   "metadata": {
    "id": "2Biwd5i_Gj63"
   }
  },
  {
   "cell_type": "code",
   "source": [
    "def scale(image, label):\n",
    "    image = tf.cast(image, tf.float32)\n",
    "    image /= 255\n",
    "\n",
    "    return image, label"
   ],
   "metadata": {
    "id": "rocjIIA8GiiQ"
   },
   "execution_count": 7,
   "outputs": []
  },
  {
   "cell_type": "code",
   "source": [
    "train_dataset = mnist_train.map(scale).shuffle(BUFFER_SIZE).batch(BATCH_SIZE)\n",
    "eval_dataset = mnist_test.map(scale).batch(BATCH_SIZE)"
   ],
   "metadata": {
    "id": "kINj5fTHGqYP"
   },
   "execution_count": 8,
   "outputs": []
  },
  {
   "cell_type": "markdown",
   "source": [
    "# 모델 정의"
   ],
   "metadata": {
    "id": "Ke8vizjmG0ME"
   }
  },
  {
   "cell_type": "code",
   "source": [
    "with strategy.scope():\n",
    "    model = tf.keras.Sequential([\n",
    "        tf.keras.layers.Conv2D(32, 3, activation='relu', input_shape=(28, 28, 1)),\n",
    "        tf.keras.layers.MaxPooling2D(),\n",
    "        tf.keras.layers.Flatten(),\n",
    "        tf.keras.layers.Dense(64, activation='relu'),\n",
    "        tf.keras.layers.Dense(10, activation='softmax')\n",
    "    ])\n",
    "\n",
    "    model.compile(optimizer=tf.keras.optimizers.Adam(),\n",
    "                  loss='sparse_categorical_crossentropy',\n",
    "                  metrics=['accuracy'])"
   ],
   "metadata": {
    "colab": {
     "base_uri": "https://localhost:8080/"
    },
    "id": "jNawdPpsGzFE",
    "outputId": "1a12e6c0-0c6d-487d-ee30-b49ecb60ed22"
   },
   "execution_count": 9,
   "outputs": [
    {
     "output_type": "stream",
     "name": "stdout",
     "text": [
      "INFO:tensorflow:Reduce to /job:localhost/replica:0/task:0/device:CPU:0 then broadcast to ('/job:localhost/replica:0/task:0/device:CPU:0',).\n"
     ]
    },
    {
     "output_type": "stream",
     "name": "stderr",
     "text": [
      "INFO:tensorflow:Reduce to /job:localhost/replica:0/task:0/device:CPU:0 then broadcast to ('/job:localhost/replica:0/task:0/device:CPU:0',).\n"
     ]
    },
    {
     "output_type": "stream",
     "name": "stdout",
     "text": [
      "INFO:tensorflow:Reduce to /job:localhost/replica:0/task:0/device:CPU:0 then broadcast to ('/job:localhost/replica:0/task:0/device:CPU:0',).\n"
     ]
    },
    {
     "output_type": "stream",
     "name": "stderr",
     "text": [
      "INFO:tensorflow:Reduce to /job:localhost/replica:0/task:0/device:CPU:0 then broadcast to ('/job:localhost/replica:0/task:0/device:CPU:0',).\n"
     ]
    },
    {
     "output_type": "stream",
     "name": "stdout",
     "text": [
      "INFO:tensorflow:Reduce to /job:localhost/replica:0/task:0/device:CPU:0 then broadcast to ('/job:localhost/replica:0/task:0/device:CPU:0',).\n"
     ]
    },
    {
     "output_type": "stream",
     "name": "stderr",
     "text": [
      "INFO:tensorflow:Reduce to /job:localhost/replica:0/task:0/device:CPU:0 then broadcast to ('/job:localhost/replica:0/task:0/device:CPU:0',).\n"
     ]
    },
    {
     "output_type": "stream",
     "name": "stdout",
     "text": [
      "INFO:tensorflow:Reduce to /job:localhost/replica:0/task:0/device:CPU:0 then broadcast to ('/job:localhost/replica:0/task:0/device:CPU:0',).\n"
     ]
    },
    {
     "output_type": "stream",
     "name": "stderr",
     "text": [
      "INFO:tensorflow:Reduce to /job:localhost/replica:0/task:0/device:CPU:0 then broadcast to ('/job:localhost/replica:0/task:0/device:CPU:0',).\n"
     ]
    }
   ]
  },
  {
   "cell_type": "markdown",
   "source": [
    "# 콜백 정의\n",
    "콜백은 다음과 같다.\n",
    "- 텐서보드(TensorBoard) : 텐서보드용 로그를 남겨, 그래프를 그릴 수 있게 해줌.\n",
    "- 체크포인트(checkpoint) : 매 epoch이 끝난 후 모델을 저장.\n",
    "- 스케쥴러(scheduler) : 매 epoch 또는 batch마다 learning_rate를 조절할 수 있다."
   ],
   "metadata": {
    "id": "qpE_JxdwHQ7z"
   }
  },
  {
   "cell_type": "code",
   "source": [
    "# 체크포인트 \n",
    "\n",
    "checkpoint_dir = './training_checkpoints'\n",
    "checkpoint_prefix = os.path.join(checkpoint_dir, \"ckpt_{epoch}\")"
   ],
   "metadata": {
    "id": "8LoXk8OEHP38"
   },
   "execution_count": 10,
   "outputs": []
  },
  {
   "cell_type": "code",
   "source": [
    "# 스케쥴러\n",
    "\n",
    "def decay(epoch):\n",
    "    if epoch < 3:\n",
    "        return 1e-3\n",
    "    elif epoch >= 3 and epoch < 7:\n",
    "        return 1e-4\n",
    "    else:\n",
    "        return 1e-5"
   ],
   "metadata": {
    "id": "BtPr_VC2Hria"
   },
   "execution_count": 11,
   "outputs": []
  },
  {
   "cell_type": "code",
   "source": [
    "class PrintLR(tf.keras.callbacks.Callback):\n",
    "    def on_epoch_end(self, epoch, logs=None):\n",
    "        print('\\npoech {}의 learning_rate는 {}입니다.'.format(epoch + 1, model.optimizer.lr.numpy()))"
   ],
   "metadata": {
    "id": "i_4PpjFgH1hB"
   },
   "execution_count": 12,
   "outputs": []
  },
  {
   "cell_type": "code",
   "source": [
    "callbacks = [\n",
    "    tf.keras.callbacks.TensorBoard(log_dir='./logs'),\n",
    "    tf.keras.callbacks.ModelCheckpoint(filepath=checkpoint_prefix, save_weights_only=True),\n",
    "    tf.keras.callbacks.LearningRateScheduler(decay),\n",
    "    PrintLR()\n",
    "]"
   ],
   "metadata": {
    "id": "wr99wHl_Igm3"
   },
   "execution_count": 13,
   "outputs": []
  },
  {
   "cell_type": "markdown",
   "source": [
    "# Training & Evaluation"
   ],
   "metadata": {
    "id": "zaxWQ4yAJAkD"
   }
  },
  {
   "cell_type": "code",
   "source": [
    "model.fit(train_dataset, epochs=12, callbacks=callbacks)"
   ],
   "metadata": {
    "colab": {
     "base_uri": "https://localhost:8080/"
    },
    "id": "Yqvae6VyI-ix",
    "outputId": "009d24aa-83b5-4834-cae2-3341da77a81e"
   },
   "execution_count": 14,
   "outputs": [
    {
     "output_type": "stream",
     "name": "stdout",
     "text": [
      "Epoch 1/12\n",
      "INFO:tensorflow:Reduce to /job:localhost/replica:0/task:0/device:CPU:0 then broadcast to ('/job:localhost/replica:0/task:0/device:CPU:0',).\n"
     ]
    },
    {
     "output_type": "stream",
     "name": "stderr",
     "text": [
      "INFO:tensorflow:Reduce to /job:localhost/replica:0/task:0/device:CPU:0 then broadcast to ('/job:localhost/replica:0/task:0/device:CPU:0',).\n"
     ]
    },
    {
     "output_type": "stream",
     "name": "stdout",
     "text": [
      "INFO:tensorflow:Reduce to /job:localhost/replica:0/task:0/device:CPU:0 then broadcast to ('/job:localhost/replica:0/task:0/device:CPU:0',).\n"
     ]
    },
    {
     "output_type": "stream",
     "name": "stderr",
     "text": [
      "INFO:tensorflow:Reduce to /job:localhost/replica:0/task:0/device:CPU:0 then broadcast to ('/job:localhost/replica:0/task:0/device:CPU:0',).\n"
     ]
    },
    {
     "output_type": "stream",
     "name": "stdout",
     "text": [
      "INFO:tensorflow:Reduce to /job:localhost/replica:0/task:0/device:CPU:0 then broadcast to ('/job:localhost/replica:0/task:0/device:CPU:0',).\n"
     ]
    },
    {
     "output_type": "stream",
     "name": "stderr",
     "text": [
      "INFO:tensorflow:Reduce to /job:localhost/replica:0/task:0/device:CPU:0 then broadcast to ('/job:localhost/replica:0/task:0/device:CPU:0',).\n"
     ]
    },
    {
     "output_type": "stream",
     "name": "stdout",
     "text": [
      "INFO:tensorflow:Reduce to /job:localhost/replica:0/task:0/device:CPU:0 then broadcast to ('/job:localhost/replica:0/task:0/device:CPU:0',).\n"
     ]
    },
    {
     "output_type": "stream",
     "name": "stderr",
     "text": [
      "INFO:tensorflow:Reduce to /job:localhost/replica:0/task:0/device:CPU:0 then broadcast to ('/job:localhost/replica:0/task:0/device:CPU:0',).\n"
     ]
    },
    {
     "output_type": "stream",
     "name": "stdout",
     "text": [
      "INFO:tensorflow:Reduce to /job:localhost/replica:0/task:0/device:CPU:0 then broadcast to ('/job:localhost/replica:0/task:0/device:CPU:0',).\n"
     ]
    },
    {
     "output_type": "stream",
     "name": "stderr",
     "text": [
      "INFO:tensorflow:Reduce to /job:localhost/replica:0/task:0/device:CPU:0 then broadcast to ('/job:localhost/replica:0/task:0/device:CPU:0',).\n"
     ]
    },
    {
     "output_type": "stream",
     "name": "stdout",
     "text": [
      "INFO:tensorflow:Reduce to /job:localhost/replica:0/task:0/device:CPU:0 then broadcast to ('/job:localhost/replica:0/task:0/device:CPU:0',).\n"
     ]
    },
    {
     "output_type": "stream",
     "name": "stderr",
     "text": [
      "INFO:tensorflow:Reduce to /job:localhost/replica:0/task:0/device:CPU:0 then broadcast to ('/job:localhost/replica:0/task:0/device:CPU:0',).\n"
     ]
    },
    {
     "output_type": "stream",
     "name": "stdout",
     "text": [
      "938/938 [==============================] - ETA: 0s - loss: 0.2068 - accuracy: 0.9396\n",
      "poech 1의 learning_rate는 0.0010000000474974513입니다.\n",
      "938/938 [==============================] - 23s 10ms/step - loss: 0.2068 - accuracy: 0.9396 - lr: 0.0010\n",
      "Epoch 2/12\n",
      "926/938 [============================>.] - ETA: 0s - loss: 0.0678 - accuracy: 0.9795\n",
      "poech 2의 learning_rate는 0.0010000000474974513입니다.\n",
      "938/938 [==============================] - 7s 7ms/step - loss: 0.0675 - accuracy: 0.9796 - lr: 0.0010\n",
      "Epoch 3/12\n",
      "938/938 [==============================] - ETA: 0s - loss: 0.0460 - accuracy: 0.9864\n",
      "poech 3의 learning_rate는 0.0010000000474974513입니다.\n",
      "938/938 [==============================] - 7s 7ms/step - loss: 0.0460 - accuracy: 0.9864 - lr: 0.0010\n",
      "Epoch 4/12\n",
      "927/938 [============================>.] - ETA: 0s - loss: 0.0257 - accuracy: 0.9932\n",
      "poech 4의 learning_rate는 9.999999747378752e-05입니다.\n",
      "938/938 [==============================] - 6s 6ms/step - loss: 0.0257 - accuracy: 0.9932 - lr: 1.0000e-04\n",
      "Epoch 5/12\n",
      "936/938 [============================>.] - ETA: 0s - loss: 0.0226 - accuracy: 0.9943\n",
      "poech 5의 learning_rate는 9.999999747378752e-05입니다.\n",
      "938/938 [==============================] - 6s 6ms/step - loss: 0.0225 - accuracy: 0.9943 - lr: 1.0000e-04\n",
      "Epoch 6/12\n",
      "936/938 [============================>.] - ETA: 0s - loss: 0.0207 - accuracy: 0.9952\n",
      "poech 6의 learning_rate는 9.999999747378752e-05입니다.\n",
      "938/938 [==============================] - 6s 6ms/step - loss: 0.0207 - accuracy: 0.9952 - lr: 1.0000e-04\n",
      "Epoch 7/12\n",
      "934/938 [============================>.] - ETA: 0s - loss: 0.0191 - accuracy: 0.9956\n",
      "poech 7의 learning_rate는 9.999999747378752e-05입니다.\n",
      "938/938 [==============================] - 6s 6ms/step - loss: 0.0191 - accuracy: 0.9956 - lr: 1.0000e-04\n",
      "Epoch 8/12\n",
      "934/938 [============================>.] - ETA: 0s - loss: 0.0166 - accuracy: 0.9963\n",
      "poech 8의 learning_rate는 9.999999747378752e-06입니다.\n",
      "938/938 [==============================] - 6s 6ms/step - loss: 0.0166 - accuracy: 0.9963 - lr: 1.0000e-05\n",
      "Epoch 9/12\n",
      "933/938 [============================>.] - ETA: 0s - loss: 0.0163 - accuracy: 0.9966\n",
      "poech 9의 learning_rate는 9.999999747378752e-06입니다.\n",
      "938/938 [==============================] - 6s 6ms/step - loss: 0.0163 - accuracy: 0.9966 - lr: 1.0000e-05\n",
      "Epoch 10/12\n",
      "935/938 [============================>.] - ETA: 0s - loss: 0.0162 - accuracy: 0.9967\n",
      "poech 10의 learning_rate는 9.999999747378752e-06입니다.\n",
      "938/938 [==============================] - 6s 6ms/step - loss: 0.0161 - accuracy: 0.9967 - lr: 1.0000e-05\n",
      "Epoch 11/12\n",
      "935/938 [============================>.] - ETA: 0s - loss: 0.0159 - accuracy: 0.9967\n",
      "poech 11의 learning_rate는 9.999999747378752e-06입니다.\n",
      "938/938 [==============================] - 6s 6ms/step - loss: 0.0159 - accuracy: 0.9967 - lr: 1.0000e-05\n",
      "Epoch 12/12\n",
      "929/938 [============================>.] - ETA: 0s - loss: 0.0158 - accuracy: 0.9967\n",
      "poech 12의 learning_rate는 9.999999747378752e-06입니다.\n",
      "938/938 [==============================] - 6s 6ms/step - loss: 0.0158 - accuracy: 0.9967 - lr: 1.0000e-05\n"
     ]
    },
    {
     "output_type": "execute_result",
     "data": {
      "text/plain": [
       "<keras.callbacks.History at 0x7fb41e315dd0>"
      ]
     },
     "metadata": {},
     "execution_count": 14
    }
   ]
  },
  {
   "cell_type": "code",
   "source": [
    "model.load_weights(tf.train.latest_checkpoint(checkpoint_dir))\n",
    "\n",
    "eval_loss, eval_acc = model.evaluate(eval_dataset)\n",
    "\n",
    "print(\"loss: {}, acc: {}\".format(eval_loss, eval_acc))"
   ],
   "metadata": {
    "colab": {
     "base_uri": "https://localhost:8080/"
    },
    "id": "m_1i23t4JK29",
    "outputId": "48a29f9e-e66a-492b-9cf5-783d1d9bded1"
   },
   "execution_count": 15,
   "outputs": [
    {
     "output_type": "stream",
     "name": "stdout",
     "text": [
      "157/157 [==============================] - 3s 9ms/step - loss: 0.0401 - accuracy: 0.9869\n",
      "loss: 0.040143270045518875, acc: 0.9868999719619751\n"
     ]
    }
   ]
  },
  {
   "cell_type": "markdown",
   "source": [
    "# 모델 저장 및 불러오기"
   ],
   "metadata": {
    "id": "HjRq8F4OLRvp"
   }
  },
  {
   "cell_type": "code",
   "source": [
    "# 모델 전체 저장 및 로드\n",
    "\n",
    "model.save('trained_model')\n",
    "new_model = tf.keras.models.load_model('trained_model')\n",
    "\n",
    "# 새로운 모델 평가\n",
    "eval_loss, eval_acc = new_model.evaluate(eval_dataset)\n",
    "print(\"loss: {}, acc: {}\".format(eval_loss, eval_acc))"
   ],
   "metadata": {
    "id": "qM0M4t2MKSas",
    "colab": {
     "base_uri": "https://localhost:8080/"
    },
    "outputId": "451b782a-3888-4bc8-9925-5eece0f29028"
   },
   "execution_count": 16,
   "outputs": [
    {
     "output_type": "stream",
     "name": "stdout",
     "text": [
      "INFO:tensorflow:Assets written to: trained_model/assets\n"
     ]
    },
    {
     "output_type": "stream",
     "name": "stderr",
     "text": [
      "INFO:tensorflow:Assets written to: trained_model/assets\n"
     ]
    },
    {
     "output_type": "stream",
     "name": "stdout",
     "text": [
      "157/157 [==============================] - 1s 3ms/step - loss: 0.0401 - accuracy: 0.9869\n",
      "loss: 0.040143270045518875, acc: 0.9868999719619751\n"
     ]
    }
   ]
  },
  {
   "cell_type": "code",
   "source": [
    "# 모델 가중치 저장 및 로드\n",
    "\n",
    "model.save_weights('model_weight')\n",
    "\n",
    "new_model = tf.keras.Sequential([\n",
    "    tf.keras.layers.Conv2D(32, 3, activation='relu', input_shape=(28, 28, 1)),\n",
    "    tf.keras.layers.MaxPooling2D(),\n",
    "    tf.keras.layers.Flatten(),\n",
    "    tf.keras.layers.Dense(64, activation='relu'),\n",
    "    tf.keras.layers.Dense(10, activation='softmax')\n",
    "])\n",
    "\n",
    "new_model.compile(optimizer=tf.keras.optimizers.Adam(),\n",
    "                  loss='sparse_categorical_crossentropy',\n",
    "                  metrics=['accuracy'])\n",
    "\n",
    "new_model.load_weights('model_weight')\n",
    "\n",
    "\n",
    "# 새로운 모델 평가\n",
    "eval_loss, eval_acc = new_model.evaluate(eval_dataset)\n",
    "print(\"loss: {}, acc: {}\".format(eval_loss, eval_acc))"
   ],
   "metadata": {
    "id": "zQDdRuv4L1e6",
    "colab": {
     "base_uri": "https://localhost:8080/"
    },
    "outputId": "b71ad0bc-734e-470e-eb19-a4f1a582b60c"
   },
   "execution_count": 18,
   "outputs": [
    {
     "output_type": "stream",
     "name": "stdout",
     "text": [
      "157/157 [==============================] - 1s 4ms/step - loss: 0.0401 - accuracy: 0.9869\n",
      "loss: 0.040143270045518875, acc: 0.9868999719619751\n"
     ]
    }
   ]
  },
  {
   "cell_type": "markdown",
   "source": [
    "### 모델의 성능이 동일한 것을 알 수 있다."
   ],
   "metadata": {
    "id": "Kg2mMRqQB2fh"
   }
  },
  {
   "cell_type": "code",
   "source": [
    ""
   ],
   "metadata": {
    "id": "KTi8cRnzBoP-"
   },
   "execution_count": null,
   "outputs": []
  }
 ]
}