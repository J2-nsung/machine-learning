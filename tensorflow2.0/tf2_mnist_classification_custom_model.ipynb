{
  "nbformat": 4,
  "nbformat_minor": 0,
  "metadata": {
    "colab": {
      "name": "\btf2_mnist_custom_model.ipynb",
      "provenance": [],
      "collapsed_sections": []
    },
    "kernelspec": {
      "name": "python3",
      "display_name": "Python 3"
    },
    "language_info": {
      "name": "python"
    },
    "accelerator": "GPU",
    "gpuClass": "standard"
  },
  "cells": [
    {
      "cell_type": "code",
      "source": [
        "import tensorflow as tf"
      ],
      "metadata": {
        "id": "sdW-BLpcLKHs"
      },
      "execution_count": 1,
      "outputs": []
    },
    {
      "cell_type": "markdown",
      "source": [
        "# Dataset Load"
      ],
      "metadata": {
        "id": "WRDzeYWCRadK"
      }
    },
    {
      "cell_type": "code",
      "source": [
        "mnist = tf.keras.datasets.mnist\n",
        "\n",
        "(x_train, y_train), (x_test, y_test) = mnist.load_data()\n",
        "x_train, x_test = x_train / 255.0, x_test / 255.0"
      ],
      "metadata": {
        "id": "LGSjftHQLkfr"
      },
      "execution_count": 2,
      "outputs": []
    },
    {
      "cell_type": "code",
      "source": [
        "x_train.shape"
      ],
      "metadata": {
        "colab": {
          "base_uri": "https://localhost:8080/"
        },
        "id": "HFb_ihsSNfwl",
        "outputId": "b2c2a1d1-07f0-42b0-ec32-346584f7ef08"
      },
      "execution_count": 3,
      "outputs": [
        {
          "output_type": "execute_result",
          "data": {
            "text/plain": [
              "(60000, 28, 28)"
            ]
          },
          "metadata": {},
          "execution_count": 3
        }
      ]
    },
    {
      "cell_type": "code",
      "source": [
        "x_train = x_train[..., tf.newaxis].astype(\"float32\")\n",
        "x_test = x_test[..., tf.newaxis].astype(\"float32\")"
      ],
      "metadata": {
        "id": "Afi6pXf9NgOT"
      },
      "execution_count": 4,
      "outputs": []
    },
    {
      "cell_type": "code",
      "source": [
        "x_train.shape"
      ],
      "metadata": {
        "colab": {
          "base_uri": "https://localhost:8080/"
        },
        "id": "v0F7W0p-NpHD",
        "outputId": "f0e2b6d6-ac12-401e-d484-49a5f50b2e3b"
      },
      "execution_count": 5,
      "outputs": [
        {
          "output_type": "execute_result",
          "data": {
            "text/plain": [
              "(60000, 28, 28, 1)"
            ]
          },
          "metadata": {},
          "execution_count": 5
        }
      ]
    },
    {
      "cell_type": "code",
      "source": [
        "train_ds = tf.data.Dataset.from_tensor_slices((x_train, y_train)).shuffle(10000).batch(32)\n",
        "test_ds = tf.data.Dataset.from_tensor_slices((x_test, y_test)).batch(32)"
      ],
      "metadata": {
        "id": "25v5CzKoNp3g"
      },
      "execution_count": 6,
      "outputs": []
    },
    {
      "cell_type": "markdown",
      "source": [
        "# Define Model"
      ],
      "metadata": {
        "id": "kUzn4p1mRgZA"
      }
    },
    {
      "cell_type": "code",
      "source": [
        "# pytorch: forward function == tensorflow: call function\n",
        "\n",
        "class MyModel(tf.keras.Model):\n",
        "    def __init__(self):\n",
        "        super(MyModel, self).__init__()\n",
        "        self.conv1 = tf.keras.layers.Conv2D(32, 3, activation='relu')\n",
        "        self.flatten = tf.keras.layers.Flatten()\n",
        "        self.d1 = tf.keras.layers.Dense(64, activation='relu')\n",
        "        self.d2 = tf.keras.layers.Dense(10, activation='softmax')\n",
        "\n",
        "    def call(self, x):\n",
        "        x = self.conv1(x)\n",
        "        x = self.flatten(x)\n",
        "        x = self.d1(x)\n",
        "        x = self.d2(x)\n",
        "\n",
        "        return x"
      ],
      "metadata": {
        "id": "RsimtQcjOdz9"
      },
      "execution_count": 7,
      "outputs": []
    },
    {
      "cell_type": "code",
      "source": [
        "model = MyModel()"
      ],
      "metadata": {
        "id": "SvLuByGSRKXB"
      },
      "execution_count": 8,
      "outputs": []
    },
    {
      "cell_type": "code",
      "source": [
        "model.build(input_shape=(64, 28, 28, 1))\n",
        "model.summary()"
      ],
      "metadata": {
        "colab": {
          "base_uri": "https://localhost:8080/"
        },
        "id": "o9p7cctnJ5vx",
        "outputId": "e8283af1-a957-4342-f1ed-c95a7ffd9c0c"
      },
      "execution_count": 9,
      "outputs": [
        {
          "output_type": "stream",
          "name": "stdout",
          "text": [
            "Model: \"my_model\"\n",
            "_________________________________________________________________\n",
            " Layer (type)                Output Shape              Param #   \n",
            "=================================================================\n",
            " conv2d (Conv2D)             multiple                  320       \n",
            "                                                                 \n",
            " flatten (Flatten)           multiple                  0         \n",
            "                                                                 \n",
            " dense (Dense)               multiple                  1384512   \n",
            "                                                                 \n",
            " dense_1 (Dense)             multiple                  650       \n",
            "                                                                 \n",
            "=================================================================\n",
            "Total params: 1,385,482\n",
            "Trainable params: 1,385,482\n",
            "Non-trainable params: 0\n",
            "_________________________________________________________________\n"
          ]
        }
      ]
    },
    {
      "cell_type": "markdown",
      "source": [
        "# Loss, Optimizer"
      ],
      "metadata": {
        "id": "xxNjSqCvRiRP"
      }
    },
    {
      "cell_type": "code",
      "source": [
        "criterion = tf.keras.losses.SparseCategoricalCrossentropy(from_logits=True)\n",
        "optimizer = tf.keras.optimizers.Adam()"
      ],
      "metadata": {
        "id": "pa4iU7CORLOB"
      },
      "execution_count": 10,
      "outputs": []
    },
    {
      "cell_type": "markdown",
      "source": [
        "### 모델의 성능과 loss를 측정할 지표를 선택한다. (epoch 마다 해당 지표를 바탕으로 결과 출력)"
      ],
      "metadata": {
        "id": "R2nTxnXHRkhv"
      }
    },
    {
      "cell_type": "code",
      "source": [
        "train_loss = tf.keras.metrics.Mean(name='train_loss')\n",
        "train_accuracy = tf.keras.metrics.SparseCategoricalAccuracy(name='train_accuracy')\n",
        "\n",
        "test_loss = tf.keras.metrics.Mean(name='test_loss')\n",
        "test_accuracy = tf.keras.metrics.SparseCategoricalAccuracy(name='test_accuracy')"
      ],
      "metadata": {
        "id": "SWl16D01RTtH"
      },
      "execution_count": 11,
      "outputs": []
    },
    {
      "cell_type": "markdown",
      "source": [
        "# Model Training\n",
        "- ```tf.GradientTape```를 사용하여 모델을 훈련시킨다.\n"
      ],
      "metadata": {
        "id": "9gRwjCqWR6Pl"
      }
    },
    {
      "cell_type": "code",
      "source": [
        "# training\n",
        "\n",
        "@tf.function\n",
        "def train_step(images, labels):\n",
        "    with tf.GradientTape() as tape:\n",
        "        preds = model(images, training=True)\n",
        "        loss = criterion(labels, preds)\n",
        "    \n",
        "    gradients = tape.gradient(loss, model.trainable_variables)\n",
        "    optimizer.apply_gradients(zip(gradients, model.trainable_variables))  # == pytorch: optimizer.step()\n",
        "\n",
        "    train_loss(loss)\n",
        "    train_accuracy(labels, preds)"
      ],
      "metadata": {
        "id": "OytlV0O6RkPd"
      },
      "execution_count": 12,
      "outputs": []
    },
    {
      "cell_type": "code",
      "source": [
        "# test\n",
        "\n",
        "@tf.function\n",
        "def test_step(images, labels):\n",
        "    preds = model(images, training=False)\n",
        "    loss = criterion(labels, preds)\n",
        "\n",
        "    test_loss(loss)\n",
        "    test_accuracy(labels, preds)"
      ],
      "metadata": {
        "id": "K0bxKqvxUQzp"
      },
      "execution_count": 13,
      "outputs": []
    },
    {
      "cell_type": "code",
      "source": [
        "NUM_EPOCHS = 5\n",
        "\n",
        "for epoch in range(NUM_EPOCHS):\n",
        "    train_loss.reset_states()\n",
        "    train_accuracy.reset_states()\n",
        "    \n",
        "    test_loss.reset_states()\n",
        "    test_accuracy.reset_states()\n",
        "\n",
        "    for images, labels in train_ds:\n",
        "        train_step(images, labels)\n",
        "\n",
        "    for test_images, test_labels in test_ds:\n",
        "        test_step(test_images, test_labels)\n",
        "\n",
        "    print(\n",
        "        f\"Epoch {epoch + 1}, \"\n",
        "        f\"Loss: {train_loss.result()}, \"\n",
        "        f\"Accuracy: {train_accuracy.result() * 100}, \"\n",
        "        f\"Test Loss: {test_loss.result()}, \"\n",
        "        f\"Test Accuracy: {test_accuracy.result() * 100}\"\n",
        "    )"
      ],
      "metadata": {
        "colab": {
          "base_uri": "https://localhost:8080/"
        },
        "id": "a05Xo98oTPTb",
        "outputId": "63c6f941-09ea-4be1-b5e5-9e0a90f24af9"
      },
      "execution_count": 14,
      "outputs": [
        {
          "output_type": "stream",
          "name": "stderr",
          "text": [
            "/usr/local/lib/python3.7/dist-packages/tensorflow/python/util/dispatch.py:1082: UserWarning: \"`sparse_categorical_crossentropy` received `from_logits=True`, but the `output` argument was produced by a sigmoid or softmax activation and thus does not represent logits. Was this intended?\"\n",
            "  return dispatch_target(*args, **kwargs)\n"
          ]
        },
        {
          "output_type": "stream",
          "name": "stdout",
          "text": [
            "Epoch 1, Loss: 0.1542178988456726, Accuracy: 95.37833404541016, Test Loss: 0.07374430447816849, Test Accuracy: 97.7199935913086\n",
            "Epoch 2, Loss: 0.05163539573550224, Accuracy: 98.43333435058594, Test Loss: 0.05618084594607353, Test Accuracy: 98.1500015258789\n",
            "Epoch 3, Loss: 0.030548909679055214, Accuracy: 99.06999969482422, Test Loss: 0.056958213448524475, Test Accuracy: 98.22999572753906\n",
            "Epoch 4, Loss: 0.01769600436091423, Accuracy: 99.42666625976562, Test Loss: 0.05454782396554947, Test Accuracy: 98.47000122070312\n",
            "Epoch 5, Loss: 0.01296925451606512, Accuracy: 99.5616683959961, Test Loss: 0.060278791934251785, Test Accuracy: 98.29999542236328\n"
          ]
        }
      ]
    },
    {
      "cell_type": "code",
      "source": [
        ""
      ],
      "metadata": {
        "id": "GH5qI_rcT_93"
      },
      "execution_count": 14,
      "outputs": []
    }
  ]
}