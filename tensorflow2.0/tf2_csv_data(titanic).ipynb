{
  "nbformat": 4,
  "nbformat_minor": 0,
  "metadata": {
    "colab": {
      "name": "tf2_csv_data(titanic).ipynb",
      "provenance": []
    },
    "kernelspec": {
      "name": "python3",
      "display_name": "Python 3"
    },
    "language_info": {
      "name": "python"
    },
    "accelerator": "GPU",
    "gpuClass": "standard"
  },
  "cells": [
    {
      "cell_type": "code",
      "execution_count": 1,
      "metadata": {
        "id": "l2uA77wSkgW1"
      },
      "outputs": [],
      "source": [
        "import functools\n",
        "\n",
        "import numpy as np\n",
        "import tensorflow as tf"
      ]
    },
    {
      "cell_type": "markdown",
      "source": [
        "# CSV Data"
      ],
      "metadata": {
        "id": "XzDSpgl2q3KU"
      }
    },
    {
      "cell_type": "code",
      "source": [
        "TRAIN_DATA_URL = \"https://storage.googleapis.com/tf-datasets/titanic/train.csv\"\n",
        "TEST_DATA_URL = \"https://storage.googleapis.com/tf-datasets/titanic/eval.csv\"\n",
        "\n",
        "train_file_path = tf.keras.utils.get_file('train.csv', TRAIN_DATA_URL)\n",
        "test_file_path = tf.keras.utils.get_file('eval.csv', TEST_DATA_URL)"
      ],
      "metadata": {
        "colab": {
          "base_uri": "https://localhost:8080/"
        },
        "id": "-Gg6tnpcli9m",
        "outputId": "8ba56251-8083-4ee4-cfa1-afb9213040c3"
      },
      "execution_count": 2,
      "outputs": [
        {
          "output_type": "stream",
          "name": "stdout",
          "text": [
            "Downloading data from https://storage.googleapis.com/tf-datasets/titanic/train.csv\n",
            "32768/30874 [===============================] - 0s 0us/step\n",
            "40960/30874 [=======================================] - 0s 0us/step\n",
            "Downloading data from https://storage.googleapis.com/tf-datasets/titanic/eval.csv\n",
            "16384/13049 [=====================================] - 0s 0us/step\n",
            "24576/13049 [========================================================] - 0s 0us/step\n"
          ]
        }
      ]
    },
    {
      "cell_type": "code",
      "source": [
        "np.set_printoptions(precision=3, suppress=True)"
      ],
      "metadata": {
        "id": "9xoAKn1dlt4d"
      },
      "execution_count": 3,
      "outputs": []
    },
    {
      "cell_type": "code",
      "source": [
        "LABEL_COLUMN = 'survived'\n",
        "LABELS = [0, 1]"
      ],
      "metadata": {
        "id": "h-vW3LrtlxIz"
      },
      "execution_count": 4,
      "outputs": []
    },
    {
      "cell_type": "code",
      "source": [
        "def get_dataset(file_path, **kwargs):\n",
        "    dataset = tf.data.experimental.make_csv_dataset(\n",
        "        file_path,\n",
        "        batch_size=5,\n",
        "        label_name=LABEL_COLUMN,\n",
        "        na_value=\"?\",\n",
        "        num_epochs=1,\n",
        "        ignore_errors=True,\n",
        "        **kwargs\n",
        "    )\n",
        "\n",
        "    return dataset    "
      ],
      "metadata": {
        "id": "nKSYUbAel00k"
      },
      "execution_count": 5,
      "outputs": []
    },
    {
      "cell_type": "code",
      "source": [
        "raw_train_data = get_dataset(train_file_path)\n",
        "raw_test_data = get_dataset(test_file_path)"
      ],
      "metadata": {
        "id": "9ABeLSbjmjS-"
      },
      "execution_count": 6,
      "outputs": []
    },
    {
      "cell_type": "code",
      "source": [
        "def show_batch(dataset):\n",
        "    for batch, label in dataset.take(1):\n",
        "        for key, value in batch.items():\n",
        "            print(\"{:20s}: {}\".format(key, value.numpy()))"
      ],
      "metadata": {
        "id": "kpUqfJEkmpOf"
      },
      "execution_count": 7,
      "outputs": []
    },
    {
      "cell_type": "code",
      "source": [
        "show_batch(raw_train_data)"
      ],
      "metadata": {
        "colab": {
          "base_uri": "https://localhost:8080/"
        },
        "id": "NE1Z2UKVm1Dc",
        "outputId": "2ad96d20-3a0a-4068-a57d-15cd74b86621"
      },
      "execution_count": 8,
      "outputs": [
        {
          "output_type": "stream",
          "name": "stdout",
          "text": [
            "sex                 : [b'male' b'male' b'female' b'male' b'female']\n",
            "age                 : [28.  40.5 25.  65.   2. ]\n",
            "n_siblings_spouses  : [0 0 1 0 1]\n",
            "parch               : [0 2 0 0 1]\n",
            "fare                : [ 7.05  14.5    7.925 26.55  26.   ]\n",
            "class               : [b'Third' b'Third' b'Third' b'First' b'Second']\n",
            "deck                : [b'unknown' b'unknown' b'unknown' b'E' b'unknown']\n",
            "embark_town         : [b'Southampton' b'Southampton' b'Southampton' b'Southampton'\n",
            " b'Southampton']\n",
            "alone               : [b'y' b'n' b'n' b'y' b'n']\n"
          ]
        }
      ]
    },
    {
      "cell_type": "code",
      "source": [
        "CSV_COLUMNS = ['survived', 'sex', 'age', 'n_siblings_spouses', 'parch', 'fare', 'class', 'deck', 'embark_town', 'alone']\n",
        "\n",
        "temp_dataset = get_dataset(train_file_path, column_names=CSV_COLUMNS)\n",
        "\n",
        "show_batch(temp_dataset)"
      ],
      "metadata": {
        "colab": {
          "base_uri": "https://localhost:8080/"
        },
        "id": "5I88gqIdpA35",
        "outputId": "82e0b67a-4325-4328-a214-df1dbfe290c8"
      },
      "execution_count": 10,
      "outputs": [
        {
          "output_type": "stream",
          "name": "stdout",
          "text": [
            "sex                 : [b'female' b'male' b'male' b'female' b'female']\n",
            "age                 : [28. 52. 33. 41. 52.]\n",
            "n_siblings_spouses  : [1 0 0 0 1]\n",
            "parch               : [0 0 0 1 1]\n",
            "fare                : [51.862 30.5    8.654 19.5   93.5  ]\n",
            "class               : [b'First' b'First' b'Third' b'Second' b'First']\n",
            "deck                : [b'D' b'C' b'unknown' b'unknown' b'B']\n",
            "embark_town         : [b'Southampton' b'Southampton' b'Southampton' b'Southampton'\n",
            " b'Southampton']\n",
            "alone               : [b'n' b'y' b'y' b'n' b'n']\n"
          ]
        }
      ]
    },
    {
      "cell_type": "code",
      "source": [
        "# 일부 열(column)만 선택할 수 있다.\n",
        "\n",
        "SELECT_COLUMNS = ['survived', 'age', 'n_siblings_spouses', 'class', 'deck', 'alone']\n",
        "\n",
        "temp_dataset = get_dataset(train_file_path, select_columns=SELECT_COLUMNS)\n",
        "\n",
        "show_batch(temp_dataset)"
      ],
      "metadata": {
        "colab": {
          "base_uri": "https://localhost:8080/"
        },
        "id": "2UrzHzncp6s8",
        "outputId": "6f2970cb-8ff3-4f6f-e325-8b04cab8be8b"
      },
      "execution_count": 12,
      "outputs": [
        {
          "output_type": "stream",
          "name": "stdout",
          "text": [
            "age                 : [22. 28. 40. 40. 28.]\n",
            "n_siblings_spouses  : [0 1 0 1 0]\n",
            "class               : [b'Third' b'First' b'First' b'First' b'Third']\n",
            "deck                : [b'unknown' b'C' b'C' b'E' b'unknown']\n",
            "alone               : [b'y' b'n' b'y' b'n' b'y']\n"
          ]
        }
      ]
    },
    {
      "cell_type": "markdown",
      "source": [
        "# Pre-processing"
      ],
      "metadata": {
        "id": "l6Na5aCzqz1H"
      }
    },
    {
      "cell_type": "code",
      "source": [
        "# 이미 숫자 형식인 경우 벡터로 묶을 수 있다.\n",
        "\n",
        "SELECT_COLUMNS = ['survived', 'age', 'n_siblings_spouses', 'parch', 'fare']\n",
        "\n",
        "DEFAULTS = [0, 0.0, 0.0, 0.0, 0.0]\n",
        "\n",
        "temp_dataset = get_dataset(train_file_path,\n",
        "                           select_columns=SELECT_COLUMNS,\n",
        "                           column_defaults=DEFAULTS)\n",
        "\n",
        "show_batch(temp_dataset)"
      ],
      "metadata": {
        "colab": {
          "base_uri": "https://localhost:8080/"
        },
        "id": "9bCEpL_aqWlx",
        "outputId": "017969c2-c6c9-436a-f0fd-e5274453e500"
      },
      "execution_count": 13,
      "outputs": [
        {
          "output_type": "stream",
          "name": "stdout",
          "text": [
            "age                 : [19.  4. 41. 16. 36.]\n",
            "n_siblings_spouses  : [0. 1. 0. 0. 0.]\n",
            "parch               : [0. 1. 1. 0. 0.]\n",
            "fare                : [ 6.75  23.    19.5   26.     7.496]\n"
          ]
        }
      ]
    },
    {
      "cell_type": "code",
      "source": [
        "example_batch, labels_batch = next(iter(temp_dataset))"
      ],
      "metadata": {
        "id": "fNmZYEsXrk6G"
      },
      "execution_count": 14,
      "outputs": []
    },
    {
      "cell_type": "code",
      "source": [
        "def pack(features, label):\n",
        "    return tf.stack(list(features.values()), axis=-1), label"
      ],
      "metadata": {
        "id": "PR2vvAyRsQxu"
      },
      "execution_count": 15,
      "outputs": []
    },
    {
      "cell_type": "code",
      "source": [
        "packed_dataset = temp_dataset.map(pack)\n",
        "\n",
        "for features, labels in packed_dataset.take(1):\n",
        "    print(features.numpy())\n",
        "    print()\n",
        "    print(labels.numpy())"
      ],
      "metadata": {
        "colab": {
          "base_uri": "https://localhost:8080/"
        },
        "id": "08yhH8cNs0sW",
        "outputId": "6de65c30-7ea6-4caa-cafb-4495eb0b5bc6"
      },
      "execution_count": 16,
      "outputs": [
        {
          "output_type": "stream",
          "name": "stdout",
          "text": [
            "[[  4.      1.      1.     23.   ]\n",
            " [ 28.      0.      0.     31.   ]\n",
            " [ 28.      0.      0.      7.796]\n",
            " [ 50.      0.      1.    247.521]\n",
            " [ 28.      0.      0.      8.458]]\n",
            "\n",
            "[1 0 0 1 0]\n"
          ]
        }
      ]
    },
    {
      "cell_type": "markdown",
      "source": [
        "### 혼합 데이터 유형이 있는 경우, 해당 단순 숫자 필드를 분리할 수 있다. ```tf.feature_column``` API로 처리 가능하지만 약간의 오버헤드가 발생하므로 사용하지 않는 것이 좋다."
      ],
      "metadata": {
        "id": "x4IwdMnvwBmG"
      }
    },
    {
      "cell_type": "code",
      "source": [
        "show_batch(raw_train_data)"
      ],
      "metadata": {
        "colab": {
          "base_uri": "https://localhost:8080/"
        },
        "id": "t8fskUchvDW_",
        "outputId": "873fb79e-97f8-445e-ab49-7b8212be1681"
      },
      "execution_count": 17,
      "outputs": [
        {
          "output_type": "stream",
          "name": "stdout",
          "text": [
            "sex                 : [b'female' b'male' b'female' b'male' b'female']\n",
            "age                 : [34.  36.  44.  55.5 28. ]\n",
            "n_siblings_spouses  : [0 1 0 0 3]\n",
            "parch               : [1 0 0 0 1]\n",
            "fare                : [23.    78.85  27.721  8.05  25.467]\n",
            "class               : [b'Second' b'First' b'First' b'Third' b'Third']\n",
            "deck                : [b'unknown' b'C' b'B' b'unknown' b'unknown']\n",
            "embark_town         : [b'Southampton' b'Southampton' b'Cherbourg' b'Southampton' b'Southampton']\n",
            "alone               : [b'n' b'n' b'y' b'y' b'n']\n"
          ]
        }
      ]
    },
    {
      "cell_type": "code",
      "source": [
        "example_batch, labels_batch = next(iter(temp_dataset))"
      ],
      "metadata": {
        "id": "Qi0gyOnzwSim"
      },
      "execution_count": 18,
      "outputs": []
    },
    {
      "cell_type": "markdown",
      "source": [
        "### 숫자 특성 목록을 선택하고 단일 column으로 묶는 것보다 일반적인 전처리기를 정의."
      ],
      "metadata": {
        "id": "bFUQv01jwWd2"
      }
    },
    {
      "cell_type": "code",
      "source": [
        "class PackNumericFeatures(object):\n",
        "    def __init__(self, names):\n",
        "        self.names = names\n",
        "    \n",
        "    def __call__(self, features, labels):\n",
        "        numeric_features = [features.pop(name) for name in self.names]\n",
        "        numeric_features = [tf.cast(feat, tf.float32) for feat in numeric_features]\n",
        "        numeric_features = tf.stack(numeric_features, axis=-1)\n",
        "        features['numeric'] = numeric_features\n",
        "\n",
        "        return features, labels"
      ],
      "metadata": {
        "id": "EgJXuGbbwU6k"
      },
      "execution_count": 19,
      "outputs": []
    },
    {
      "cell_type": "code",
      "source": [
        "NUMERIC_FEATURES = ['age', 'n_siblings_spouses', 'parch', 'fare']\n",
        "\n",
        "packed_train_data = raw_train_data.map(PackNumericFeatures(NUMERIC_FEATURES))\n",
        "packed_test_data = raw_test_data.map(PackNumericFeatures(NUMERIC_FEATURES))"
      ],
      "metadata": {
        "id": "t0J4L7IIw8An"
      },
      "execution_count": 20,
      "outputs": []
    },
    {
      "cell_type": "code",
      "source": [
        "show_batch(packed_train_data)"
      ],
      "metadata": {
        "colab": {
          "base_uri": "https://localhost:8080/"
        },
        "id": "rWztkuk_xj-A",
        "outputId": "470e721e-fda3-4b1e-9d0a-d14199132989"
      },
      "execution_count": 21,
      "outputs": [
        {
          "output_type": "stream",
          "name": "stdout",
          "text": [
            "sex                 : [b'male' b'female' b'female' b'male' b'male']\n",
            "class               : [b'Third' b'First' b'Third' b'Third' b'Second']\n",
            "deck                : [b'unknown' b'D' b'unknown' b'unknown' b'unknown']\n",
            "embark_town         : [b'Southampton' b'Southampton' b'Southampton' b'Southampton'\n",
            " b'Southampton']\n",
            "alone               : [b'y' b'n' b'n' b'y' b'y']\n",
            "numeric             : [[32.     0.     0.     7.854]\n",
            " [16.     0.     1.    39.4  ]\n",
            " [30.     1.     1.    24.15 ]\n",
            " [21.     0.     0.     8.663]\n",
            " [39.     0.     0.    13.   ]]\n"
          ]
        }
      ]
    },
    {
      "cell_type": "code",
      "source": [
        "example_batch, labels_batch = next(iter(packed_train_data))"
      ],
      "metadata": {
        "id": "2RSKR1CExowL"
      },
      "execution_count": 22,
      "outputs": []
    },
    {
      "cell_type": "markdown",
      "source": [
        "# 데이터 정규화\n",
        "- 연속 데이터는 항상 정규화 되어야 한다."
      ],
      "metadata": {
        "id": "cgMYH1fMxzTu"
      }
    },
    {
      "cell_type": "code",
      "source": [
        "import pandas as pd"
      ],
      "metadata": {
        "id": "B2moaszLxyF6"
      },
      "execution_count": 23,
      "outputs": []
    },
    {
      "cell_type": "code",
      "source": [
        "desc = pd.read_csv(train_file_path)[NUMERIC_FEATURES].describe()\n",
        "desc"
      ],
      "metadata": {
        "colab": {
          "base_uri": "https://localhost:8080/",
          "height": 300
        },
        "id": "RO1cbCcux6Vi",
        "outputId": "62c4df17-6143-40e1-a84a-dc1a704e044a"
      },
      "execution_count": 24,
      "outputs": [
        {
          "output_type": "execute_result",
          "data": {
            "text/plain": [
              "              age  n_siblings_spouses       parch        fare\n",
              "count  627.000000          627.000000  627.000000  627.000000\n",
              "mean    29.631308            0.545455    0.379585   34.385399\n",
              "std     12.511818            1.151090    0.792999   54.597730\n",
              "min      0.750000            0.000000    0.000000    0.000000\n",
              "25%     23.000000            0.000000    0.000000    7.895800\n",
              "50%     28.000000            0.000000    0.000000   15.045800\n",
              "75%     35.000000            1.000000    0.000000   31.387500\n",
              "max     80.000000            8.000000    5.000000  512.329200"
            ],
            "text/html": [
              "\n",
              "  <div id=\"df-a1fd23c5-eaa3-466a-ac13-42105a0c08cc\">\n",
              "    <div class=\"colab-df-container\">\n",
              "      <div>\n",
              "<style scoped>\n",
              "    .dataframe tbody tr th:only-of-type {\n",
              "        vertical-align: middle;\n",
              "    }\n",
              "\n",
              "    .dataframe tbody tr th {\n",
              "        vertical-align: top;\n",
              "    }\n",
              "\n",
              "    .dataframe thead th {\n",
              "        text-align: right;\n",
              "    }\n",
              "</style>\n",
              "<table border=\"1\" class=\"dataframe\">\n",
              "  <thead>\n",
              "    <tr style=\"text-align: right;\">\n",
              "      <th></th>\n",
              "      <th>age</th>\n",
              "      <th>n_siblings_spouses</th>\n",
              "      <th>parch</th>\n",
              "      <th>fare</th>\n",
              "    </tr>\n",
              "  </thead>\n",
              "  <tbody>\n",
              "    <tr>\n",
              "      <th>count</th>\n",
              "      <td>627.000000</td>\n",
              "      <td>627.000000</td>\n",
              "      <td>627.000000</td>\n",
              "      <td>627.000000</td>\n",
              "    </tr>\n",
              "    <tr>\n",
              "      <th>mean</th>\n",
              "      <td>29.631308</td>\n",
              "      <td>0.545455</td>\n",
              "      <td>0.379585</td>\n",
              "      <td>34.385399</td>\n",
              "    </tr>\n",
              "    <tr>\n",
              "      <th>std</th>\n",
              "      <td>12.511818</td>\n",
              "      <td>1.151090</td>\n",
              "      <td>0.792999</td>\n",
              "      <td>54.597730</td>\n",
              "    </tr>\n",
              "    <tr>\n",
              "      <th>min</th>\n",
              "      <td>0.750000</td>\n",
              "      <td>0.000000</td>\n",
              "      <td>0.000000</td>\n",
              "      <td>0.000000</td>\n",
              "    </tr>\n",
              "    <tr>\n",
              "      <th>25%</th>\n",
              "      <td>23.000000</td>\n",
              "      <td>0.000000</td>\n",
              "      <td>0.000000</td>\n",
              "      <td>7.895800</td>\n",
              "    </tr>\n",
              "    <tr>\n",
              "      <th>50%</th>\n",
              "      <td>28.000000</td>\n",
              "      <td>0.000000</td>\n",
              "      <td>0.000000</td>\n",
              "      <td>15.045800</td>\n",
              "    </tr>\n",
              "    <tr>\n",
              "      <th>75%</th>\n",
              "      <td>35.000000</td>\n",
              "      <td>1.000000</td>\n",
              "      <td>0.000000</td>\n",
              "      <td>31.387500</td>\n",
              "    </tr>\n",
              "    <tr>\n",
              "      <th>max</th>\n",
              "      <td>80.000000</td>\n",
              "      <td>8.000000</td>\n",
              "      <td>5.000000</td>\n",
              "      <td>512.329200</td>\n",
              "    </tr>\n",
              "  </tbody>\n",
              "</table>\n",
              "</div>\n",
              "      <button class=\"colab-df-convert\" onclick=\"convertToInteractive('df-a1fd23c5-eaa3-466a-ac13-42105a0c08cc')\"\n",
              "              title=\"Convert this dataframe to an interactive table.\"\n",
              "              style=\"display:none;\">\n",
              "        \n",
              "  <svg xmlns=\"http://www.w3.org/2000/svg\" height=\"24px\"viewBox=\"0 0 24 24\"\n",
              "       width=\"24px\">\n",
              "    <path d=\"M0 0h24v24H0V0z\" fill=\"none\"/>\n",
              "    <path d=\"M18.56 5.44l.94 2.06.94-2.06 2.06-.94-2.06-.94-.94-2.06-.94 2.06-2.06.94zm-11 1L8.5 8.5l.94-2.06 2.06-.94-2.06-.94L8.5 2.5l-.94 2.06-2.06.94zm10 10l.94 2.06.94-2.06 2.06-.94-2.06-.94-.94-2.06-.94 2.06-2.06.94z\"/><path d=\"M17.41 7.96l-1.37-1.37c-.4-.4-.92-.59-1.43-.59-.52 0-1.04.2-1.43.59L10.3 9.45l-7.72 7.72c-.78.78-.78 2.05 0 2.83L4 21.41c.39.39.9.59 1.41.59.51 0 1.02-.2 1.41-.59l7.78-7.78 2.81-2.81c.8-.78.8-2.07 0-2.86zM5.41 20L4 18.59l7.72-7.72 1.47 1.35L5.41 20z\"/>\n",
              "  </svg>\n",
              "      </button>\n",
              "      \n",
              "  <style>\n",
              "    .colab-df-container {\n",
              "      display:flex;\n",
              "      flex-wrap:wrap;\n",
              "      gap: 12px;\n",
              "    }\n",
              "\n",
              "    .colab-df-convert {\n",
              "      background-color: #E8F0FE;\n",
              "      border: none;\n",
              "      border-radius: 50%;\n",
              "      cursor: pointer;\n",
              "      display: none;\n",
              "      fill: #1967D2;\n",
              "      height: 32px;\n",
              "      padding: 0 0 0 0;\n",
              "      width: 32px;\n",
              "    }\n",
              "\n",
              "    .colab-df-convert:hover {\n",
              "      background-color: #E2EBFA;\n",
              "      box-shadow: 0px 1px 2px rgba(60, 64, 67, 0.3), 0px 1px 3px 1px rgba(60, 64, 67, 0.15);\n",
              "      fill: #174EA6;\n",
              "    }\n",
              "\n",
              "    [theme=dark] .colab-df-convert {\n",
              "      background-color: #3B4455;\n",
              "      fill: #D2E3FC;\n",
              "    }\n",
              "\n",
              "    [theme=dark] .colab-df-convert:hover {\n",
              "      background-color: #434B5C;\n",
              "      box-shadow: 0px 1px 3px 1px rgba(0, 0, 0, 0.15);\n",
              "      filter: drop-shadow(0px 1px 2px rgba(0, 0, 0, 0.3));\n",
              "      fill: #FFFFFF;\n",
              "    }\n",
              "  </style>\n",
              "\n",
              "      <script>\n",
              "        const buttonEl =\n",
              "          document.querySelector('#df-a1fd23c5-eaa3-466a-ac13-42105a0c08cc button.colab-df-convert');\n",
              "        buttonEl.style.display =\n",
              "          google.colab.kernel.accessAllowed ? 'block' : 'none';\n",
              "\n",
              "        async function convertToInteractive(key) {\n",
              "          const element = document.querySelector('#df-a1fd23c5-eaa3-466a-ac13-42105a0c08cc');\n",
              "          const dataTable =\n",
              "            await google.colab.kernel.invokeFunction('convertToInteractive',\n",
              "                                                     [key], {});\n",
              "          if (!dataTable) return;\n",
              "\n",
              "          const docLinkHtml = 'Like what you see? Visit the ' +\n",
              "            '<a target=\"_blank\" href=https://colab.research.google.com/notebooks/data_table.ipynb>data table notebook</a>'\n",
              "            + ' to learn more about interactive tables.';\n",
              "          element.innerHTML = '';\n",
              "          dataTable['output_type'] = 'display_data';\n",
              "          await google.colab.output.renderOutput(dataTable, element);\n",
              "          const docLink = document.createElement('div');\n",
              "          docLink.innerHTML = docLinkHtml;\n",
              "          element.appendChild(docLink);\n",
              "        }\n",
              "      </script>\n",
              "    </div>\n",
              "  </div>\n",
              "  "
            ]
          },
          "metadata": {},
          "execution_count": 24
        }
      ]
    },
    {
      "cell_type": "code",
      "source": [
        "MEAN = np.array(desc.T['mean'])\n",
        "STD = np.array(desc.T['std'])"
      ],
      "metadata": {
        "id": "gK1tFeiZyG_4"
      },
      "execution_count": 27,
      "outputs": []
    },
    {
      "cell_type": "code",
      "source": [
        "def normalize_numeric_data(data, mean, std):\n",
        "    return (data-mean) / std"
      ],
      "metadata": {
        "id": "jiZ4Mka7z9KO"
      },
      "execution_count": 28,
      "outputs": []
    },
    {
      "cell_type": "code",
      "source": [
        "normalizer = functools.partial(normalize_numeric_data, mean=MEAN, std=STD)\n",
        "\n",
        "numeric_column = tf.feature_column.numeric_column('numeric', normalizer_fn=normalizer, shape=[len(NUMERIC_FEATURES)])\n",
        "numeric_columns = [numeric_column]\n",
        "numeric_column"
      ],
      "metadata": {
        "colab": {
          "base_uri": "https://localhost:8080/"
        },
        "id": "ed4aGtSp0NUo",
        "outputId": "12d8fbdf-9f21-4367-b928-6acfc9998e7a"
      },
      "execution_count": 29,
      "outputs": [
        {
          "output_type": "execute_result",
          "data": {
            "text/plain": [
              "NumericColumn(key='numeric', shape=(4,), default_value=None, dtype=tf.float32, normalizer_fn=functools.partial(<function normalize_numeric_data at 0x7f63977553b0>, mean=array([29.631,  0.545,  0.38 , 34.385]), std=array([12.512,  1.151,  0.793, 54.598])))"
            ]
          },
          "metadata": {},
          "execution_count": 29
        }
      ]
    },
    {
      "cell_type": "code",
      "source": [
        "example_batch['numeric']"
      ],
      "metadata": {
        "colab": {
          "base_uri": "https://localhost:8080/"
        },
        "id": "Ck1-Fg0_1FA6",
        "outputId": "ee0a22ba-0e45-4e1c-ce7f-1c037dda1175"
      },
      "execution_count": 30,
      "outputs": [
        {
          "output_type": "execute_result",
          "data": {
            "text/plain": [
              "<tf.Tensor: shape=(5, 4), dtype=float32, numpy=\n",
              "array([[ 32.   ,   0.   ,   0.   ,   7.925],\n",
              "       [ 28.   ,   0.   ,   0.   ,   7.896],\n",
              "       [ 28.   ,   1.   ,   0.   , 146.521],\n",
              "       [ 18.   ,   0.   ,   0.   ,   9.842],\n",
              "       [ 38.   ,   0.   ,   0.   ,  80.   ]], dtype=float32)>"
            ]
          },
          "metadata": {},
          "execution_count": 30
        }
      ]
    },
    {
      "cell_type": "code",
      "source": [
        "numeric_layer = tf.keras.layers.DenseFeatures(numeric_columns)\n",
        "numeric_layer(example_batch).numpy()"
      ],
      "metadata": {
        "colab": {
          "base_uri": "https://localhost:8080/"
        },
        "id": "sDj_TBuL2OVQ",
        "outputId": "66d1698f-6e81-4c53-e3a4-8fdb13a0b2d2"
      },
      "execution_count": 32,
      "outputs": [
        {
          "output_type": "execute_result",
          "data": {
            "text/plain": [
              "array([[ 0.189, -0.474, -0.479, -0.485],\n",
              "       [-0.13 , -0.474, -0.479, -0.485],\n",
              "       [-0.13 ,  0.395, -0.479,  2.054],\n",
              "       [-0.93 , -0.474, -0.479, -0.45 ],\n",
              "       [ 0.669, -0.474, -0.479,  0.835]], dtype=float32)"
            ]
          },
          "metadata": {},
          "execution_count": 32
        }
      ]
    },
    {
      "cell_type": "code",
      "source": [
        "CATEGORIES = {\n",
        "    'sex': ['male', 'female'],\n",
        "    'class' : ['First', 'Second', 'Third'],\n",
        "    'deck' : ['A', 'B', 'C', 'D', 'E', 'F', 'G', 'H', 'I', 'J'],\n",
        "    'embark_town' : ['Cherbourg', 'Southhampton', 'Queenstown'],\n",
        "    'alone' : ['y', 'n']\n",
        "}"
      ],
      "metadata": {
        "id": "R02NqxG_2Zbz"
      },
      "execution_count": 33,
      "outputs": []
    },
    {
      "cell_type": "code",
      "source": [
        "categorical_columns = []\n",
        "for feature, vocab in CATEGORIES.items():\n",
        "    cat_col = tf.feature_column.categorical_column_with_vocabulary_list(key=feature, vocabulary_list=vocab)\n",
        "    categorical_columns.append(tf.feature_column.indicator_column(cat_col))"
      ],
      "metadata": {
        "id": "dzrrJtny2t-A"
      },
      "execution_count": 34,
      "outputs": []
    },
    {
      "cell_type": "code",
      "source": [
        "categorical_columns"
      ],
      "metadata": {
        "colab": {
          "base_uri": "https://localhost:8080/"
        },
        "id": "qDiQ3VIA9zZd",
        "outputId": "31587e02-a2e8-442c-a49c-0849c8166134"
      },
      "execution_count": 35,
      "outputs": [
        {
          "output_type": "execute_result",
          "data": {
            "text/plain": [
              "[IndicatorColumn(categorical_column=VocabularyListCategoricalColumn(key='sex', vocabulary_list=('male', 'female'), dtype=tf.string, default_value=-1, num_oov_buckets=0)),\n",
              " IndicatorColumn(categorical_column=VocabularyListCategoricalColumn(key='class', vocabulary_list=('First', 'Second', 'Third'), dtype=tf.string, default_value=-1, num_oov_buckets=0)),\n",
              " IndicatorColumn(categorical_column=VocabularyListCategoricalColumn(key='deck', vocabulary_list=('A', 'B', 'C', 'D', 'E', 'F', 'G', 'H', 'I', 'J'), dtype=tf.string, default_value=-1, num_oov_buckets=0)),\n",
              " IndicatorColumn(categorical_column=VocabularyListCategoricalColumn(key='embark_town', vocabulary_list=('Cherbourg', 'Southhampton', 'Queenstown'), dtype=tf.string, default_value=-1, num_oov_buckets=0)),\n",
              " IndicatorColumn(categorical_column=VocabularyListCategoricalColumn(key='alone', vocabulary_list=('y', 'n'), dtype=tf.string, default_value=-1, num_oov_buckets=0))]"
            ]
          },
          "metadata": {},
          "execution_count": 35
        }
      ]
    },
    {
      "cell_type": "code",
      "source": [
        "categorical_layer = tf.keras.layers.DenseFeatures(categorical_columns)\n",
        "print(categorical_layer(example_batch).numpy()[0])"
      ],
      "metadata": {
        "colab": {
          "base_uri": "https://localhost:8080/"
        },
        "id": "_NDqxvbQ91mS",
        "outputId": "b09a90a8-b1e7-42cd-fbb0-434381fd1ee8"
      },
      "execution_count": 36,
      "outputs": [
        {
          "output_type": "stream",
          "name": "stdout",
          "text": [
            "[1. 0. 0. 0. 1. 0. 0. 0. 0. 0. 0. 0. 0. 0. 0. 0. 0. 0. 1. 0.]\n"
          ]
        }
      ]
    },
    {
      "cell_type": "markdown",
      "source": [
        "### ```tf.keras.layers.DenseFeatures```에 전달하여 두 input 유형을 추출하고 전처리할 입력 레이어를 만든다."
      ],
      "metadata": {
        "id": "WEMRyWAr_gaY"
      }
    },
    {
      "cell_type": "code",
      "source": [
        "preprocessing_layer = tf.keras.layers.DenseFeatures(categorical_columns + numeric_columns)"
      ],
      "metadata": {
        "id": "iBChGePT-4wD"
      },
      "execution_count": 37,
      "outputs": []
    },
    {
      "cell_type": "code",
      "source": [
        "print(preprocessing_layer(example_batch).numpy()[0])"
      ],
      "metadata": {
        "colab": {
          "base_uri": "https://localhost:8080/"
        },
        "id": "zxDECqEt_u15",
        "outputId": "edba504c-ab08-46a7-a594-9047b4a3c443"
      },
      "execution_count": 38,
      "outputs": [
        {
          "output_type": "stream",
          "name": "stdout",
          "text": [
            "[ 1.     0.     0.     0.     1.     0.     0.     0.     0.     0.\n",
            "  0.     0.     0.     0.     0.     0.     0.     0.     0.189 -0.474\n",
            " -0.479 -0.485  1.     0.   ]\n"
          ]
        }
      ]
    },
    {
      "cell_type": "markdown",
      "source": [
        "# Model Build\n",
        "- ```preprocessing_layer```를 사용하여 ```tf.keras.Sequential```을 빌드"
      ],
      "metadata": {
        "id": "PCX-F3YP_xR2"
      }
    },
    {
      "cell_type": "code",
      "source": [
        "model = tf.keras.Sequential([\n",
        "    preprocessing_layer,\n",
        "    tf.keras.layers.Dense(128, activation='relu'),\n",
        "    tf.keras.layers.Dense(128, activation='relu'),\n",
        "    tf.keras.layers.Dense(1),\n",
        "])\n",
        "\n",
        "model.compile(optimizer='adam',\n",
        "              loss=tf.keras.losses.BinaryCrossentropy(from_logits=True),\n",
        "              metrics=['accuracy'])"
      ],
      "metadata": {
        "id": "CbefbUbH_yZD"
      },
      "execution_count": 39,
      "outputs": []
    },
    {
      "cell_type": "markdown",
      "source": [
        "# Training"
      ],
      "metadata": {
        "id": "scBYObRqAgP2"
      }
    },
    {
      "cell_type": "code",
      "source": [
        "train_data = packed_train_data.shuffle(500)\n",
        "test_data = packed_test_data"
      ],
      "metadata": {
        "id": "MlA0V3aoAQCN"
      },
      "execution_count": 40,
      "outputs": []
    },
    {
      "cell_type": "code",
      "source": [
        "train_data"
      ],
      "metadata": {
        "colab": {
          "base_uri": "https://localhost:8080/"
        },
        "id": "6dhjq1mpAXRO",
        "outputId": "ce928159-89c1-4795-e773-a0e35bcf9fef"
      },
      "execution_count": 41,
      "outputs": [
        {
          "output_type": "execute_result",
          "data": {
            "text/plain": [
              "<ShuffleDataset element_spec=(OrderedDict([('sex', TensorSpec(shape=(None,), dtype=tf.string, name=None)), ('class', TensorSpec(shape=(None,), dtype=tf.string, name=None)), ('deck', TensorSpec(shape=(None,), dtype=tf.string, name=None)), ('embark_town', TensorSpec(shape=(None,), dtype=tf.string, name=None)), ('alone', TensorSpec(shape=(None,), dtype=tf.string, name=None)), ('numeric', TensorSpec(shape=(None, 4), dtype=tf.float32, name=None))]), TensorSpec(shape=(None,), dtype=tf.int32, name=None))>"
            ]
          },
          "metadata": {},
          "execution_count": 41
        }
      ]
    },
    {
      "cell_type": "code",
      "source": [
        "model.fit(train_data, epochs=20)"
      ],
      "metadata": {
        "colab": {
          "base_uri": "https://localhost:8080/"
        },
        "id": "reE5i3dpAUyi",
        "outputId": "cf6eaaf6-82c6-4daf-9b8c-042bdf928aae"
      },
      "execution_count": 42,
      "outputs": [
        {
          "output_type": "stream",
          "name": "stdout",
          "text": [
            "Epoch 1/20\n",
            "WARNING:tensorflow:Layers in a Sequential model should only have a single input tensor. Received: inputs=OrderedDict([('sex', <tf.Tensor 'IteratorGetNext:5' shape=(None,) dtype=string>), ('class', <tf.Tensor 'IteratorGetNext:1' shape=(None,) dtype=string>), ('deck', <tf.Tensor 'IteratorGetNext:2' shape=(None,) dtype=string>), ('embark_town', <tf.Tensor 'IteratorGetNext:3' shape=(None,) dtype=string>), ('alone', <tf.Tensor 'IteratorGetNext:0' shape=(None,) dtype=string>), ('numeric', <tf.Tensor 'IteratorGetNext:4' shape=(None, 4) dtype=float32>)]). Consider rewriting this model with the Functional API.\n",
            "WARNING:tensorflow:Layers in a Sequential model should only have a single input tensor. Received: inputs=OrderedDict([('sex', <tf.Tensor 'IteratorGetNext:5' shape=(None,) dtype=string>), ('class', <tf.Tensor 'IteratorGetNext:1' shape=(None,) dtype=string>), ('deck', <tf.Tensor 'IteratorGetNext:2' shape=(None,) dtype=string>), ('embark_town', <tf.Tensor 'IteratorGetNext:3' shape=(None,) dtype=string>), ('alone', <tf.Tensor 'IteratorGetNext:0' shape=(None,) dtype=string>), ('numeric', <tf.Tensor 'IteratorGetNext:4' shape=(None, 4) dtype=float32>)]). Consider rewriting this model with the Functional API.\n",
            "126/126 [==============================] - 6s 9ms/step - loss: 0.5145 - accuracy: 0.7321\n",
            "Epoch 2/20\n",
            "126/126 [==============================] - 1s 9ms/step - loss: 0.4257 - accuracy: 0.8214\n",
            "Epoch 3/20\n",
            "126/126 [==============================] - 1s 8ms/step - loss: 0.4038 - accuracy: 0.8357\n",
            "Epoch 4/20\n",
            "126/126 [==============================] - 1s 7ms/step - loss: 0.3957 - accuracy: 0.8309\n",
            "Epoch 5/20\n",
            "126/126 [==============================] - 1s 9ms/step - loss: 0.3793 - accuracy: 0.8293\n",
            "Epoch 6/20\n",
            "126/126 [==============================] - 1s 8ms/step - loss: 0.3719 - accuracy: 0.8453\n",
            "Epoch 7/20\n",
            "126/126 [==============================] - 1s 9ms/step - loss: 0.3671 - accuracy: 0.8501\n",
            "Epoch 8/20\n",
            "126/126 [==============================] - 1s 8ms/step - loss: 0.3578 - accuracy: 0.8581\n",
            "Epoch 9/20\n",
            "126/126 [==============================] - 1s 8ms/step - loss: 0.3503 - accuracy: 0.8453\n",
            "Epoch 10/20\n",
            "126/126 [==============================] - 1s 8ms/step - loss: 0.3467 - accuracy: 0.8612\n",
            "Epoch 11/20\n",
            "126/126 [==============================] - 1s 9ms/step - loss: 0.3466 - accuracy: 0.8501\n",
            "Epoch 12/20\n",
            "126/126 [==============================] - 1s 8ms/step - loss: 0.3345 - accuracy: 0.8549\n",
            "Epoch 13/20\n",
            "126/126 [==============================] - 1s 8ms/step - loss: 0.3322 - accuracy: 0.8453\n",
            "Epoch 14/20\n",
            "126/126 [==============================] - 1s 7ms/step - loss: 0.3251 - accuracy: 0.8565\n",
            "Epoch 15/20\n",
            "126/126 [==============================] - 1s 9ms/step - loss: 0.3175 - accuracy: 0.8565\n",
            "Epoch 16/20\n",
            "126/126 [==============================] - 1s 9ms/step - loss: 0.3168 - accuracy: 0.8612\n",
            "Epoch 17/20\n",
            "126/126 [==============================] - 1s 9ms/step - loss: 0.3188 - accuracy: 0.8565\n",
            "Epoch 18/20\n",
            "126/126 [==============================] - 1s 9ms/step - loss: 0.3166 - accuracy: 0.8581\n",
            "Epoch 19/20\n",
            "126/126 [==============================] - 1s 5ms/step - loss: 0.3215 - accuracy: 0.8517\n",
            "Epoch 20/20\n",
            "126/126 [==============================] - 1s 4ms/step - loss: 0.3103 - accuracy: 0.8612\n"
          ]
        },
        {
          "output_type": "execute_result",
          "data": {
            "text/plain": [
              "<keras.callbacks.History at 0x7f6397360a90>"
            ]
          },
          "metadata": {},
          "execution_count": 42
        }
      ]
    },
    {
      "cell_type": "markdown",
      "source": [
        "# Test"
      ],
      "metadata": {
        "id": "h0csbtWWBXnc"
      }
    },
    {
      "cell_type": "code",
      "source": [
        "test_loss, test_accuracy = model.evaluate(test_data)\n",
        "\n",
        "print(\"\\n\\nTest Loss {}, Test Accuracy {}\".format(test_loss, test_accuracy))"
      ],
      "metadata": {
        "colab": {
          "base_uri": "https://localhost:8080/"
        },
        "id": "Jr0SMFc7AdLh",
        "outputId": "b3819be2-73dc-4565-db17-cfe6beaf3777"
      },
      "execution_count": 47,
      "outputs": [
        {
          "output_type": "stream",
          "name": "stdout",
          "text": [
            "WARNING:tensorflow:Layers in a Sequential model should only have a single input tensor. Received: inputs=OrderedDict([('sex', <tf.Tensor 'IteratorGetNext:5' shape=(None,) dtype=string>), ('class', <tf.Tensor 'IteratorGetNext:1' shape=(None,) dtype=string>), ('deck', <tf.Tensor 'IteratorGetNext:2' shape=(None,) dtype=string>), ('embark_town', <tf.Tensor 'IteratorGetNext:3' shape=(None,) dtype=string>), ('alone', <tf.Tensor 'IteratorGetNext:0' shape=(None,) dtype=string>), ('numeric', <tf.Tensor 'IteratorGetNext:4' shape=(None, 4) dtype=float32>)]). Consider rewriting this model with the Functional API.\n",
            "53/53 [==============================] - 1s 7ms/step - loss: 0.4461 - accuracy: 0.8409\n",
            "\n",
            "\n",
            "Test Loss 0.4460510015487671, Test Accuracy 0.8409090638160706\n"
          ]
        }
      ]
    },
    {
      "cell_type": "code",
      "source": [
        "predictions = model.predict(test_data)\n",
        "\n",
        "for prediction, survived in zip(predictions[:10], list(test_data)[0][1][:10]):\n",
        "  prediction = tf.sigmoid(prediction).numpy()\n",
        "  print(\"Predicted survival: {:.2%}\".format(prediction[0]),\n",
        "        \" | Actual outcome: \",\n",
        "        (\"SURVIVED\" if bool(survived) else \"DIED\"))"
      ],
      "metadata": {
        "colab": {
          "base_uri": "https://localhost:8080/"
        },
        "id": "-b8zXz5rAnzv",
        "outputId": "9ecfe599-f29c-4525-e8f4-2bb3dba02baf"
      },
      "execution_count": 50,
      "outputs": [
        {
          "output_type": "stream",
          "name": "stdout",
          "text": [
            "Predicted survival: 82.10%  | Actual outcome:  SURVIVED\n",
            "Predicted survival: 26.45%  | Actual outcome:  DIED\n",
            "Predicted survival: 99.34%  | Actual outcome:  SURVIVED\n",
            "Predicted survival: 2.85%  | Actual outcome:  DIED\n",
            "Predicted survival: 11.71%  | Actual outcome:  DIED\n"
          ]
        }
      ]
    },
    {
      "cell_type": "code",
      "source": [
        ""
      ],
      "metadata": {
        "id": "00Cg5QN-BMUo"
      },
      "execution_count": null,
      "outputs": []
    }
  ]
}