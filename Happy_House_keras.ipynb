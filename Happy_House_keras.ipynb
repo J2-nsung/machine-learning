{
 "cells": [
  {
   "cell_type": "markdown",
   "metadata": {},
   "source": [
    "# Keras tutorial - the Happy House\n",
    "\n",
    "Welcome to the first assignment of week 2. In this assignment, you will:\n",
    "1. Learn to use Keras, a high-level neural networks API (programming framework), written in Python and capable of running on top of several lower-level frameworks including TensorFlow and CNTK. \n",
    "2. See how you can in a couple of hours build a deep learning algorithm.\n",
    "\n",
    "Why are we using Keras? Keras was developed to enable deep learning engineers to build and experiment with different models very quickly. Just as TensorFlow is a higher-level framework than Python, Keras is an even higher-level framework and provides additional abstractions. Being able to go from idea to result with the least possible delay is key to finding good models. However, Keras is more restrictive than the lower-level frameworks, so there are some very complex models that you can implement in TensorFlow but not (without more difficulty) in Keras. That being said, Keras will work fine for many common models. \n",
    "\n",
    "In this exercise, you'll work on the \"Happy House\" problem, which we'll explain below. Let's load the required packages and solve the problem of the Happy House!"
   ]
  },
  {
   "cell_type": "code",
   "execution_count": 1,
   "metadata": {},
   "outputs": [
    {
     "name": "stderr",
     "output_type": "stream",
     "text": [
      "Using TensorFlow backend.\n"
     ]
    }
   ],
   "source": [
    "import numpy as np\n",
    "from keras import layers\n",
    "from keras.layers import Input, Dense, Activation, ZeroPadding2D, BatchNormalization, Flatten, Conv2D\n",
    "from keras.layers import AveragePooling2D, MaxPooling2D, Dropout, GlobalMaxPooling2D, GlobalAveragePooling2D\n",
    "from keras.models import Model\n",
    "from keras.preprocessing import image\n",
    "from keras.utils import layer_utils\n",
    "from keras.utils.data_utils import get_file\n",
    "from keras.applications.imagenet_utils import preprocess_input\n",
    "import pydot\n",
    "from IPython.display import SVG\n",
    "from keras.utils.vis_utils import model_to_dot\n",
    "from keras.utils import plot_model\n",
    "from kt_utils import *\n",
    "\n",
    "import keras.backend as K\n",
    "K.set_image_data_format('channels_last')\n",
    "import matplotlib.pyplot as plt\n",
    "from matplotlib.pyplot import imshow\n",
    "\n",
    "%matplotlib inline"
   ]
  },
  {
   "cell_type": "markdown",
   "metadata": {},
   "source": [
    "**Note**: As you can see, we've imported a lot of functions from Keras. You can use them easily just by calling them directly in the notebook. Ex: `X = Input(...)` or `X = ZeroPadding2D(...)`."
   ]
  },
  {
   "cell_type": "markdown",
   "metadata": {},
   "source": [
    "## 1 - The Happy House \n",
    "\n",
    "For your next vacation, you decided to spend a week with five of your friends from school. It is a very convenient house with many things to do nearby. But the most important benefit is that everybody has commited to be happy when they are in the house. So anyone wanting to enter the house must prove their current state of happiness.\n",
    "\n",
    "<img src=\"images/happy-house.jpg\" style=\"width:350px;height:270px;\">\n",
    "<caption><center> <u> <font color='purple'> **Figure 1** </u><font color='purple'>  : **the Happy House**</center></caption>\n",
    "\n",
    "\n",
    "As a deep learning expert, to make sure the \"Happy\" rule is strictly applied, you are going to build an algorithm which that uses pictures from the front door camera to check if the person is happy or not. The door should open only if the person is happy. \n",
    "\n",
    "You have gathered pictures of your friends and yourself, taken by the front-door camera. The dataset is labbeled. \n",
    "\n",
    "<img src=\"images/house-members.png\" style=\"width:550px;height:250px;\">\n",
    "\n",
    "Run the following code to normalize the dataset and learn about its shapes."
   ]
  },
  {
   "cell_type": "code",
   "execution_count": 2,
   "metadata": {},
   "outputs": [
    {
     "name": "stdout",
     "output_type": "stream",
     "text": [
      "number of training examples = 600\n",
      "number of test examples = 150\n",
      "X_train shape: (600, 64, 64, 3)\n",
      "Y_train shape: (600, 1)\n",
      "X_test shape: (150, 64, 64, 3)\n",
      "Y_test shape: (150, 1)\n"
     ]
    }
   ],
   "source": [
    "X_train_orig, Y_train_orig, X_test_orig, Y_test_orig, classes = load_dataset()\n",
    "\n",
    "# Normalize image vectors\n",
    "X_train = X_train_orig/255.\n",
    "X_test = X_test_orig/255.\n",
    "\n",
    "# Reshape\n",
    "Y_train = Y_train_orig.T\n",
    "Y_test = Y_test_orig.T\n",
    "\n",
    "print (\"number of training examples = \" + str(X_train.shape[0]))\n",
    "print (\"number of test examples = \" + str(X_test.shape[0]))\n",
    "print (\"X_train shape: \" + str(X_train.shape))\n",
    "print (\"Y_train shape: \" + str(Y_train.shape))\n",
    "print (\"X_test shape: \" + str(X_test.shape))\n",
    "print (\"Y_test shape: \" + str(Y_test.shape))"
   ]
  },
  {
   "cell_type": "markdown",
   "metadata": {},
   "source": [
    "**Details of the \"Happy\" dataset**:\n",
    "- Images are of shape (64,64,3)\n",
    "- Training: 600 pictures\n",
    "- Test: 150 pictures\n",
    "\n",
    "It is now time to solve the \"Happy\" Challenge."
   ]
  },
  {
   "cell_type": "markdown",
   "metadata": {},
   "source": [
    "## 2 - Building a model in Keras\n",
    "\n",
    "Keras is very good for rapid prototyping. In just a short time you will be able to build a model that achieves outstanding results.\n",
    "\n",
    "Here is an example of a model in Keras:\n",
    "\n",
    "```python\n",
    "def model(input_shape):\n",
    "    # Define the input placeholder as a tensor with shape input_shape. Think of this as your input image!\n",
    "    X_input = Input(input_shape)\n",
    "\n",
    "    # Zero-Padding: pads the border of X_input with zeroes\n",
    "    X = ZeroPadding2D((3, 3))(X_input)\n",
    "\n",
    "    # CONV -> BN -> RELU Block applied to X\n",
    "    X = Conv2D(32, (7, 7), strides = (1, 1), name = 'conv0')(X)\n",
    "    X = BatchNormalization(axis = 3, name = 'bn0')(X)\n",
    "    X = Activation('relu')(X)\n",
    "\n",
    "    # MAXPOOL\n",
    "    X = MaxPooling2D((2, 2), name='max_pool')(X)\n",
    "\n",
    "    # FLATTEN X (means convert it to a vector) + FULLYCONNECTED\n",
    "    X = Flatten()(X)\n",
    "    X = Dense(1, activation='sigmoid', name='fc')(X)\n",
    "\n",
    "    # Create model. This creates your Keras model instance, you'll use this instance to train/test the model.\n",
    "    model = Model(inputs = X_input, outputs = X, name='HappyModel')\n",
    "    \n",
    "    return model\n",
    "```\n",
    "\n",
    "Note that Keras uses a different convention with variable names than we've previously used with numpy and TensorFlow. In particular, rather than creating and assigning a new variable on each step of forward propagation such as `X`, `Z1`, `A1`, `Z2`, `A2`, etc. for the computations for the different layers, in Keras code each line above just reassigns `X` to a new value using `X = ...`. In other words, during each step of forward propagation, we are just writing the latest value in the commputation into the same variable `X`. The only exception was `X_input`, which we kept separate and did not overwrite, since we needed it at the end to create the Keras model instance (`model = Model(inputs = X_input, ...)` above). \n",
    "\n",
    "**Exercise**: Implement a `HappyModel()`. This assignment is more open-ended than most. We suggest that you start by implementing a model using the architecture we suggest, and run through the rest of this assignment using that as your initial model. But after that, come back and take initiative to try out other model architectures. For example, you might take inspiration from the model above, but then vary the network architecture and hyperparameters however you wish. You can also use other functions such as `AveragePooling2D()`, `GlobalMaxPooling2D()`, `Dropout()`. \n",
    "\n",
    "**Note**: You have to be careful with your data's shapes. Use what you've learned in the videos to make sure your convolutional, pooling and fully-connected layers are adapted to the volumes you're applying it to."
   ]
  },
  {
   "cell_type": "code",
   "execution_count": 3,
   "metadata": {},
   "outputs": [],
   "source": [
    "# GRADED FUNCTION: HappyModel\n",
    "\n",
    "def HappyModel(input_shape):\n",
    "    \"\"\"\n",
    "    Implementation of the HappyModel.\n",
    "    \n",
    "    Arguments:\n",
    "    input_shape -- shape of the images of the dataset\n",
    "\n",
    "    Returns\n",
    "    model -- a Model() instance in Keras\n",
    "    \"\"\"\n",
    "    \n",
    "    ### START CODE HERE ###\n",
    "    # Feel free to use the suggested outline in the text above to get started, and run through the whole\n",
    "    # exercise (including the later portions of this notebook) once. The come back also try out other\n",
    "    # network architectures as well. \n",
    "    \n",
    "    X_input = Input(input_shape)\n",
    "\n",
    "    # Zero-Padding: pads the border of X_input with zeroes\n",
    "    X = ZeroPadding2D((3, 3))(X_input)\n",
    "\n",
    "    # CONV -> BN -> RELU Block applied to X\n",
    "    X = Conv2D(32, (7, 7), strides = (1, 1), name = 'conv0')(X)\n",
    "    X = BatchNormalization(axis=3, name='bn0')(X)\n",
    "    X = Activation('relu')(X)\n",
    "\n",
    "    # MAXPOOL\n",
    "    X = MaxPooling2D((2, 2), name='max_pool')(X)\n",
    "\n",
    "    # FLATTEN X (means convert it to a vector) + FULLYCONNECTED\n",
    "    X = Flatten()(X)\n",
    "    X = Dense(1, activation='sigmoid', name='fc')(X)\n",
    "\n",
    "    # Create model. This creates your Keras model instance, you'll use this instance to train/test the model.\n",
    "    model = Model(inputs = X_input, outputs = X, name='HappyModel')\n",
    "    \n",
    "    ### END CODE HERE ###\n",
    "    \n",
    "    return model"
   ]
  },
  {
   "cell_type": "markdown",
   "metadata": {},
   "source": [
    "You have now built a function to describe your model. To train and test this model, there are four steps in Keras:\n",
    "1. Create the model by calling the function above\n",
    "2. Compile the model by calling `model.compile(optimizer = \"...\", loss = \"...\", metrics = [\"accuracy\"])`\n",
    "3. Train the model on train data by calling `model.fit(x = ..., y = ..., epochs = ..., batch_size = ...)`\n",
    "4. Test the model on test data by calling `model.evaluate(x = ..., y = ...)`\n",
    "\n",
    "If you want to know more about `model.compile()`, `model.fit()`, `model.evaluate()` and their arguments, refer to the official [Keras documentation](https://keras.io/models/model/).\n",
    "\n",
    "**Exercise**: Implement step 1, i.e. create the model."
   ]
  },
  {
   "cell_type": "code",
   "execution_count": 4,
   "metadata": {},
   "outputs": [
    {
     "name": "stdout",
     "output_type": "stream",
     "text": [
      "WARNING:tensorflow:From C:\\Users\\Jinsung\\Anaconda3\\lib\\site-packages\\keras\\backend\\tensorflow_backend.py:74: The name tf.get_default_graph is deprecated. Please use tf.compat.v1.get_default_graph instead.\n",
      "\n",
      "WARNING:tensorflow:From C:\\Users\\Jinsung\\Anaconda3\\lib\\site-packages\\keras\\backend\\tensorflow_backend.py:517: The name tf.placeholder is deprecated. Please use tf.compat.v1.placeholder instead.\n",
      "\n",
      "WARNING:tensorflow:From C:\\Users\\Jinsung\\Anaconda3\\lib\\site-packages\\keras\\backend\\tensorflow_backend.py:4138: The name tf.random_uniform is deprecated. Please use tf.random.uniform instead.\n",
      "\n",
      "WARNING:tensorflow:From C:\\Users\\Jinsung\\Anaconda3\\lib\\site-packages\\keras\\backend\\tensorflow_backend.py:174: The name tf.get_default_session is deprecated. Please use tf.compat.v1.get_default_session instead.\n",
      "\n",
      "WARNING:tensorflow:From C:\\Users\\Jinsung\\Anaconda3\\lib\\site-packages\\keras\\backend\\tensorflow_backend.py:181: The name tf.ConfigProto is deprecated. Please use tf.compat.v1.ConfigProto instead.\n",
      "\n",
      "WARNING:tensorflow:From C:\\Users\\Jinsung\\Anaconda3\\lib\\site-packages\\keras\\backend\\tensorflow_backend.py:1834: The name tf.nn.fused_batch_norm is deprecated. Please use tf.compat.v1.nn.fused_batch_norm instead.\n",
      "\n",
      "WARNING:tensorflow:From C:\\Users\\Jinsung\\Anaconda3\\lib\\site-packages\\keras\\backend\\tensorflow_backend.py:3976: The name tf.nn.max_pool is deprecated. Please use tf.nn.max_pool2d instead.\n",
      "\n"
     ]
    }
   ],
   "source": [
    "### START CODE HERE ### (1 line)\n",
    "happyModel = HappyModel(X_train.shape[1:])\n",
    "### END CODE HERE ###"
   ]
  },
  {
   "cell_type": "markdown",
   "metadata": {},
   "source": [
    "**Exercise**: Implement step 2, i.e. compile the model to configure the learning process. Choose the 3 arguments of `compile()` wisely. Hint: the Happy Challenge is a binary classification problem."
   ]
  },
  {
   "cell_type": "code",
   "execution_count": 5,
   "metadata": {},
   "outputs": [
    {
     "name": "stdout",
     "output_type": "stream",
     "text": [
      "WARNING:tensorflow:From C:\\Users\\Jinsung\\Anaconda3\\lib\\site-packages\\keras\\optimizers.py:790: The name tf.train.Optimizer is deprecated. Please use tf.compat.v1.train.Optimizer instead.\n",
      "\n",
      "WARNING:tensorflow:From C:\\Users\\Jinsung\\Anaconda3\\lib\\site-packages\\tensorflow\\python\\ops\\nn_impl.py:180: add_dispatch_support.<locals>.wrapper (from tensorflow.python.ops.array_ops) is deprecated and will be removed in a future version.\n",
      "Instructions for updating:\n",
      "Use tf.where in 2.0, which has the same broadcast rule as np.where\n"
     ]
    }
   ],
   "source": [
    "### START CODE HERE ### (1 line)\n",
    "happyModel.compile(optimizer='adam', loss='binary_crossentropy', metrics=['accuracy'])\n",
    "### END CODE HERE ###"
   ]
  },
  {
   "cell_type": "markdown",
   "metadata": {},
   "source": [
    "**Exercise**: Implement step 3, i.e. train the model. Choose the number of epochs and the batch size."
   ]
  },
  {
   "cell_type": "code",
   "execution_count": 6,
   "metadata": {},
   "outputs": [
    {
     "name": "stdout",
     "output_type": "stream",
     "text": [
      "Train on 600 samples, validate on 150 samples\n",
      "Epoch 1/100\n",
      "600/600 [==============================] - 4s 7ms/step - loss: 1.5365 - acc: 0.6250 - val_loss: 0.3315 - val_acc: 0.8533\n",
      "Epoch 2/100\n",
      "600/600 [==============================] - 3s 6ms/step - loss: 0.2743 - acc: 0.8850 - val_loss: 0.1877 - val_acc: 0.9467\n",
      "Epoch 3/100\n",
      "600/600 [==============================] - 3s 6ms/step - loss: 0.2295 - acc: 0.9033 - val_loss: 0.2919 - val_acc: 0.8667\n",
      "Epoch 4/100\n",
      "600/600 [==============================] - 3s 6ms/step - loss: 0.1344 - acc: 0.9600 - val_loss: 0.2258 - val_acc: 0.9133\n",
      "Epoch 5/100\n",
      "600/600 [==============================] - 3s 6ms/step - loss: 0.0936 - acc: 0.9683 - val_loss: 0.1327 - val_acc: 0.9600\n",
      "Epoch 6/100\n",
      "600/600 [==============================] - 3s 6ms/step - loss: 0.0828 - acc: 0.9700 - val_loss: 0.1698 - val_acc: 0.9200\n",
      "Epoch 7/100\n",
      "600/600 [==============================] - 3s 6ms/step - loss: 0.0767 - acc: 0.9750 - val_loss: 0.1688 - val_acc: 0.9267\n",
      "Epoch 8/100\n",
      "600/600 [==============================] - 3s 6ms/step - loss: 0.0766 - acc: 0.9783 - val_loss: 0.1116 - val_acc: 0.9600\n",
      "Epoch 9/100\n",
      "600/600 [==============================] - 3s 6ms/step - loss: 0.0683 - acc: 0.9733 - val_loss: 0.3798 - val_acc: 0.8267\n",
      "Epoch 10/100\n",
      "600/600 [==============================] - 3s 6ms/step - loss: 0.0758 - acc: 0.9750 - val_loss: 0.1328 - val_acc: 0.9400\n",
      "Epoch 11/100\n",
      "600/600 [==============================] - 3s 6ms/step - loss: 0.0475 - acc: 0.9867 - val_loss: 0.1044 - val_acc: 0.9733\n",
      "Epoch 12/100\n",
      "600/600 [==============================] - 3s 6ms/step - loss: 0.0462 - acc: 0.9900 - val_loss: 0.0963 - val_acc: 0.9667\n",
      "Epoch 13/100\n",
      "600/600 [==============================] - 3s 6ms/step - loss: 0.0699 - acc: 0.9817 - val_loss: 0.1486 - val_acc: 0.9200\n",
      "Epoch 14/100\n",
      "600/600 [==============================] - 3s 6ms/step - loss: 0.0526 - acc: 0.9767 - val_loss: 0.0906 - val_acc: 0.9600\n",
      "Epoch 15/100\n",
      "600/600 [==============================] - 3s 6ms/step - loss: 0.0780 - acc: 0.9800 - val_loss: 0.1838 - val_acc: 0.9400\n",
      "Epoch 16/100\n",
      "600/600 [==============================] - 3s 6ms/step - loss: 0.0357 - acc: 0.9933 - val_loss: 0.1499 - val_acc: 0.9467\n",
      "Epoch 17/100\n",
      "600/600 [==============================] - 3s 6ms/step - loss: 0.0431 - acc: 0.9750 - val_loss: 0.0785 - val_acc: 0.9667\n",
      "Epoch 18/100\n",
      "600/600 [==============================] - 3s 6ms/step - loss: 0.0722 - acc: 0.9700 - val_loss: 3.2668 - val_acc: 0.5600\n",
      "Epoch 19/100\n",
      "600/600 [==============================] - 3s 6ms/step - loss: 0.1167 - acc: 0.9500 - val_loss: 0.7455 - val_acc: 0.7933\n",
      "Epoch 20/100\n",
      "600/600 [==============================] - 3s 6ms/step - loss: 0.0741 - acc: 0.9700 - val_loss: 0.2333 - val_acc: 0.9333\n",
      "Epoch 21/100\n",
      "600/600 [==============================] - 3s 6ms/step - loss: 0.0936 - acc: 0.9717 - val_loss: 0.3492 - val_acc: 0.9133\n",
      "Epoch 22/100\n",
      "600/600 [==============================] - 3s 6ms/step - loss: 0.0570 - acc: 0.9783 - val_loss: 0.2503 - val_acc: 0.8933\n",
      "Epoch 23/100\n",
      "600/600 [==============================] - 3s 6ms/step - loss: 0.0464 - acc: 0.9900 - val_loss: 0.0881 - val_acc: 0.9733\n",
      "Epoch 24/100\n",
      "600/600 [==============================] - 3s 6ms/step - loss: 0.0287 - acc: 0.9900 - val_loss: 0.0790 - val_acc: 0.9600\n",
      "Epoch 25/100\n",
      "600/600 [==============================] - 3s 6ms/step - loss: 0.0242 - acc: 0.9917 - val_loss: 0.1052 - val_acc: 0.9733\n",
      "Epoch 26/100\n",
      "600/600 [==============================] - 3s 6ms/step - loss: 0.0224 - acc: 0.9950 - val_loss: 0.1240 - val_acc: 0.9667\n",
      "Epoch 27/100\n",
      "600/600 [==============================] - 3s 6ms/step - loss: 0.0548 - acc: 0.9850 - val_loss: 0.3006 - val_acc: 0.8933\n",
      "Epoch 28/100\n",
      "600/600 [==============================] - 3s 6ms/step - loss: 0.0387 - acc: 0.9883 - val_loss: 0.9415 - val_acc: 0.7000\n",
      "Epoch 29/100\n",
      "600/600 [==============================] - 3s 6ms/step - loss: 0.0345 - acc: 0.9867 - val_loss: 0.0919 - val_acc: 0.9667\n",
      "Epoch 30/100\n",
      "600/600 [==============================] - 3s 6ms/step - loss: 0.0916 - acc: 0.9700 - val_loss: 0.5277 - val_acc: 0.8867\n",
      "Epoch 31/100\n",
      "600/600 [==============================] - 4s 6ms/step - loss: 0.0519 - acc: 0.9817 - val_loss: 0.2737 - val_acc: 0.8933\n",
      "Epoch 32/100\n",
      "600/600 [==============================] - 3s 6ms/step - loss: 0.0485 - acc: 0.9833 - val_loss: 0.1439 - val_acc: 0.9400\n",
      "Epoch 33/100\n",
      "600/600 [==============================] - 3s 6ms/step - loss: 0.0786 - acc: 0.9750 - val_loss: 0.5648 - val_acc: 0.8467\n",
      "Epoch 34/100\n",
      "600/600 [==============================] - 3s 6ms/step - loss: 0.0695 - acc: 0.9717 - val_loss: 1.0825 - val_acc: 0.7800\n",
      "Epoch 35/100\n",
      "600/600 [==============================] - 3s 6ms/step - loss: 0.0587 - acc: 0.9767 - val_loss: 0.2244 - val_acc: 0.9333\n",
      "Epoch 36/100\n",
      "600/600 [==============================] - 3s 6ms/step - loss: 0.0414 - acc: 0.9883 - val_loss: 0.1559 - val_acc: 0.9467\n",
      "Epoch 37/100\n",
      "600/600 [==============================] - 3s 6ms/step - loss: 0.0367 - acc: 0.9867 - val_loss: 0.2352 - val_acc: 0.9400\n",
      "Epoch 38/100\n",
      "600/600 [==============================] - 3s 6ms/step - loss: 0.0342 - acc: 0.9883 - val_loss: 0.2879 - val_acc: 0.8933\n",
      "Epoch 39/100\n",
      "600/600 [==============================] - 3s 6ms/step - loss: 0.0230 - acc: 0.9933 - val_loss: 0.0942 - val_acc: 0.9600\n",
      "Epoch 40/100\n",
      "600/600 [==============================] - 3s 6ms/step - loss: 0.0355 - acc: 0.9850 - val_loss: 0.1628 - val_acc: 0.9267\n",
      "Epoch 41/100\n",
      "600/600 [==============================] - 3s 6ms/step - loss: 0.0735 - acc: 0.9717 - val_loss: 4.7569 - val_acc: 0.5600\n",
      "Epoch 42/100\n",
      "600/600 [==============================] - 3s 6ms/step - loss: 0.0199 - acc: 0.9950 - val_loss: 0.8709 - val_acc: 0.7333\n",
      "Epoch 43/100\n",
      "600/600 [==============================] - 3s 6ms/step - loss: 0.0478 - acc: 0.9867 - val_loss: 2.0205 - val_acc: 0.7000\n",
      "Epoch 44/100\n",
      "600/600 [==============================] - 3s 6ms/step - loss: 0.0331 - acc: 0.9883 - val_loss: 0.1920 - val_acc: 0.9267\n",
      "Epoch 45/100\n",
      "600/600 [==============================] - 3s 6ms/step - loss: 0.0192 - acc: 0.9917 - val_loss: 1.4162 - val_acc: 0.7200\n",
      "Epoch 46/100\n",
      "600/600 [==============================] - 3s 6ms/step - loss: 0.0206 - acc: 0.9917 - val_loss: 0.7800 - val_acc: 0.8400\n",
      "Epoch 47/100\n",
      "600/600 [==============================] - 3s 6ms/step - loss: 0.0180 - acc: 0.9933 - val_loss: 0.4296 - val_acc: 0.8667\n",
      "Epoch 48/100\n",
      "600/600 [==============================] - 3s 5ms/step - loss: 0.0824 - acc: 0.9733 - val_loss: 0.4846 - val_acc: 0.8667\n",
      "Epoch 49/100\n",
      "600/600 [==============================] - 3s 6ms/step - loss: 0.1445 - acc: 0.9550 - val_loss: 0.3719 - val_acc: 0.8600\n",
      "Epoch 50/100\n",
      "600/600 [==============================] - 3s 6ms/step - loss: 0.0631 - acc: 0.9817 - val_loss: 2.0673 - val_acc: 0.6800\n",
      "Epoch 51/100\n",
      "600/600 [==============================] - 3s 6ms/step - loss: 0.0296 - acc: 0.9917 - val_loss: 0.2732 - val_acc: 0.9067\n",
      "Epoch 52/100\n",
      "600/600 [==============================] - 3s 6ms/step - loss: 0.0475 - acc: 0.9850 - val_loss: 0.1636 - val_acc: 0.9733\n",
      "Epoch 53/100\n",
      "600/600 [==============================] - 3s 6ms/step - loss: 0.0294 - acc: 0.9967 - val_loss: 0.1047 - val_acc: 0.9733\n",
      "Epoch 54/100\n",
      "600/600 [==============================] - 3s 6ms/step - loss: 0.0109 - acc: 0.9967 - val_loss: 0.1828 - val_acc: 0.9400\n",
      "Epoch 55/100\n",
      "600/600 [==============================] - 3s 6ms/step - loss: 0.0394 - acc: 0.9900 - val_loss: 0.1101 - val_acc: 0.9600\n",
      "Epoch 56/100\n",
      "600/600 [==============================] - 3s 6ms/step - loss: 0.0288 - acc: 0.9933 - val_loss: 0.1406 - val_acc: 0.9533\n",
      "Epoch 57/100\n",
      "600/600 [==============================] - 3s 6ms/step - loss: 0.0669 - acc: 0.9783 - val_loss: 1.1015 - val_acc: 0.6533\n",
      "Epoch 58/100\n",
      "600/600 [==============================] - 3s 6ms/step - loss: 0.0518 - acc: 0.9800 - val_loss: 0.0709 - val_acc: 0.9667\n",
      "Epoch 59/100\n",
      "600/600 [==============================] - 3s 6ms/step - loss: 0.0331 - acc: 0.9917 - val_loss: 0.0971 - val_acc: 0.9733\n",
      "Epoch 60/100\n",
      "600/600 [==============================] - 4s 6ms/step - loss: 0.0584 - acc: 0.9883 - val_loss: 0.2298 - val_acc: 0.9533\n",
      "Epoch 61/100\n",
      "600/600 [==============================] - 3s 6ms/step - loss: 0.0321 - acc: 0.9933 - val_loss: 0.1309 - val_acc: 0.9467\n",
      "Epoch 62/100\n",
      "600/600 [==============================] - 3s 5ms/step - loss: 0.0500 - acc: 0.9833 - val_loss: 0.4983 - val_acc: 0.8667\n",
      "Epoch 63/100\n",
      "600/600 [==============================] - 3s 6ms/step - loss: 0.0727 - acc: 0.9750 - val_loss: 0.3987 - val_acc: 0.9067\n",
      "Epoch 64/100\n",
      "600/600 [==============================] - 3s 5ms/step - loss: 0.0082 - acc: 0.9967 - val_loss: 0.2663 - val_acc: 0.9267\n",
      "Epoch 65/100\n",
      "600/600 [==============================] - 3s 5ms/step - loss: 0.0293 - acc: 0.9933 - val_loss: 0.2139 - val_acc: 0.9667\n",
      "Epoch 66/100\n",
      "600/600 [==============================] - 3s 6ms/step - loss: 0.0599 - acc: 0.9817 - val_loss: 1.4855 - val_acc: 0.7333\n",
      "Epoch 67/100\n",
      "600/600 [==============================] - 3s 6ms/step - loss: 0.0590 - acc: 0.9867 - val_loss: 0.9334 - val_acc: 0.8133\n",
      "Epoch 68/100\n",
      "600/600 [==============================] - 3s 6ms/step - loss: 0.0453 - acc: 0.9883 - val_loss: 0.1094 - val_acc: 0.9667\n",
      "Epoch 69/100\n",
      "600/600 [==============================] - 3s 6ms/step - loss: 0.0464 - acc: 0.9900 - val_loss: 0.1995 - val_acc: 0.9133\n",
      "Epoch 70/100\n",
      "600/600 [==============================] - 3s 5ms/step - loss: 0.0316 - acc: 0.9883 - val_loss: 1.5091 - val_acc: 0.6600\n",
      "Epoch 71/100\n",
      "600/600 [==============================] - 3s 6ms/step - loss: 0.0674 - acc: 0.9717 - val_loss: 0.2691 - val_acc: 0.9067\n",
      "Epoch 72/100\n",
      "600/600 [==============================] - 3s 6ms/step - loss: 0.0217 - acc: 0.9917 - val_loss: 0.1299 - val_acc: 0.9667\n",
      "Epoch 73/100\n",
      "600/600 [==============================] - 3s 5ms/step - loss: 0.0375 - acc: 0.9900 - val_loss: 0.3388 - val_acc: 0.9267\n",
      "Epoch 74/100\n",
      "600/600 [==============================] - 3s 6ms/step - loss: 0.1015 - acc: 0.9750 - val_loss: 0.1015 - val_acc: 0.9800\n",
      "Epoch 75/100\n",
      "600/600 [==============================] - 3s 6ms/step - loss: 0.0195 - acc: 0.9900 - val_loss: 0.2921 - val_acc: 0.8800\n",
      "Epoch 76/100\n",
      "600/600 [==============================] - 3s 6ms/step - loss: 0.0842 - acc: 0.9767 - val_loss: 0.1249 - val_acc: 0.9667\n",
      "Epoch 77/100\n",
      "600/600 [==============================] - 3s 6ms/step - loss: 0.0186 - acc: 0.9950 - val_loss: 0.1080 - val_acc: 0.9600\n",
      "Epoch 78/100\n",
      "600/600 [==============================] - 3s 5ms/step - loss: 0.0132 - acc: 0.9950 - val_loss: 0.1306 - val_acc: 0.9600\n",
      "Epoch 79/100\n",
      "600/600 [==============================] - 3s 6ms/step - loss: 0.0054 - acc: 0.9967 - val_loss: 0.0887 - val_acc: 0.9667\n",
      "Epoch 80/100\n",
      "600/600 [==============================] - 3s 6ms/step - loss: 0.0046 - acc: 0.9983 - val_loss: 0.2523 - val_acc: 0.9267\n",
      "Epoch 81/100\n",
      "600/600 [==============================] - 3s 6ms/step - loss: 0.0134 - acc: 0.9967 - val_loss: 0.0687 - val_acc: 0.9800\n",
      "Epoch 82/100\n",
      "600/600 [==============================] - 3s 6ms/step - loss: 0.0134 - acc: 0.9967 - val_loss: 0.0619 - val_acc: 0.9733\n",
      "Epoch 83/100\n",
      "600/600 [==============================] - 3s 6ms/step - loss: 0.0012 - acc: 1.0000 - val_loss: 0.2008 - val_acc: 0.9467\n",
      "Epoch 84/100\n",
      "600/600 [==============================] - 3s 6ms/step - loss: 0.0225 - acc: 0.9950 - val_loss: 0.2110 - val_acc: 0.9467\n",
      "Epoch 85/100\n",
      "600/600 [==============================] - 3s 6ms/step - loss: 0.0472 - acc: 0.9917 - val_loss: 0.1464 - val_acc: 0.9667\n",
      "Epoch 86/100\n",
      "600/600 [==============================] - 3s 6ms/step - loss: 0.0099 - acc: 0.9967 - val_loss: 0.2784 - val_acc: 0.9467\n",
      "Epoch 87/100\n",
      "600/600 [==============================] - 3s 5ms/step - loss: 0.0017 - acc: 1.0000 - val_loss: 0.1052 - val_acc: 0.9667\n",
      "Epoch 88/100\n",
      "600/600 [==============================] - 3s 6ms/step - loss: 6.1496e-04 - acc: 1.0000 - val_loss: 0.1115 - val_acc: 0.9667\n",
      "Epoch 89/100\n",
      "600/600 [==============================] - 3s 6ms/step - loss: 4.3766e-04 - acc: 1.0000 - val_loss: 0.1055 - val_acc: 0.9667\n",
      "Epoch 90/100\n",
      "600/600 [==============================] - 3s 6ms/step - loss: 1.5708e-04 - acc: 1.0000 - val_loss: 0.1282 - val_acc: 0.9667\n",
      "Epoch 91/100\n",
      "600/600 [==============================] - 3s 6ms/step - loss: 1.9243e-04 - acc: 1.0000 - val_loss: 0.1200 - val_acc: 0.9667\n",
      "Epoch 92/100\n",
      "600/600 [==============================] - 3s 6ms/step - loss: 1.5256e-04 - acc: 1.0000 - val_loss: 0.1160 - val_acc: 0.9667\n",
      "Epoch 93/100\n",
      "600/600 [==============================] - 3s 6ms/step - loss: 1.6472e-04 - acc: 1.0000 - val_loss: 0.1217 - val_acc: 0.9667\n",
      "Epoch 94/100\n",
      "600/600 [==============================] - 3s 6ms/step - loss: 1.5652e-04 - acc: 1.0000 - val_loss: 0.1163 - val_acc: 0.9667\n",
      "Epoch 95/100\n",
      "600/600 [==============================] - 3s 6ms/step - loss: 1.6180e-04 - acc: 1.0000 - val_loss: 0.1144 - val_acc: 0.9667\n",
      "Epoch 96/100\n",
      "600/600 [==============================] - 3s 6ms/step - loss: 1.2682e-04 - acc: 1.0000 - val_loss: 0.1164 - val_acc: 0.9667\n",
      "Epoch 97/100\n",
      "600/600 [==============================] - 3s 5ms/step - loss: 1.5358e-04 - acc: 1.0000 - val_loss: 0.1122 - val_acc: 0.9667\n",
      "Epoch 98/100\n",
      "600/600 [==============================] - 3s 6ms/step - loss: 1.3719e-04 - acc: 1.0000 - val_loss: 0.1141 - val_acc: 0.9667\n",
      "Epoch 99/100\n",
      "600/600 [==============================] - 3s 6ms/step - loss: 1.3279e-04 - acc: 1.0000 - val_loss: 0.1123 - val_acc: 0.9667\n",
      "Epoch 100/100\n",
      "600/600 [==============================] - 3s 5ms/step - loss: 1.6413e-04 - acc: 1.0000 - val_loss: 0.1174 - val_acc: 0.9667\n"
     ]
    },
    {
     "data": {
      "text/plain": [
       "<keras.callbacks.History at 0x277ff6ccc18>"
      ]
     },
     "execution_count": 6,
     "metadata": {},
     "output_type": "execute_result"
    }
   ],
   "source": [
    "### START CODE HERE ### (1 line)\n",
    "happyModel.fit(X_train, Y_train, epochs=100, batch_size=20, validation_data=(X_test, Y_test))\n",
    "### END CODE HERE ###"
   ]
  },
  {
   "cell_type": "markdown",
   "metadata": {},
   "source": [
    "Note that if you run `fit()` again, the `model` will continue to train with the parameters it has already learnt instead of reinitializing them.\n",
    "\n",
    "**Exercise**: Implement step 4, i.e. test/evaluate the model."
   ]
  },
  {
   "cell_type": "code",
   "execution_count": 7,
   "metadata": {
    "scrolled": true
   },
   "outputs": [
    {
     "name": "stdout",
     "output_type": "stream",
     "text": [
      "150/150 [==============================] - 0s 3ms/step\n",
      "\n",
      "Loss = 0.11743581805378199\n",
      "Test Accuracy = 0.9666666666666667\n"
     ]
    }
   ],
   "source": [
    "### START CODE HERE ### (1 line)\n",
    "preds = happyModel.evaluate(X_test, Y_test)\n",
    "### END CODE HERE ###\n",
    "print()\n",
    "print (\"Loss = \" + str(preds[0]))\n",
    "print (\"Test Accuracy = \" + str(preds[1]))"
   ]
  },
  {
   "cell_type": "markdown",
   "metadata": {},
   "source": [
    "If your `happyModel()` function worked, you should have observed much better than random-guessing (50%) accuracy on the train and test sets.\n",
    "\n",
    "To give you a point of comparison, our model gets around **95% test accuracy in 40 epochs** (and 99% train accuracy) with a mini batch size of 16 and \"adam\" optimizer. But our model gets decent accuracy after just 2-5 epochs, so if you're comparing different models you can also train a variety of models on just a few epochs and see how they compare. \n",
    "\n",
    "If you have not yet achieved a very good accuracy (let's say more than 80%), here're some things you can play around with to try to achieve it:\n",
    "\n",
    "- Try using blocks of CONV->BATCHNORM->RELU such as:\n",
    "```python\n",
    "X = Conv2D(32, (3, 3), strides = (1, 1), name = 'conv0')(X)\n",
    "X = BatchNormalization(axis = 3, name = 'bn0')(X)\n",
    "X = Activation('relu')(X)\n",
    "```\n",
    "until your height and width dimensions are quite low and your number of channels quite large (≈32 for example). You are encoding useful information in a volume with a lot of channels. You can then flatten the volume and use a fully-connected layer.\n",
    "- You can use MAXPOOL after such blocks. It will help you lower the dimension in height and width.\n",
    "- Change your optimizer. We find Adam works well. \n",
    "- If the model is struggling to run and you get memory issues, lower your batch_size (12 is usually a good compromise)\n",
    "- Run on more epochs, until you see the train accuracy plateauing. \n",
    "\n",
    "Even if you have achieved a good accuracy, please feel free to keep playing with your model to try to get even better results. \n",
    "\n",
    "**Note**: If you perform hyperparameter tuning on your model, the test set actually becomes a dev set, and your model might end up overfitting to the test (dev) set. But just for the purpose of this assignment, we won't worry about that here.\n"
   ]
  },
  {
   "cell_type": "markdown",
   "metadata": {},
   "source": [
    "## 3 - Conclusion\n",
    "\n",
    "Congratulations, you have solved the Happy House challenge! \n",
    "\n",
    "Now, you just need to link this model to the front-door camera of your house. We unfortunately won't go into the details of how to do that here. "
   ]
  },
  {
   "cell_type": "markdown",
   "metadata": {},
   "source": [
    "<font color='blue'>\n",
    "**What we would like you to remember from this assignment:**\n",
    "- Keras is a tool we recommend for rapid prototyping. It allows you to quickly try out different model architectures. Are there any applications of deep learning to your daily life that you'd like to implement using Keras? \n",
    "- Remember how to code a model in Keras and the four steps leading to the evaluation of your model on the test set. Create->Compile->Fit/Train->Evaluate/Test."
   ]
  },
  {
   "cell_type": "markdown",
   "metadata": {},
   "source": [
    "## 4 - Test with your own image \n",
    "\n",
    "Congratulations on finishing this assignment. You can now take a picture of your face and see if you could enter the Happy House. To do that:\n",
    "    1. Click on \"File\" in the upper bar of this notebook, then click \"Open\" to go on your Coursera Hub.\n",
    "    2. Add your image to this Jupyter Notebook's directory, in the \"images\" folder\n",
    "    3. Write your image's name in the following code\n",
    "    4. Run the code and check if the algorithm is right (0 is unhappy, 1 is happy)!\n",
    "    \n",
    "The training/test sets were quite similar; for example, all the pictures were taken against the same background (since a front door camera is always mounted in the same position). This makes the problem easier, but a model trained on this data may or may not work on your own data. But feel free to give it a try! "
   ]
  },
  {
   "cell_type": "code",
   "execution_count": 8,
   "metadata": {},
   "outputs": [
    {
     "name": "stdout",
     "output_type": "stream",
     "text": [
      "[[1.]]\n"
     ]
    },
    {
     "data": {
      "image/png": "[encoded data removed]",
      "text/plain": [
       "<Figure size 432x288 with 1 Axes>"
      ]
     },
     "metadata": {
      "needs_background": "light"
     },
     "output_type": "display_data"
    }
   ],
   "source": [
    "img_path = 'images/my2.jpg'\n",
    "img = image.load_img(img_path, target_size=(64, 64))\n",
    "imshow(img)\n",
    "\n",
    "x = image.img_to_array(img)\n",
    "x = np.expand_dims(x, axis=0)\n",
    "x = preprocess_input(x)\n",
    "\n",
    "print(happyModel.predict(x))"
   ]
  },
  {
   "cell_type": "markdown",
   "metadata": {},
   "source": [
    "## 5 - Other useful functions in Keras (Optional)\n",
    "\n",
    "Two other basic features of Keras that you'll find useful are:\n",
    "- `model.summary()`: prints the details of your layers in a table with the sizes of its inputs/outputs\n",
    "\n",
    "Run the following code."
   ]
  },
  {
   "cell_type": "code",
   "execution_count": 9,
   "metadata": {
    "scrolled": false
   },
   "outputs": [
    {
     "name": "stdout",
     "output_type": "stream",
     "text": [
      "_________________________________________________________________\n",
      "Layer (type)                 Output Shape              Param #   \n",
      "=================================================================\n",
      "input_1 (InputLayer)         (None, 64, 64, 3)         0         \n",
      "_________________________________________________________________\n",
      "zero_padding2d_1 (ZeroPaddin (None, 70, 70, 3)         0         \n",
      "_________________________________________________________________\n",
      "conv0 (Conv2D)               (None, 64, 64, 32)        4736      \n",
      "_________________________________________________________________\n",
      "bn0 (BatchNormalization)     (None, 64, 64, 32)        128       \n",
      "_________________________________________________________________\n",
      "activation_1 (Activation)    (None, 64, 64, 32)        0         \n",
      "_________________________________________________________________\n",
      "max_pool (MaxPooling2D)      (None, 32, 32, 32)        0         \n",
      "_________________________________________________________________\n",
      "flatten_1 (Flatten)          (None, 32768)             0         \n",
      "_________________________________________________________________\n",
      "fc (Dense)                   (None, 1)                 32769     \n",
      "=================================================================\n",
      "Total params: 37,633\n",
      "Trainable params: 37,569\n",
      "Non-trainable params: 64\n",
      "_________________________________________________________________\n"
     ]
    }
   ],
   "source": [
    "happyModel.summary()"
   ]
  },
  {
   "cell_type": "code",
   "execution_count": null,
   "metadata": {},
   "outputs": [],
   "source": []
  }
 ],
 "metadata": {
  "anaconda-cloud": {},
  "kernelspec": {
   "display_name": "Python 3",
   "language": "python",
   "name": "python3"
  },
  "language_info": {
   "codemirror_mode": {
    "name": "ipython",
    "version": 3
   },
   "file_extension": ".py",
   "mimetype": "text/x-python",
   "name": "python",
   "nbconvert_exporter": "python",
   "pygments_lexer": "ipython3",
   "version": "3.7.3"
  }
 },
 "nbformat": 4,
 "nbformat_minor": 2
}
