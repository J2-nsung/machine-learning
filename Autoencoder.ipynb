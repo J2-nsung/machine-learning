{
 "cells": [
  {
   "cell_type": "code",
   "execution_count": 1,
   "metadata": {},
   "outputs": [],
   "source": [
    "# AutoEncoder를 이용한 MNIST Reconstruction\n",
    "import tensorflow as tf\n",
    "import numpy as np\n",
    "import matplotlib.pyplot as plt"
   ]
  },
  {
   "cell_type": "code",
   "execution_count": 5,
   "metadata": {},
   "outputs": [
    {
     "name": "stdout",
     "output_type": "stream",
     "text": [
      "Extracting /tmp/data/train-images-idx3-ubyte.gz\n",
      "Extracting /tmp/data/train-labels-idx1-ubyte.gz\n",
      "Extracting /tmp/data/t10k-images-idx3-ubyte.gz\n",
      "Extracting /tmp/data/t10k-labels-idx1-ubyte.gz\n"
     ]
    }
   ],
   "source": [
    "# MNIST 데이터 다운로드\n",
    "from tensorflow.examples.tutorials.mnist import input_data\n",
    "mnist = input_data.read_data_sets(\"/tmp/data/\",one_hot=True)"
   ]
  },
  {
   "cell_type": "code",
   "execution_count": 6,
   "metadata": {},
   "outputs": [],
   "source": [
    "learning_rate = 0.02\n",
    "training_epochs = 50   # 반복횟수\n",
    "batch_size = 256       # 배치개수\n",
    "display_step = 1       # 손실함수 출력 주기\n",
    "examples_to_show = 10  # MNIST Reconstruction\n",
    "input_size = 784       # 28*28\n",
    "hidden1_size = 256\n",
    "hidden2_size = 128"
   ]
  },
  {
   "cell_type": "code",
   "execution_count": 7,
   "metadata": {},
   "outputs": [],
   "source": [
    "# Autoencoder는 Unsupervised Learning이므로 타겟 레이블(label) y가 필요하지 않다.\n",
    "x = tf.placeholder(tf.float32, shape=[None, input_size])"
   ]
  },
  {
   "cell_type": "code",
   "execution_count": 18,
   "metadata": {},
   "outputs": [],
   "source": [
    "# Autoencoder 구조 정의\n",
    "def build_autoencoder(x):\n",
    "    # encoding = 784 -> 256 ->128\n",
    "    W1 = tf.Variable(tf.random_normal(shape=[input_size, hidden1_size]))\n",
    "    b1 = tf.Variable(tf.random_normal(shape=[hidden1_size]))\n",
    "    H1_output = tf.nn.sigmoid(tf.matmul(x, W1) + b1) \n",
    "    W2 = tf.Variable(tf.random_normal(shape=[hidden1_size, hidden2_size]))\n",
    "    b2 = tf.Variable(tf.random_normal(shape=[hidden2_size]))\n",
    "    H2_output = tf.nn.sigmoid(tf.matmul(H1_output, W2) + b2)\n",
    "    # decoding = 128 -> 256 -> 784\n",
    "    W3 = tf.Variable(tf.random_normal(shape=[hidden2_size, hidden1_size]))\n",
    "    b3 = tf.Variable(tf.random_normal(shape=[hidden1_size]))\n",
    "    H3_output = tf.nn.sigmoid(tf.matmul(H2_output, W3) + b3)\n",
    "    W4 = tf.Variable(tf.random_normal(shape=[hidden1_size, input_size])) \n",
    "    b4 = tf.Variable(tf.random_normal(shape=[input_size]))\n",
    "    reconstructed_x = tf.nn.sigmoid(tf.matmul(H3_output, W4) + b4)\n",
    "    \n",
    "    return reconstructed_x"
   ]
  },
  {
   "cell_type": "code",
   "execution_count": 19,
   "metadata": {},
   "outputs": [
    {
     "name": "stdout",
     "output_type": "stream",
     "text": [
      "WARNING:tensorflow:From C:\\Users\\Jinsung\\Anaconda3\\lib\\site-packages\\tensorflow\\python\\ops\\math_grad.py:1205: add_dispatch_support.<locals>.wrapper (from tensorflow.python.ops.array_ops) is deprecated and will be removed in a future version.\n",
      "Instructions for updating:\n",
      "Use tf.where in 2.0, which has the same broadcast rule as np.where\n",
      "WARNING:tensorflow:From C:\\Users\\Jinsung\\Anaconda3\\lib\\site-packages\\tensorflow\\python\\training\\rmsprop.py:119: calling Ones.__init__ (from tensorflow.python.ops.init_ops) with dtype is deprecated and will be removed in a future version.\n",
      "Instructions for updating:\n",
      "Call initializer instance with the dtype argument instead of passing it to the constructor\n"
     ]
    }
   ],
   "source": [
    "# Autoencoder 선언\n",
    "y_pred = build_autoencoder(x)\n",
    "y_true = x   # 타겟데이터 = inputdata\n",
    "\n",
    "# 손실함수와 옵티마이저 정의\n",
    "loss = tf.reduce_mean(tf.pow(y_true - y_pred, 2))  # MSE(Mean of Squared Error)\n",
    "train_step = tf.train.RMSPropOptimizer(learning_rate).minimize(loss)"
   ]
  },
  {
   "cell_type": "code",
   "execution_count": null,
   "metadata": {},
   "outputs": [
    {
     "name": "stdout",
     "output_type": "stream",
     "text": [
      "반복(Epoch): 1, 손실 함수(Loss): 0.199560\n",
      "반복(Epoch): 2, 손실 함수(Loss): 0.130786\n",
      "반복(Epoch): 3, 손실 함수(Loss): 0.112909\n",
      "반복(Epoch): 4, 손실 함수(Loss): 0.105110\n",
      "반복(Epoch): 5, 손실 함수(Loss): 0.102791\n",
      "반복(Epoch): 6, 손실 함수(Loss): 0.100875\n",
      "반복(Epoch): 7, 손실 함수(Loss): 0.092085\n",
      "반복(Epoch): 8, 손실 함수(Loss): 0.086201\n",
      "반복(Epoch): 9, 손실 함수(Loss): 0.084023\n",
      "반복(Epoch): 10, 손실 함수(Loss): 0.083440\n",
      "반복(Epoch): 11, 손실 함수(Loss): 0.077640\n",
      "반복(Epoch): 12, 손실 함수(Loss): 0.073768\n",
      "반복(Epoch): 13, 손실 함수(Loss): 0.075016\n",
      "반복(Epoch): 14, 손실 함수(Loss): 0.071974\n",
      "반복(Epoch): 15, 손실 함수(Loss): 0.069947\n",
      "반복(Epoch): 16, 손실 함수(Loss): 0.068122\n",
      "반복(Epoch): 17, 손실 함수(Loss): 0.064921\n",
      "반복(Epoch): 18, 손실 함수(Loss): 0.064196\n",
      "반복(Epoch): 19, 손실 함수(Loss): 0.063992\n"
     ]
    }
   ],
   "source": [
    "with tf.Session() as sess:\n",
    "    sess.run(tf.global_variables_initializer())\n",
    "    \n",
    "    for epoch in range(training_epochs):\n",
    "        total_batch = int(mnist.train.num_examples/batch_size)\n",
    "        for i in range(total_batch):\n",
    "            batch_xs, batch_ys = mnist.train.next_batch(batch_size)\n",
    "            _, current_loss = sess.run([train_step, loss], feed_dict={x: batch_xs})\n",
    "        if epoch % display_step == 0:\n",
    "            print(\"반복(Epoch): %d, 손실 함수(Loss): %f\" % ((epoch+1), current_loss))\n",
    "            \n",
    "    # Reconstruction 수행\n",
    "    reconstructed_result = sess.run(y_pred, feed_dict={x: mnist.test.images[:examples_to_show]})\n",
    "    # 원본 MNIST 데이터와 Reconstruction 결과 비교\n",
    "    f, a = plt.subplots(2, 10, figsize=(10, 2))\n",
    "    for i in range(examples_to_show):\n",
    "        a[0][i].imshow(np.reshape(mnist.test.images[i], (28, 28)))\n",
    "        a[1][i].imshow(np.reshape(reconstructed_result[i], (28, 28)))\n",
    "    f.savefig('reconstructed_mnist_image.png')\n",
    "    f.show()"
   ]
  },
  {
   "cell_type": "code",
   "execution_count": null,
   "metadata": {},
   "outputs": [],
   "source": []
  }
 ],
 "metadata": {
  "kernelspec": {
   "display_name": "Python 3",
   "language": "python",
   "name": "python3"
  },
  "language_info": {
   "codemirror_mode": {
    "name": "ipython",
    "version": 3
   },
   "file_extension": ".py",
   "mimetype": "text/x-python",
   "name": "python",
   "nbconvert_exporter": "python",
   "pygments_lexer": "ipython3",
   "version": "3.7.3"
  }
 },
 "nbformat": 4,
 "nbformat_minor": 2
}
