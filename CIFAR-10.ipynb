{
 "cells": [
  {
   "cell_type": "code",
   "execution_count": 1,
   "metadata": {},
   "outputs": [
    {
     "name": "stderr",
     "output_type": "stream",
     "text": [
      "Using TensorFlow backend.\n"
     ]
    }
   ],
   "source": [
    "# Simple CNN model for the CIFAR-10 Dataset\n",
    "import numpy\n",
    "from keras.datasets import cifar10\n",
    "from keras.models import Sequential\n",
    "from keras.layers import Dense\n",
    "from keras.layers import Dropout\n",
    "from keras.layers import Flatten\n",
    "from keras.constraints import maxnorm\n",
    "from keras.optimizers import SGD\n",
    "from keras.layers.convolutional import Conv2D\n",
    "from keras.layers.convolutional import MaxPooling2D\n",
    "from keras.utils import np_utils\n",
    "from keras import backend as K\n",
    "K.set_image_dim_ordering('th')"
   ]
  },
  {
   "cell_type": "code",
   "execution_count": 2,
   "metadata": {},
   "outputs": [],
   "source": [
    "# fix random seed for reptoducibility\n",
    "seed = 7\n",
    "numpy.random.seed(seed)\n",
    "\n",
    "# load data\n",
    "(X_train, y_train), (X_test, y_test) = cifar10.load_data()\n",
    "\n",
    "# normalize inputs from 0-255 to 0.0-1.0\n",
    "X_train = X_train.astype('float32')\n",
    "X_test = X_test.astype('float32')\n",
    "X_train = X_train / 255.0\n",
    "X_test = X_test / 255.0\n",
    "\n",
    "# one hot encode outputs\n",
    "y_train = np_utils.to_categorical(y_train)\n",
    "y_test = np_utils.to_categorical(y_test)\n",
    "num_classes = y_test.shape[1]"
   ]
  },
  {
   "cell_type": "code",
   "execution_count": 3,
   "metadata": {},
   "outputs": [
    {
     "name": "stdout",
     "output_type": "stream",
     "text": [
      "WARNING:tensorflow:From C:\\Users\\Jinsung\\Anaconda3\\lib\\site-packages\\keras\\backend\\tensorflow_backend.py:74: The name tf.get_default_graph is deprecated. Please use tf.compat.v1.get_default_graph instead.\n",
      "\n",
      "WARNING:tensorflow:From C:\\Users\\Jinsung\\Anaconda3\\lib\\site-packages\\keras\\backend\\tensorflow_backend.py:517: The name tf.placeholder is deprecated. Please use tf.compat.v1.placeholder instead.\n",
      "\n",
      "WARNING:tensorflow:From C:\\Users\\Jinsung\\Anaconda3\\lib\\site-packages\\keras\\backend\\tensorflow_backend.py:4138: The name tf.random_uniform is deprecated. Please use tf.random.uniform instead.\n",
      "\n",
      "WARNING:tensorflow:From C:\\Users\\Jinsung\\Anaconda3\\lib\\site-packages\\keras\\backend\\tensorflow_backend.py:174: The name tf.get_default_session is deprecated. Please use tf.compat.v1.get_default_session instead.\n",
      "\n",
      "WARNING:tensorflow:From C:\\Users\\Jinsung\\Anaconda3\\lib\\site-packages\\keras\\backend\\tensorflow_backend.py:181: The name tf.ConfigProto is deprecated. Please use tf.compat.v1.ConfigProto instead.\n",
      "\n",
      "WARNING:tensorflow:From C:\\Users\\Jinsung\\Anaconda3\\lib\\site-packages\\keras\\backend\\tensorflow_backend.py:3445: calling dropout (from tensorflow.python.ops.nn_ops) with keep_prob is deprecated and will be removed in a future version.\n",
      "Instructions for updating:\n",
      "Please use `rate` instead of `keep_prob`. Rate should be set to `rate = 1 - keep_prob`.\n",
      "WARNING:tensorflow:From C:\\Users\\Jinsung\\Anaconda3\\lib\\site-packages\\keras\\backend\\tensorflow_backend.py:3976: The name tf.nn.max_pool is deprecated. Please use tf.nn.max_pool2d instead.\n",
      "\n"
     ]
    }
   ],
   "source": [
    "# Create the model\n",
    "model = Sequential()\n",
    "model.add(Conv2D(32, (3, 3), input_shape=(3, 32, 32), padding='same', activation='relu', kernel_constraint=maxnorm(3)))\n",
    "model.add(Dropout(0.2))\n",
    "model.add(Conv2D(32, (3, 3), activation='relu', padding='same', kernel_constraint=maxnorm(3)))\n",
    "model.add(MaxPooling2D())\n",
    "model.add(Flatten())\n",
    "model.add(Dense(512, activation='relu', kernel_constraint=maxnorm(3)))\n",
    "model.add(Dropout(0.5))\n",
    "model.add(Dense(num_classes, activation='softmax'))"
   ]
  },
  {
   "cell_type": "code",
   "execution_count": 4,
   "metadata": {},
   "outputs": [
    {
     "name": "stdout",
     "output_type": "stream",
     "text": [
      "WARNING:tensorflow:From C:\\Users\\Jinsung\\Anaconda3\\lib\\site-packages\\keras\\optimizers.py:790: The name tf.train.Optimizer is deprecated. Please use tf.compat.v1.train.Optimizer instead.\n",
      "\n",
      "_________________________________________________________________\n",
      "Layer (type)                 Output Shape              Param #   \n",
      "=================================================================\n",
      "conv2d_1 (Conv2D)            (None, 32, 32, 32)        896       \n",
      "_________________________________________________________________\n",
      "dropout_1 (Dropout)          (None, 32, 32, 32)        0         \n",
      "_________________________________________________________________\n",
      "conv2d_2 (Conv2D)            (None, 32, 32, 32)        9248      \n",
      "_________________________________________________________________\n",
      "max_pooling2d_1 (MaxPooling2 (None, 32, 16, 16)        0         \n",
      "_________________________________________________________________\n",
      "flatten_1 (Flatten)          (None, 8192)              0         \n",
      "_________________________________________________________________\n",
      "dense_1 (Dense)              (None, 512)               4194816   \n",
      "_________________________________________________________________\n",
      "dropout_2 (Dropout)          (None, 512)               0         \n",
      "_________________________________________________________________\n",
      "dense_2 (Dense)              (None, 10)                5130      \n",
      "=================================================================\n",
      "Total params: 4,210,090\n",
      "Trainable params: 4,210,090\n",
      "Non-trainable params: 0\n",
      "_________________________________________________________________\n",
      "WARNING:tensorflow:From C:\\Users\\Jinsung\\Anaconda3\\lib\\site-packages\\tensorflow\\python\\ops\\math_grad.py:1250: add_dispatch_support.<locals>.wrapper (from tensorflow.python.ops.array_ops) is deprecated and will be removed in a future version.\n",
      "Instructions for updating:\n",
      "Use tf.where in 2.0, which has the same broadcast rule as np.where\n",
      "Train on 50000 samples, validate on 10000 samples\n",
      "Epoch 1/25\n",
      "50000/50000 [==============================] - 597s 12ms/step - loss: 1.7175 - acc: 0.3759 - val_loss: 1.3704 - val_acc: 0.5083\n",
      "Epoch 2/25\n",
      "50000/50000 [==============================] - 585s 12ms/step - loss: 1.3520 - acc: 0.5116 - val_loss: 1.2146 - val_acc: 0.5691\n",
      "Epoch 3/25\n",
      "50000/50000 [==============================] - 539s 11ms/step - loss: 1.1708 - acc: 0.5843 - val_loss: 1.0877 - val_acc: 0.6139\n",
      "Epoch 4/25\n",
      "50000/50000 [==============================] - 545s 11ms/step - loss: 1.0422 - acc: 0.6292 - val_loss: 1.0296 - val_acc: 0.6355\n",
      "Epoch 5/25\n",
      "50000/50000 [==============================] - 550s 11ms/step - loss: 0.9364 - acc: 0.6664 - val_loss: 0.9702 - val_acc: 0.6583\n",
      "Epoch 6/25\n",
      "50000/50000 [==============================] - 372s 7ms/step - loss: 0.8579 - acc: 0.6983 - val_loss: 0.9583 - val_acc: 0.6633\n",
      "Epoch 7/25\n",
      "50000/50000 [==============================] - 372s 7ms/step - loss: 0.7793 - acc: 0.7233 - val_loss: 0.9176 - val_acc: 0.6788\n",
      "Epoch 8/25\n",
      "50000/50000 [==============================] - 360s 7ms/step - loss: 0.7094 - acc: 0.7504 - val_loss: 0.8953 - val_acc: 0.6866\n",
      "Epoch 9/25\n",
      "50000/50000 [==============================] - 366s 7ms/step - loss: 0.6542 - acc: 0.7688 - val_loss: 0.9052 - val_acc: 0.6844\n",
      "Epoch 10/25\n",
      "50000/50000 [==============================] - 370s 7ms/step - loss: 0.6054 - acc: 0.7863 - val_loss: 0.9092 - val_acc: 0.6864\n",
      "Epoch 11/25\n",
      "50000/50000 [==============================] - 369s 7ms/step - loss: 0.5563 - acc: 0.8025 - val_loss: 0.9026 - val_acc: 0.6950\n",
      "Epoch 12/25\n",
      "50000/50000 [==============================] - 368s 7ms/step - loss: 0.5146 - acc: 0.8196 - val_loss: 0.9076 - val_acc: 0.7012\n",
      "Epoch 13/25\n",
      "50000/50000 [==============================] - 371s 7ms/step - loss: 0.4736 - acc: 0.8293 - val_loss: 0.9117 - val_acc: 0.6946\n",
      "Epoch 14/25\n",
      "50000/50000 [==============================] - 368s 7ms/step - loss: 0.4408 - acc: 0.8447 - val_loss: 0.9265 - val_acc: 0.6981\n",
      "Epoch 15/25\n",
      "50000/50000 [==============================] - 373s 7ms/step - loss: 0.4107 - acc: 0.8545 - val_loss: 0.9389 - val_acc: 0.6986\n",
      "Epoch 16/25\n",
      "50000/50000 [==============================] - 371s 7ms/step - loss: 0.3869 - acc: 0.8640 - val_loss: 0.9407 - val_acc: 0.7040\n",
      "Epoch 17/25\n",
      "50000/50000 [==============================] - 367s 7ms/step - loss: 0.3559 - acc: 0.8744 - val_loss: 0.9650 - val_acc: 0.7060\n",
      "Epoch 18/25\n",
      "50000/50000 [==============================] - 378s 8ms/step - loss: 0.3403 - acc: 0.8796 - val_loss: 0.9562 - val_acc: 0.7054\n",
      "Epoch 19/25\n",
      "50000/50000 [==============================] - 369s 7ms/step - loss: 0.3176 - acc: 0.8883 - val_loss: 0.9801 - val_acc: 0.7065\n",
      "Epoch 20/25\n",
      "50000/50000 [==============================] - 370s 7ms/step - loss: 0.3021 - acc: 0.8945 - val_loss: 0.9869 - val_acc: 0.7027\n",
      "Epoch 21/25\n",
      "50000/50000 [==============================] - 373s 7ms/step - loss: 0.2857 - acc: 0.8998 - val_loss: 0.9912 - val_acc: 0.7070\n",
      "Epoch 22/25\n",
      "50000/50000 [==============================] - 370s 7ms/step - loss: 0.2747 - acc: 0.9046 - val_loss: 1.0035 - val_acc: 0.7049\n",
      "Epoch 23/25\n",
      "50000/50000 [==============================] - 375s 8ms/step - loss: 0.2589 - acc: 0.9105 - val_loss: 1.0286 - val_acc: 0.7070\n",
      "Epoch 24/25\n",
      "50000/50000 [==============================] - 371s 7ms/step - loss: 0.2465 - acc: 0.9152 - val_loss: 1.0081 - val_acc: 0.7121\n",
      "Epoch 25/25\n",
      "50000/50000 [==============================] - 370s 7ms/step - loss: 0.2378 - acc: 0.9172 - val_loss: 1.0292 - val_acc: 0.7107\n",
      "Accuracy: 71.07%\n"
     ]
    }
   ],
   "source": [
    "# Compile model\n",
    "epochs = 25\n",
    "lrate = 0.01\n",
    "decay = lrate/epochs\n",
    "sgd = SGD(lr=lrate, momentum=0.9, decay=decay, nesterov=False)\n",
    "model.compile(loss='categorical_crossentropy', optimizer=sgd, metrics=['accuracy'])\n",
    "model.summary()\n",
    "\n",
    "# Fit the model\n",
    "model.fit(X_train, y_train, validation_data=(X_test, y_test), epochs=epochs, batch_size=32)\n",
    "\n",
    "# Final evaluation of the model\n",
    "scores = model.evaluate(X_test, y_test, verbose=0)\n",
    "print(\"Accuracy: %.2f%%\" %(scores[1]*100))"
   ]
  },
  {
   "cell_type": "code",
   "execution_count": null,
   "metadata": {},
   "outputs": [],
   "source": []
  }
 ],
 "metadata": {
  "kernelspec": {
   "display_name": "Python 3",
   "language": "python",
   "name": "python3"
  },
  "language_info": {
   "codemirror_mode": {
    "name": "ipython",
    "version": 3
   },
   "file_extension": ".py",
   "mimetype": "text/x-python",
   "name": "python",
   "nbconvert_exporter": "python",
   "pygments_lexer": "ipython3",
   "version": "3.7.3"
  }
 },
 "nbformat": 4,
 "nbformat_minor": 2
}
