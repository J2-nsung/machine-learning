{
 "cells": [
  {
   "cell_type": "markdown",
   "id": "188dddda-2bc0-410f-8c2f-3052c754d486",
   "metadata": {},
   "source": [
    "# Library"
   ]
  },
  {
   "cell_type": "markdown",
   "id": "d5241ef7-f10b-4020-b801-4f9addbe5311",
   "metadata": {},
   "source": [
    "# Configs"
   ]
  },
  {
   "cell_type": "code",
   "execution_count": 2,
   "id": "65aadb00-8043-44e5-87e9-34290152e17a",
   "metadata": {
    "tags": []
   },
   "outputs": [],
   "source": [
    "CFG = {\"device\": \"cuda\" if torch.cuda.is_available() else \"cpu\",\n",
    "       \"eva\": {\"model_name\": \"eva02_large_patch14_448.mim_in22k_ft_in22k_in1k\",\n",
    "               \"imgsz\": (448, 448)},\n",
    "       \"caformer\": {\"model_name\": \"caformer_b36.sail_in22k_ft_in1k_384\",\n",
    "                    \"imgsz\": (384, 384)},\n",
    "       \"seed\": 42,\n",
    "       \"num_epochs\": 50,\n",
    "       \"skf_n_splits\": 5,\n",
    "       \"lr\": 1e-5,\n",
    "       \"early_stop_count\": 5,\n",
    "       \"batch_size\": 16,\n",
    "       \"num_workers\": 8}"
   ]
  },
  {
   "cell_type": "markdown",
   "id": "ae06b049-54b3-4cfb-9fea-9cb996e72796",
   "metadata": {},
   "source": [
    "# Fix Seed"
   ]
  },
  {
   "cell_type": "code",
   "execution_count": 3,
   "id": "9a402a5f-40b5-4b49-9c37-163e045a6afb",
   "metadata": {
    "tags": []
   },
   "outputs": [],
   "source": [
    "def seed_everything(seed):\n",
    "    torch.manual_seed(seed)\n",
    "    torch.cuda.manual_seed(seed)\n",
    "    torch.cuda.manual_seed_all(seed)  # if use multi-GPU\n",
    "    torch.backends.cudnn.deterministic = True\n",
    "    torch.backends.cudnn.benchmark = False\n",
    "    np.random.seed(seed)\n",
    "    random.seed(seed)\n",
    "\n",
    "seed_everything(CFG['seed'])"
   ]
  },
  {
   "cell_type": "markdown",
   "id": "36f68fd8-c383-4282-9dda-e576ed567664",
   "metadata": {},
   "source": [
    "# Define categories & Number of Class"
   ]
  },
  {
   "cell_type": "code",
   "execution_count": 4,
   "id": "8715dbf6-087e-4388-bc47-4dbe1d8e756b",
   "metadata": {
    "tags": []
   },
   "outputs": [
    {
     "data": {
      "text/html": [
       "<div>\n",
       "<style scoped>\n",
       "    .dataframe tbody tr th:only-of-type {\n",
       "        vertical-align: middle;\n",
       "    }\n",
       "\n",
       "    .dataframe tbody tr th {\n",
       "        vertical-align: top;\n",
       "    }\n",
       "\n",
       "    .dataframe thead th {\n",
       "        text-align: right;\n",
       "    }\n",
       "</style>\n",
       "<table border=\"1\" class=\"dataframe\">\n",
       "  <thead>\n",
       "    <tr style=\"text-align: right;\">\n",
       "      <th></th>\n",
       "      <th>img_path</th>\n",
       "      <th>upscale_img_path</th>\n",
       "      <th>label</th>\n",
       "    </tr>\n",
       "  </thead>\n",
       "  <tbody>\n",
       "    <tr>\n",
       "      <th>0</th>\n",
       "      <td>./train/TRAIN_00000.jpg</td>\n",
       "      <td>./upscale_train/TRAIN_00000.png</td>\n",
       "      <td>Ruddy Shelduck</td>\n",
       "    </tr>\n",
       "    <tr>\n",
       "      <th>1</th>\n",
       "      <td>./train/TRAIN_00001.jpg</td>\n",
       "      <td>./upscale_train/TRAIN_00001.png</td>\n",
       "      <td>Gray Wagtail</td>\n",
       "    </tr>\n",
       "    <tr>\n",
       "      <th>2</th>\n",
       "      <td>./train/TRAIN_00002.jpg</td>\n",
       "      <td>./upscale_train/TRAIN_00002.png</td>\n",
       "      <td>Indian Peacock</td>\n",
       "    </tr>\n",
       "    <tr>\n",
       "      <th>3</th>\n",
       "      <td>./train/TRAIN_00003.jpg</td>\n",
       "      <td>./upscale_train/TRAIN_00003.png</td>\n",
       "      <td>Common Kingfisher</td>\n",
       "    </tr>\n",
       "    <tr>\n",
       "      <th>4</th>\n",
       "      <td>./train/TRAIN_00004.jpg</td>\n",
       "      <td>./upscale_train/TRAIN_00004.png</td>\n",
       "      <td>Common Kingfisher</td>\n",
       "    </tr>\n",
       "  </tbody>\n",
       "</table>\n",
       "</div>"
      ],
      "text/plain": [
       "                  img_path                 upscale_img_path              label\n",
       "0  ./train/TRAIN_00000.jpg  ./upscale_train/TRAIN_00000.png     Ruddy Shelduck\n",
       "1  ./train/TRAIN_00001.jpg  ./upscale_train/TRAIN_00001.png       Gray Wagtail\n",
       "2  ./train/TRAIN_00002.jpg  ./upscale_train/TRAIN_00002.png     Indian Peacock\n",
       "3  ./train/TRAIN_00003.jpg  ./upscale_train/TRAIN_00003.png  Common Kingfisher\n",
       "4  ./train/TRAIN_00004.jpg  ./upscale_train/TRAIN_00004.png  Common Kingfisher"
      ]
     },
     "execution_count": 4,
     "metadata": {},
     "output_type": "execute_result"
    }
   ],
   "source": [
    "train_df = pd.read_csv('./data/train.csv')\n",
    "train_df.head()"
   ]
  },
  {
   "cell_type": "code",
   "execution_count": 5,
   "id": "16316974-793c-4cea-ab93-140ad8f0caad",
   "metadata": {
    "tags": []
   },
   "outputs": [],
   "source": [
    "CFG['num_classes'] = len(train_df['label'].unique())"
   ]
  },
  {
   "cell_type": "code",
   "execution_count": 6,
   "id": "18ea78fb-b9cf-4034-9433-23ef78b95b45",
   "metadata": {
    "tags": []
   },
   "outputs": [
    {
     "data": {
      "text/plain": [
       "{'Ruddy Shelduck': 0,\n",
       " 'Gray Wagtail': 1,\n",
       " 'Indian Peacock': 2,\n",
       " 'Common Kingfisher': 3,\n",
       " 'Common Rosefinch': 4,\n",
       " 'Jungle Babbler': 5,\n",
       " 'Common Tailorbird': 6,\n",
       " 'White-Breasted Waterhen': 7,\n",
       " 'Sarus Crane': 8,\n",
       " 'Common Myna': 9,\n",
       " 'Forest Wagtail': 10,\n",
       " 'Indian Roller': 11,\n",
       " 'Northern Lapwing': 12,\n",
       " 'Indian Grey Hornbill': 13,\n",
       " 'Hoopoe': 14,\n",
       " 'Indian Pitta': 15,\n",
       " 'Red-Wattled Lapwing': 16,\n",
       " 'Cattle Egret': 17,\n",
       " 'White-Breasted Kingfisher': 18,\n",
       " 'Rufous Treepie': 19,\n",
       " 'White Wagtail': 20,\n",
       " 'House Crow': 21,\n",
       " 'Coppersmith Barbet': 22,\n",
       " 'Brown-Headed Barbet': 23,\n",
       " 'Asian Green Bee-Eater': 24}"
      ]
     },
     "execution_count": 6,
     "metadata": {},
     "output_type": "execute_result"
    }
   ],
   "source": [
    "categories = {}\n",
    "for i, c in enumerate(train_df['label'].unique()):\n",
    "    categories[c] = i\n",
    "\n",
    "categories"
   ]
  },
  {
   "cell_type": "markdown",
   "id": "7cd42dc2-d0bd-4ad4-88cd-8d169d0cfd3a",
   "metadata": {},
   "source": [
    "# Define Custom Model"
   ]
  },
  {
   "cell_type": "code",
   "execution_count": 7,
   "id": "f2e835cd-c901-4ef6-b9e3-cc1d9e3d73ae",
   "metadata": {
    "tags": []
   },
   "outputs": [],
   "source": [
    "# Use ML-Decoder\n",
    "class CAFormerCustomModel(nn.Module):\n",
    "    def __init__(self, model_name):\n",
    "        super().__init__()\n",
    "        self.model = timm.create_model(model_name, pretrained=True, num_classes=CFG['num_classes']).to(CFG['device'])\n",
    "        self.model.head = nn.Identity()\n",
    "        \n",
    "        self.ml_decoder_head = MLDecoder(num_classes=CFG['num_classes'],\n",
    "                                         decoder_embedding=768,\n",
    "                                         initial_num_features=768).to(CFG['device'])\n",
    "        \n",
    "    def forward(self, x):\n",
    "        x = self.model.forward_features(x)\n",
    "        x = self.ml_decoder_head(x)\n",
    "        \n",
    "        return x"
   ]
  },
  {
   "cell_type": "code",
   "execution_count": 8,
   "id": "5e247c4b-c53f-4a87-b1c6-90181e6834e8",
   "metadata": {
    "tags": []
   },
   "outputs": [],
   "source": [
    "# Use ML-Decoder\n",
    "class EVACustomModel(nn.Module):\n",
    "    def __init__(self, model_name):\n",
    "        super().__init__()\n",
    "        self.model = timm.create_model(model_name, pretrained=True, num_classes=CFG['num_classes']).to(CFG['device'])\n",
    "        self.model.head = nn.Identity()\n",
    "        \n",
    "        self.ml_decoder_head = MLDecoder(num_classes=CFG['num_classes'],\n",
    "                                         decoder_embedding=768,\n",
    "                                         initial_num_features=self.model.embed_dim).to(CFG['device'])\n",
    "        \n",
    "    def forward(self, x):\n",
    "        x = self.model.forward_features(x)\n",
    "        x = self.ml_decoder_head(x)\n",
    "        \n",
    "        return x"
   ]
  },
  {
   "cell_type": "markdown",
   "id": "9dc12f13-f69b-4bcc-9792-d79530e785b4",
   "metadata": {},
   "source": [
    "# Define Test Dataset"
   ]
  },
  {
   "cell_type": "code",
   "execution_count": 9,
   "id": "ad99578d-13bd-44c1-8ce8-ad1c755f563c",
   "metadata": {
    "tags": []
   },
   "outputs": [],
   "source": [
    "# Datasets\n",
    "class TestDataset(Dataset):\n",
    "    def __init__(self, df, transform=None):\n",
    "        self.df = df\n",
    "        self.transform = transform\n",
    "        \n",
    "    def __getitem__(self, idx):\n",
    "        # origin\n",
    "        img_path = self.df.iloc[idx]['img_path']\n",
    "        image = cv2.imread(os.path.join('./data', img_path))\n",
    "        \n",
    "        if self.transform:\n",
    "            image = self.transform(image=np.array(image))['image']\n",
    "        \n",
    "        return image\n",
    "       \n",
    "    def __len__(self):\n",
    "        return len(self.df)"
   ]
  },
  {
   "cell_type": "markdown",
   "id": "1e269cd2-44ab-4be9-a8dd-a4b7523a5ff2",
   "metadata": {},
   "source": [
    "# Transforms"
   ]
  },
  {
   "cell_type": "code",
   "execution_count": 10,
   "id": "df855e04-1f70-4b34-944f-a26e1f337584",
   "metadata": {},
   "outputs": [],
   "source": [
    "def get_transforms(imgsz):\n",
    "    mean=(0.485, 0.456, 0.406)\n",
    "    std=(0.229, 0.224, 0.225)\n",
    "\n",
    "    test_transform = A.Compose([\n",
    "        A.Resize(imgsz[0], imgsz[1], p=1.0),\n",
    "        A.Normalize(mean=mean, std=std, max_pixel_value=255.0, p=1.0),\n",
    "        ToTensorV2(p=1.0),\n",
    "    ], p=1.0)\n",
    "    \n",
    "    return test_transform"
   ]
  },
  {
   "cell_type": "code",
   "execution_count": 11,
   "id": "e4a7299e-1d16-41cf-ad7d-9d5c440d4b66",
   "metadata": {
    "tags": []
   },
   "outputs": [],
   "source": [
    "# TTA(Test Time Augmentation)\n",
    "tta_transforms = tta.Compose([\n",
    "    tta.HorizontalFlip()\n",
    "])"
   ]
  },
  {
   "cell_type": "markdown",
   "id": "420a7134-06d2-490b-8e9d-15d5d0c5214c",
   "metadata": {},
   "source": [
    "# Make DataLoader"
   ]
  },
  {
   "cell_type": "code",
   "execution_count": 12,
   "id": "248164dd-8bee-489f-97dc-a7486f0842e9",
   "metadata": {
    "tags": []
   },
   "outputs": [],
   "source": [
    "test_df = pd.read_csv('./data/test.csv')\n",
    "caformer_test_dataset = TestDataset(test_df, transform=get_transforms(CFG['caformer']['imgsz']))\n",
    "eva_test_dataset = TestDataset(test_df, transform=get_transforms(CFG['eva']['imgsz']))\n",
    "efficientv2_test_dataset = TestDataset(test_df, transform=get_transforms((256, 256)))\n",
    "                                    \n",
    "caformer_test_dataloader = DataLoader(caformer_test_dataset,\n",
    "                                      batch_size=CFG['batch_size'],\n",
    "                                      num_workers=CFG['num_workers'],\n",
    "                                      shuffle=False)\n",
    "\n",
    "eva_test_dataloader = DataLoader(eva_test_dataset,\n",
    "                                 batch_size=CFG['batch_size'],\n",
    "                                 num_workers=CFG['num_workers'],\n",
    "                                 shuffle=False)\n",
    "                                       \n",
    "                                       \n",
    "efficientv2_test_dataloader = DataLoader(efficientv2_test_dataset,\n",
    "                                         batch_size=CFG['batch_size']*2,\n",
    "                                         num_workers=CFG['num_workers'],\n",
    "                                         shuffle=False)"
   ]
  },
  {
   "cell_type": "markdown",
   "id": "ebfa0663-aec6-4424-9941-a442e49dd3e1",
   "metadata": {},
   "source": [
    "# Convert categorical data to numerical data"
   ]
  },
  {
   "cell_type": "code",
   "execution_count": 13,
   "id": "1f4f9e04-da0f-4cd9-a9d8-077c13fda427",
   "metadata": {
    "tags": []
   },
   "outputs": [],
   "source": [
    "test_label = {v:k for k, v in categories.items()}"
   ]
  },
  {
   "cell_type": "markdown",
   "id": "5f30828e-ff59-4bd3-b6af-17c9c4febe33",
   "metadata": {},
   "source": [
    "# Test(single model)"
   ]
  },
  {
   "cell_type": "code",
   "execution_count": 14,
   "id": "2daafebe-d53f-4d04-90b2-42a671ce0a89",
   "metadata": {
    "tags": []
   },
   "outputs": [],
   "source": [
    "# model = EVACustomModel(CFG['eva']['model_name'])\n",
    "# # model = nn.DataParallel(model)\n",
    "# model.load_state_dict(torch.load('./for_ensemble/eva02_large_patch14_448.mim_in22k_ft_in22k_in1k_sss_fold1_best.pth'))\n",
    "# tta_model = tta.ClassificationTTAWrapper(model, tta_transforms)"
   ]
  },
  {
   "cell_type": "code",
   "execution_count": 15,
   "id": "23462b21-efb3-4942-8a0f-51b5f4a08127",
   "metadata": {
    "tags": []
   },
   "outputs": [],
   "source": [
    "# all_predictions = []\n",
    "\n",
    "# tta_model.eval()\n",
    "# with torch.no_grad():\n",
    "#     for inputs in tqdm.tqdm(eva_test_dataloader):\n",
    "#         inputs = inputs.to(CFG['device'])\n",
    "\n",
    "#         outputs = tta_model(inputs)\n",
    "#         preds = torch.argmax(outputs, dim=-1)\n",
    "        \n",
    "#         all_predictions.extend(preds.detach().cpu().numpy())"
   ]
  },
  {
   "cell_type": "markdown",
   "id": "abe8140d-2d5a-434e-92dc-599367d05f4f",
   "metadata": {},
   "source": [
    "# Test(ensemble)"
   ]
  },
  {
   "cell_type": "code",
   "execution_count": 16,
   "id": "e883da26-4998-4470-a7ad-7b7ad6f91659",
   "metadata": {
    "tags": []
   },
   "outputs": [],
   "source": [
    "caformer_model_list = sorted(glob.glob('./for_ensemble/caformer_b36.sail_in22k_ft_in1k_384_sss_fold*.pth'))\n",
    "eva_model_list = sorted(glob.glob('./for_ensemble/eva02_large_patch14_448.mim_in22k_ft_in22k_in1k_*.pth'))\n",
    "efficientv2_model_list = sorted(glob.glob('./for_ensemble/tf_efficientnetv2_xl.in21k_ft_in1k_sss_fold*.pth'))\n",
    "num_models = len(caformer_model_list) + len(eva_model_list) + len(efficientv2_model_list)\n",
    "all_predictions = None"
   ]
  },
  {
   "cell_type": "code",
   "execution_count": null,
   "id": "171bd954-eba8-4524-bf5b-850c60add5a9",
   "metadata": {},
   "outputs": [],
   "source": [
    "# CAFormer\n",
    "for i, path in enumerate(caformer_model_list):    \n",
    "    print(f'----- Step {i} -----')\n",
    "    \n",
    "    model = CAFormerCustomModel(CFG['caformer']['model_name'])\n",
    "    model = nn.DataParallel(model)\n",
    "    model.load_state_dict(torch.load(path))\n",
    "    tta_model = tta.ClassificationTTAWrapper(model, tta_transforms)\n",
    "    \n",
    "    fold_preds = []\n",
    "    \n",
    "    tta_model.eval()\n",
    "    with torch.no_grad():\n",
    "        for inputs in tqdm.tqdm(caformer_test_dataloader):\n",
    "            inputs = inputs.to(CFG['device'])\n",
    "\n",
    "            outputs = tta_model(inputs)\n",
    "\n",
    "            fold_preds.extend(outputs.detach().cpu().numpy())\n",
    "    \n",
    "    if all_predictions is None:\n",
    "        # oof_preds = np.array(fold_preds) / CFG['skf_n_splits']\n",
    "        all_predictions = np.array(fold_preds) / num_models\n",
    "    else:\n",
    "        # oof_preds += (np.array(fold_preds) / CFG['skf_n_splits'])\n",
    "        all_predictions += (np.array(fold_preds) / num_models)\n",
    "                      \n",
    "    del model\n",
    "    torch.cuda.empty_cache()"
   ]
  },
  {
   "cell_type": "code",
   "execution_count": 24,
   "id": "ddfeb5ea-5408-428c-bdb4-3b1de31b41b0",
   "metadata": {
    "tags": []
   },
   "outputs": [
    {
     "name": "stdout",
     "output_type": "stream",
     "text": [
      "----- fold 0 -----\n"
     ]
    },
    {
     "name": "stderr",
     "output_type": "stream",
     "text": [
      "/home/sdt/miniconda3/envs/js/lib/python3.9/site-packages/torch/functional.py:504: UserWarning: torch.meshgrid: in an upcoming release, it will be required to pass the indexing argument. (Triggered internally at ../aten/src/ATen/native/TensorShape.cpp:3190.)\n",
      "  return _VF.meshgrid(tensors, **kwargs)  # type: ignore[attr-defined]\n",
      "100%|██████████| 425/425 [06:30<00:00,  1.09it/s]\n"
     ]
    },
    {
     "name": "stdout",
     "output_type": "stream",
     "text": [
      "----- fold 1 -----\n"
     ]
    },
    {
     "name": "stderr",
     "output_type": "stream",
     "text": [
      "100%|██████████| 425/425 [06:27<00:00,  1.10it/s]\n"
     ]
    },
    {
     "name": "stdout",
     "output_type": "stream",
     "text": [
      "----- fold 2 -----\n"
     ]
    },
    {
     "name": "stderr",
     "output_type": "stream",
     "text": [
      "100%|██████████| 425/425 [06:27<00:00,  1.10it/s]\n"
     ]
    },
    {
     "name": "stdout",
     "output_type": "stream",
     "text": [
      "----- fold 3 -----\n"
     ]
    },
    {
     "name": "stderr",
     "output_type": "stream",
     "text": [
      "100%|██████████| 425/425 [06:27<00:00,  1.10it/s]\n"
     ]
    },
    {
     "name": "stdout",
     "output_type": "stream",
     "text": [
      "----- fold 4 -----\n"
     ]
    },
    {
     "name": "stderr",
     "output_type": "stream",
     "text": [
      "100%|██████████| 425/425 [06:27<00:00,  1.10it/s]\n"
     ]
    },
    {
     "name": "stdout",
     "output_type": "stream",
     "text": [
      "----- fold 5 -----\n"
     ]
    },
    {
     "name": "stderr",
     "output_type": "stream",
     "text": [
      "100%|██████████| 425/425 [06:27<00:00,  1.10it/s]\n"
     ]
    }
   ],
   "source": [
    "# EVA\n",
    "for i, path in enumerate(eva_model_list):\n",
    "    print(f'----- fold {i} -----')\n",
    "    \n",
    "    model = EVACustomModel(CFG['eva']['model_name'])\n",
    "    model = nn.DataParallel(model)\n",
    "    model.load_state_dict(torch.load(path))\n",
    "    tta_model = tta.ClassificationTTAWrapper(model, tta_transforms)\n",
    "    \n",
    "    fold_preds = []\n",
    "    \n",
    "    tta_model.eval()\n",
    "    with torch.no_grad():\n",
    "        for inputs in tqdm.tqdm(eva_test_dataloader):\n",
    "            inputs = inputs.to(CFG['device'])\n",
    "\n",
    "            outputs = tta_model(inputs)\n",
    "\n",
    "            fold_preds.extend(outputs.detach().cpu().numpy())\n",
    "    \n",
    "    if all_predictions is None:\n",
    "        # oof_preds = np.array(fold_preds) / CFG['skf_n_splits']\n",
    "        all_predictions = np.array(fold_preds) / num_models\n",
    "    else:\n",
    "        # oof_preds += (np.array(fold_preds) / CFG['skf_n_splits'])\n",
    "        all_predictions += (np.array(fold_preds) / num_models)\n",
    "                      \n",
    "    del model\n",
    "    torch.cuda.empty_cache()"
   ]
  },
  {
   "cell_type": "code",
   "execution_count": null,
   "id": "04f444aa-24af-45af-b7dd-3865df6fcc10",
   "metadata": {
    "tags": []
   },
   "outputs": [],
   "source": [
    "# efficientnet\n",
    "for i, path in enumerate(efficientv2_model_list):\n",
    "    print(f'----- fold {i} -----')\n",
    "    \n",
    "    model = timm.create_model('tf_efficientnetv2_xl.in21k_ft_in1k', pretrained=True, num_classes=CFG['num_classes']).to(CFG['device'])\n",
    "    model = nn.DataParallel(model)\n",
    "    model.load_state_dict(torch.load(path))\n",
    "    tta_model = tta.ClassificationTTAWrapper(model, tta_transforms)\n",
    "    \n",
    "    fold_preds = []\n",
    "    \n",
    "    tta_model.eval()\n",
    "    with torch.no_grad():\n",
    "        for inputs in tqdm.tqdm(caformer_test_dataloader):\n",
    "            inputs = inputs.to(CFG['device'])\n",
    "\n",
    "            outputs = tta_model(inputs)\n",
    "\n",
    "            fold_preds.extend(outputs.detach().cpu().numpy())\n",
    "    \n",
    "    if all_predictions is None:\n",
    "        # oof_preds = np.array(fold_preds) / CFG['skf_n_splits']\n",
    "        all_predictions = np.array(fold_preds) / num_models\n",
    "    else:\n",
    "        # oof_preds += (np.array(fold_preds) / CFG['skf_n_splits'])\n",
    "        all_predictions += (np.array(fold_preds) / num_models)\n",
    "                      \n",
    "    del model\n",
    "    torch.cuda.empty_cache()"
   ]
  },
  {
   "cell_type": "code",
   "execution_count": 25,
   "id": "63b1fdfc-7918-4a10-9941-808346601595",
   "metadata": {
    "tags": []
   },
   "outputs": [],
   "source": [
    "ensemble_preds = np.argmax(all_predictions, axis=1)"
   ]
  },
  {
   "cell_type": "markdown",
   "id": "b9f199f1-52d2-430b-90a1-6e744e0046c0",
   "metadata": {},
   "source": [
    "# Submission"
   ]
  },
  {
   "cell_type": "code",
   "execution_count": 26,
   "id": "f00e6e8b-cb92-4218-b22c-4f6376ef9cbf",
   "metadata": {},
   "outputs": [],
   "source": [
    "results = [test_label[p] for p in ensemble_preds]"
   ]
  },
  {
   "cell_type": "code",
   "execution_count": 27,
   "id": "886474a9-ecde-40b5-9ca9-cd6d74e9eb83",
   "metadata": {},
   "outputs": [
    {
     "data": {
      "text/html": [
       "<div>\n",
       "<style scoped>\n",
       "    .dataframe tbody tr th:only-of-type {\n",
       "        vertical-align: middle;\n",
       "    }\n",
       "\n",
       "    .dataframe tbody tr th {\n",
       "        vertical-align: top;\n",
       "    }\n",
       "\n",
       "    .dataframe thead th {\n",
       "        text-align: right;\n",
       "    }\n",
       "</style>\n",
       "<table border=\"1\" class=\"dataframe\">\n",
       "  <thead>\n",
       "    <tr style=\"text-align: right;\">\n",
       "      <th></th>\n",
       "      <th>id</th>\n",
       "      <th>label</th>\n",
       "    </tr>\n",
       "  </thead>\n",
       "  <tbody>\n",
       "    <tr>\n",
       "      <th>0</th>\n",
       "      <td>TEST_00000</td>\n",
       "      <td>Indian Roller</td>\n",
       "    </tr>\n",
       "    <tr>\n",
       "      <th>1</th>\n",
       "      <td>TEST_00001</td>\n",
       "      <td>Indian Roller</td>\n",
       "    </tr>\n",
       "    <tr>\n",
       "      <th>2</th>\n",
       "      <td>TEST_00002</td>\n",
       "      <td>Indian Roller</td>\n",
       "    </tr>\n",
       "    <tr>\n",
       "      <th>3</th>\n",
       "      <td>TEST_00003</td>\n",
       "      <td>Indian Roller</td>\n",
       "    </tr>\n",
       "    <tr>\n",
       "      <th>4</th>\n",
       "      <td>TEST_00004</td>\n",
       "      <td>Indian Roller</td>\n",
       "    </tr>\n",
       "  </tbody>\n",
       "</table>\n",
       "</div>"
      ],
      "text/plain": [
       "           id          label\n",
       "0  TEST_00000  Indian Roller\n",
       "1  TEST_00001  Indian Roller\n",
       "2  TEST_00002  Indian Roller\n",
       "3  TEST_00003  Indian Roller\n",
       "4  TEST_00004  Indian Roller"
      ]
     },
     "execution_count": 27,
     "metadata": {},
     "output_type": "execute_result"
    }
   ],
   "source": [
    "submission = pd.read_csv('./data/sample_submission.csv')\n",
    "submission.head()"
   ]
  },
  {
   "cell_type": "code",
   "execution_count": 28,
   "id": "66c0a5a7-2b37-458d-a597-015c21db0cad",
   "metadata": {
    "tags": []
   },
   "outputs": [],
   "source": [
    "submission['label'] = results\n",
    "submission.to_csv('./submission.csv', index=False)"
   ]
  },
  {
   "cell_type": "code",
   "execution_count": null,
   "id": "e07fdbe5-bda0-40ad-b111-5b32e452ae5d",
   "metadata": {},
   "outputs": [],
   "source": []
  }
 ],
 "metadata": {
  "kernelspec": {
   "display_name": "js",
   "language": "python",
   "name": "js"
  },
  "language_info": {
   "codemirror_mode": {
    "name": "ipython",
    "version": 3
   },
   "file_extension": ".py",
   "mimetype": "text/x-python",
   "name": "python",
   "nbconvert_exporter": "python",
   "pygments_lexer": "ipython3",
   "version": "3.9.16"
  }
 },
 "nbformat": 4,
 "nbformat_minor": 5
}
