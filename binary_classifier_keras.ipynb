{
 "cells": [
  {
   "cell_type": "code",
   "execution_count": 1,
   "metadata": {},
   "outputs": [
    {
     "name": "stderr",
     "output_type": "stream",
     "text": [
      "Using TensorFlow backend.\n"
     ]
    },
    {
     "data": {
      "text/plain": [
       "'2.2.4'"
      ]
     },
     "execution_count": 1,
     "metadata": {},
     "output_type": "execute_result"
    }
   ],
   "source": [
    "import numpy as np\n",
    "import matplotlib.pyplot as plt\n",
    "\n",
    "import keras\n",
    "from keras import models\n",
    "from keras import layers\n",
    "from keras import optimizers\n",
    "from keras import losses\n",
    "from keras import metrics\n",
    "\n",
    "keras.__version__"
   ]
  },
  {
   "cell_type": "code",
   "execution_count": 27,
   "metadata": {},
   "outputs": [],
   "source": [
    "from keras.datasets import imdb\n",
    "# save np.load\n",
    "np_load_old = np.load\n",
    "\n",
    "# modify the default parameters of np.load\n",
    "np.load = lambda *a,**k: np_load_old(*a, allow_pickle=True, **k)\n",
    "\n",
    "# call load_data with allow_pickle implicitly set to true\n",
    "(train_data, train_labels), (test_data, test_labels) = imdb.load_data(num_words=10000)\n",
    "\n",
    "# restore np.load for future normal usage\n",
    "np.load = np_load_old"
   ]
  },
  {
   "cell_type": "code",
   "execution_count": 7,
   "metadata": {},
   "outputs": [
    {
     "name": "stdout",
     "output_type": "stream",
     "text": [
      "(25000,)\n",
      "(25000,)\n",
      "(25000,)\n",
      "(25000,)\n"
     ]
    }
   ],
   "source": [
    "print(train_data.shape)\n",
    "print(train_labels.shape)\n",
    "print(test_data.shape)\n",
    "print(test_labels.shape)"
   ]
  },
  {
   "cell_type": "code",
   "execution_count": 8,
   "metadata": {},
   "outputs": [
    {
     "data": {
      "image/png": "[encoded data removed]",
      "text/plain": [
       "<Figure size 432x288 with 1 Axes>"
      ]
     },
     "metadata": {
      "needs_background": "light"
     },
     "output_type": "display_data"
    }
   ],
   "source": [
    "plt.hist([len(s) for s in train_data] ,bins=50)\n",
    "plt.xlabel('length of data')\n",
    "plt.ylabel('number of data')\n",
    "plt.show()"
   ]
  },
  {
   "cell_type": "code",
   "execution_count": 10,
   "metadata": {},
   "outputs": [
    {
     "name": "stdout",
     "output_type": "stream",
     "text": [
      "[0. 1. 1. ... 0. 0. 0.]\n"
     ]
    }
   ],
   "source": [
    "def vectorize_sequences(sequences, dimension=10000):\n",
    "    # 크기가(len(sequences), dimension))이고 모든 원소가 0인 행렬을 만든다\n",
    "    results = np.zeros((len(sequences), dimension))\n",
    "    for i, sequences in enumerate(sequences):\n",
    "        results[i, sequences] = 1. # results[i]에서 트정 인덱스의 위치를 1로 만든다\n",
    "    return results\n",
    "# 훈련 데이터를 벡터로 변환\n",
    "x_train = vectorize_sequences(train_data)\n",
    "\n",
    "# 테스트 데이터를 벡터로 변환\n",
    "x_test = vectorize_sequences(test_data)\n",
    "\n",
    "print(x_train[0])"
   ]
  },
  {
   "cell_type": "code",
   "execution_count": 11,
   "metadata": {},
   "outputs": [],
   "source": [
    "# 레이블을 벡터로 바꿉니다\n",
    "y_train = np.asarray(train_labels).astype('float32')\n",
    "y_test = np.asarray(test_labels).astype('float32')"
   ]
  },
  {
   "cell_type": "code",
   "execution_count": 13,
   "metadata": {},
   "outputs": [
    {
     "name": "stdout",
     "output_type": "stream",
     "text": [
      "WARNING:tensorflow:From C:\\Users\\Jinsung\\Anaconda3\\lib\\site-packages\\keras\\backend\\tensorflow_backend.py:3376: The name tf.log is deprecated. Please use tf.math.log instead.\n",
      "\n",
      "WARNING:tensorflow:From C:\\Users\\Jinsung\\Anaconda3\\lib\\site-packages\\tensorflow\\python\\ops\\nn_impl.py:180: add_dispatch_support.<locals>.wrapper (from tensorflow.python.ops.array_ops) is deprecated and will be removed in a future version.\n",
      "Instructions for updating:\n",
      "Use tf.where in 2.0, which has the same broadcast rule as np.where\n"
     ]
    }
   ],
   "source": [
    "model = models.Sequential()\n",
    "model.add(layers.Dense(16, activation='relu', input_shape=(10000,)))\n",
    "model.add(layers.Dense(16, activation='relu'))\n",
    "model.add(layers.Dense(1, activation='sigmoid'))\n",
    "model.compile(optimizer='rmsprop', loss='binary_crossentropy', metrics=['accuracy'])"
   ]
  },
  {
   "cell_type": "code",
   "execution_count": 14,
   "metadata": {},
   "outputs": [],
   "source": [
    "# 원본 훈련 데이터에서 10000의 샘플을 떼어서 검증 세트를 만들어야 함\n",
    "x_val = x_train[:10000]\n",
    "partial_x_train = x_train[10000:]\n",
    "\n",
    "y_val = y_train[:10000]\n",
    "partial_y_train = y_train[10000:]"
   ]
  },
  {
   "cell_type": "code",
   "execution_count": 15,
   "metadata": {},
   "outputs": [
    {
     "name": "stdout",
     "output_type": "stream",
     "text": [
      "WARNING:tensorflow:From C:\\Users\\Jinsung\\Anaconda3\\lib\\site-packages\\keras\\backend\\tensorflow_backend.py:986: The name tf.assign_add is deprecated. Please use tf.compat.v1.assign_add instead.\n",
      "\n",
      "Train on 15000 samples, validate on 10000 samples\n",
      "Epoch 1/20\n",
      "15000/15000 [==============================] - 7s 442us/step - loss: 0.5355 - acc: 0.7732 - val_loss: 0.4014 - val_acc: 0.8667\n",
      "Epoch 2/20\n",
      "15000/15000 [==============================] - 5s 319us/step - loss: 0.3219 - acc: 0.8979 - val_loss: 0.3269 - val_acc: 0.8735\n",
      "Epoch 3/20\n",
      "15000/15000 [==============================] - 4s 293us/step - loss: 0.2358 - acc: 0.9234 - val_loss: 0.2860 - val_acc: 0.8885\n",
      "Epoch 4/20\n",
      "15000/15000 [==============================] - 5s 301us/step - loss: 0.1849 - acc: 0.9399 - val_loss: 0.2734 - val_acc: 0.8913\n",
      "Epoch 5/20\n",
      "15000/15000 [==============================] - 5s 308us/step - loss: 0.1526 - acc: 0.9511 - val_loss: 0.2990 - val_acc: 0.8815\n",
      "Epoch 6/20\n",
      "15000/15000 [==============================] - 5s 301us/step - loss: 0.1233 - acc: 0.9616 - val_loss: 0.2870 - val_acc: 0.8866\n",
      "Epoch 7/20\n",
      "15000/15000 [==============================] - 5s 305us/step - loss: 0.1070 - acc: 0.9666 - val_loss: 0.3030 - val_acc: 0.8835\n",
      "Epoch 8/20\n",
      "15000/15000 [==============================] - 5s 301us/step - loss: 0.0862 - acc: 0.9751 - val_loss: 0.3205 - val_acc: 0.8814\n",
      "Epoch 9/20\n",
      "15000/15000 [==============================] - 5s 309us/step - loss: 0.0698 - acc: 0.9821 - val_loss: 0.3398 - val_acc: 0.8811\n",
      "Epoch 10/20\n",
      "15000/15000 [==============================] - 5s 301us/step - loss: 0.0600 - acc: 0.9845 - val_loss: 0.3775 - val_acc: 0.8771\n",
      "Epoch 11/20\n",
      "15000/15000 [==============================] - 4s 293us/step - loss: 0.0469 - acc: 0.9895 - val_loss: 0.3956 - val_acc: 0.8748\n",
      "Epoch 12/20\n",
      "15000/15000 [==============================] - 4s 298us/step - loss: 0.0382 - acc: 0.9923 - val_loss: 0.4172 - val_acc: 0.8756\n",
      "Epoch 13/20\n",
      "15000/15000 [==============================] - 4s 299us/step - loss: 0.0325 - acc: 0.9938 - val_loss: 0.5165 - val_acc: 0.8658\n",
      "Epoch 14/20\n",
      "15000/15000 [==============================] - 4s 294us/step - loss: 0.0259 - acc: 0.9949 - val_loss: 0.4773 - val_acc: 0.8707\n",
      "Epoch 15/20\n",
      "15000/15000 [==============================] - 4s 298us/step - loss: 0.0176 - acc: 0.9977 - val_loss: 0.5144 - val_acc: 0.8644\n",
      "Epoch 16/20\n",
      "15000/15000 [==============================] - 5s 300us/step - loss: 0.0169 - acc: 0.9967 - val_loss: 0.5381 - val_acc: 0.8688\n",
      "Epoch 17/20\n",
      "15000/15000 [==============================] - 4s 292us/step - loss: 0.0124 - acc: 0.9986 - val_loss: 0.5707 - val_acc: 0.8694\n",
      "Epoch 18/20\n",
      "15000/15000 [==============================] - 5s 301us/step - loss: 0.0083 - acc: 0.9997 - val_loss: 0.6338 - val_acc: 0.8608\n",
      "Epoch 19/20\n",
      "15000/15000 [==============================] - 4s 300us/step - loss: 0.0084 - acc: 0.9989 - val_loss: 0.6399 - val_acc: 0.8666\n",
      "Epoch 20/20\n",
      "15000/15000 [==============================] - 4s 299us/step - loss: 0.0041 - acc: 0.9998 - val_loss: 0.6945 - val_acc: 0.8660\n"
     ]
    }
   ],
   "source": [
    "history = model.fit(partial_x_train,\n",
    "                    partial_y_train,\n",
    "                    epochs=20,\n",
    "                    batch_size=512,\n",
    "                    validation_data=(x_val, y_val))"
   ]
  },
  {
   "cell_type": "code",
   "execution_count": 16,
   "metadata": {},
   "outputs": [
    {
     "data": {
      "text/plain": [
       "dict_keys(['val_loss', 'val_acc', 'loss', 'acc'])"
      ]
     },
     "execution_count": 16,
     "metadata": {},
     "output_type": "execute_result"
    }
   ],
   "source": [
    "# 학습 시 발생하는 모든 정보를 담고 있음\n",
    "history_dict = history.history\n",
    "history_dict.keys()"
   ]
  },
  {
   "cell_type": "code",
   "execution_count": 25,
   "metadata": {},
   "outputs": [
    {
     "data": {
      "image/png": "[encoded data removed]",
      "text/plain": [
       "<Figure size 432x288 with 1 Axes>"
      ]
     },
     "metadata": {
      "needs_background": "light"
     },
     "output_type": "display_data"
    }
   ],
   "source": [
    "acc = history.history['acc']\n",
    "val_acc = history.history['val_acc']\n",
    "loss = history.history['loss']\n",
    "val_loss = history.history['val_loss']\n",
    "\n",
    "epochs = range(1, len(acc) + 1)\n",
    "\n",
    "# 'bo'는 파란색 점을 의미합니다\n",
    "plt.plot(epochs, loss, 'bo', label='Training loss')\n",
    "plt.plot(epochs, val_loss, 'b', label='Validation loss')\n",
    "\n",
    "plt.title('Training and validation loss')\n",
    "plt.xlabel('Epochs')\n",
    "plt.ylabel('Loss')\n",
    "plt.legend()\n",
    "\n",
    "plt.show()"
   ]
  },
  {
   "cell_type": "code",
   "execution_count": 18,
   "metadata": {},
   "outputs": [
    {
     "data": {
      "image/png": "[encoded data removed]",
      "text/plain": [
       "<Figure size 432x288 with 1 Axes>"
      ]
     },
     "metadata": {
      "needs_background": "light"
     },
     "output_type": "display_data"
    }
   ],
   "source": [
    "plt.clf() # 그래프를 초기화\n",
    "acc = history_dict['acc']\n",
    "val_acc = history_dict['val_acc']\n",
    "\n",
    "plt.plot(epochs, acc, 'bo', label='Training acc')\n",
    "plt.plot(epochs, val_acc, 'b', label='Validation acc')\n",
    "plt.title('Trining and validation accuracy')\n",
    "plt.xlabel('Epochs')\n",
    "plt.ylabel('Accuracy')\n",
    "plt.legend()\n",
    "\n",
    "plt.show()"
   ]
  },
  {
   "cell_type": "code",
   "execution_count": 22,
   "metadata": {},
   "outputs": [
    {
     "name": "stdout",
     "output_type": "stream",
     "text": [
      "Epoch 1/4\n",
      "25000/25000 [==============================] - 6s 251us/step - loss: 0.4584 - acc: 0.8132\n",
      "Epoch 2/4\n",
      "25000/25000 [==============================] - 5s 191us/step - loss: 0.2630 - acc: 0.9094\n",
      "Epoch 3/4\n",
      "25000/25000 [==============================] - 5s 192us/step - loss: 0.2006 - acc: 0.9282\n",
      "Epoch 4/4\n",
      "25000/25000 [==============================] - 5s 196us/step - loss: 0.1687 - acc: 0.9386\n",
      "25000/25000 [==============================] - 6s 251us/step\n",
      "[0.29871264441490175, 0.8824]\n"
     ]
    }
   ],
   "source": [
    "model = models.Sequential()\n",
    "model.add(layers.Dense(16, activation='relu', input_shape=(10000,)))\n",
    "model.add(layers.Dense(16, activation='relu'))\n",
    "model.add(layers.Dense(1, activation='sigmoid'))\n",
    "model.compile(optimizer='rmsprop', loss='binary_crossentropy', metrics=['accuracy'])\n",
    "\n",
    "# epochs를 4로 낮춤\n",
    "model.fit(x_train, y_train, epochs=4, batch_size=512)\n",
    "results = model.evaluate(x_test, y_test)\n",
    "print(results) # [, acc]"
   ]
  },
  {
   "cell_type": "code",
   "execution_count": 23,
   "metadata": {},
   "outputs": [
    {
     "data": {
      "text/plain": [
       "array([[0.2120977 ],\n",
       "       [0.9994989 ],\n",
       "       [0.9272812 ],\n",
       "       ...,\n",
       "       [0.14252687],\n",
       "       [0.10413891],\n",
       "       [0.70740515]], dtype=float32)"
      ]
     },
     "execution_count": 23,
     "metadata": {},
     "output_type": "execute_result"
    }
   ],
   "source": [
    "# 모델 테스트\n",
    "model.predict(x_test)"
   ]
  },
  {
   "cell_type": "code",
   "execution_count": null,
   "metadata": {},
   "outputs": [],
   "source": []
  }
 ],
 "metadata": {
  "kernelspec": {
   "display_name": "Python 3",
   "language": "python",
   "name": "python3"
  },
  "language_info": {
   "codemirror_mode": {
    "name": "ipython",
    "version": 3
   },
   "file_extension": ".py",
   "mimetype": "text/x-python",
   "name": "python",
   "nbconvert_exporter": "python",
   "pygments_lexer": "ipython3",
   "version": "3.7.3"
  }
 },
 "nbformat": 4,
 "nbformat_minor": 2
}
